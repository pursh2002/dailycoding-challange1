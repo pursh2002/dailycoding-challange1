{
 "cells": [
  {
   "cell_type": "code",
   "execution_count": 1,
   "metadata": {},
   "outputs": [
    {
     "data": {
      "text/plain": [
       "\"\\nObjective \\nIn this challenge, you will work with arithmetic operators. \\nCheck out the Tutorial tab for learning materials and an instructional video.\\nTask \\nGiven the meal price (base cost of a meal), \\ntip percent (the percentage of the meal price being added as tip), \\nand tax percent (the percentage of the meal price being added as tax) \\nfor a meal, find and print the meal's total cost. \\nRound the result to the nearest integer.\\n\\nExample \\nmeal cost = 100\\ntip percent = 15\\ntax percent = 8\\nA tip of 15% * 100 = 15, and the taxes are 8% * 100 = 8. \\nPrint the value and return from the function.\\n\\nFunction Description \\nComplete the solve function in the editor below.\\nsolve has the following parameters:\\nint meal_cost: the cost of food before tip and tax\\nint tip_percent: the tip percentage\\nint tax_percent: the tax percentage\\nReturns The function returns nothing. \\nPrint the calculated value, rounded to the nearest integer.\\nNote: Be sure to use precise values for your calculations, \\nor you may end up with an incorrectly rounded result.\\n\\nSample Input\\n12.00\\n20\\n8 \\n\""
      ]
     },
     "execution_count": 1,
     "metadata": {},
     "output_type": "execute_result"
    }
   ],
   "source": [
    "\"\"\"\n",
    "Objective \n",
    "In this challenge, you will work with arithmetic operators. \n",
    "Check out the Tutorial tab for learning materials and an instructional video.\n",
    "Task \n",
    "Given the meal price (base cost of a meal), \n",
    "tip percent (the percentage of the meal price being added as tip), \n",
    "and tax percent (the percentage of the meal price being added as tax) \n",
    "for a meal, find and print the meal's total cost. \n",
    "Round the result to the nearest integer.\n",
    "\n",
    "Example \n",
    "meal cost = 100\n",
    "tip percent = 15\n",
    "tax percent = 8\n",
    "A tip of 15% * 100 = 15, and the taxes are 8% * 100 = 8. \n",
    "Print the value and return from the function.\n",
    "\n",
    "Function Description \n",
    "Complete the solve function in the editor below.\n",
    "solve has the following parameters:\n",
    "int meal_cost: the cost of food before tip and tax\n",
    "int tip_percent: the tip percentage\n",
    "int tax_percent: the tax percentage\n",
    "Returns The function returns nothing. \n",
    "Print the calculated value, rounded to the nearest integer.\n",
    "Note: Be sure to use precise values for your calculations, \n",
    "or you may end up with an incorrectly rounded result.\n",
    "\n",
    "Sample Input\n",
    "12.00\n",
    "20\n",
    "8 \n",
    "\"\"\""
   ]
  },
  {
   "cell_type": "code",
   "execution_count": 6,
   "metadata": {},
   "outputs": [
    {
     "name": "stdout",
     "output_type": "stream",
     "text": [
      "128\n"
     ]
    }
   ],
   "source": [
    "def meal(meal_cost,tip_percentage,tax_percentage):\n",
    "    tip = (meal_cost * tip_percentage)/100\n",
    "    tax = (meal_cost * tax_percentage)/100\n",
    "    total = int(round(meal_cost+tip+tax))\n",
    "    print(total)\n",
    "    \n",
    "meal(100,20,8)"
   ]
  },
  {
   "cell_type": "code",
   "execution_count": 12,
   "metadata": {},
   "outputs": [
    {
     "name": "stdout",
     "output_type": "stream",
     "text": [
      "100\n",
      "20\n",
      "8\n",
      "128\n"
     ]
    }
   ],
   "source": [
    "def meal(meal_cost,tip_percentage,tax_percentage):\n",
    "    tip = (meal_cost * tip_percentage)/100\n",
    "    tax = (meal_cost * tax_percentage)/100\n",
    "    total = int(round(meal_cost+tip+tax))\n",
    "    print(total)\n",
    "    \n",
    "if __name__ == '__main__':\n",
    "    meal_cost = float(input())\n",
    "    tip_percent = int(input())\n",
    "    tax_percent = int(input())\n",
    "    meal(meal_cost, tip_percent, tax_percent)"
   ]
  },
  {
   "cell_type": "code",
   "execution_count": null,
   "metadata": {},
   "outputs": [],
   "source": []
  }
 ],
 "metadata": {
  "kernelspec": {
   "display_name": "Python 3",
   "language": "python",
   "name": "python3"
  },
  "language_info": {
   "codemirror_mode": {
    "name": "ipython",
    "version": 3
   },
   "file_extension": ".py",
   "mimetype": "text/x-python",
   "name": "python",
   "nbconvert_exporter": "python",
   "pygments_lexer": "ipython3",
   "version": "3.7.6"
  },
  "toc": {
   "base_numbering": 1,
   "nav_menu": {},
   "number_sections": true,
   "sideBar": true,
   "skip_h1_title": false,
   "title_cell": "Table of Contents",
   "title_sidebar": "Contents",
   "toc_cell": false,
   "toc_position": {},
   "toc_section_display": true,
   "toc_window_display": false
  },
  "varInspector": {
   "cols": {
    "lenName": 16,
    "lenType": 16,
    "lenVar": 40
   },
   "kernels_config": {
    "python": {
     "delete_cmd_postfix": "",
     "delete_cmd_prefix": "del ",
     "library": "var_list.py",
     "varRefreshCmd": "print(var_dic_list())"
    },
    "r": {
     "delete_cmd_postfix": ") ",
     "delete_cmd_prefix": "rm(",
     "library": "var_list.r",
     "varRefreshCmd": "cat(var_dic_list()) "
    }
   },
   "types_to_exclude": [
    "module",
    "function",
    "builtin_function_or_method",
    "instance",
    "_Feature"
   ],
   "window_display": false
  }
 },
 "nbformat": 4,
 "nbformat_minor": 2
}

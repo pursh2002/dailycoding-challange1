{
 "cells": [
  {
   "cell_type": "markdown",
   "metadata": {},
   "source": [
    "> A counter is a container that stores elements as dictionary keys, and their counts are stored as dictionary values.\n",
    "counters are accessed just like dictionaries"
   ]
  },
  {
   "cell_type": "code",
   "execution_count": 23,
   "metadata": {},
   "outputs": [
    {
     "name": "stdout",
     "output_type": "stream",
     "text": [
      "Counter({'a': 1, 'b': 1, 'c': 1})\n"
     ]
    }
   ],
   "source": [
    "counter = Counter('abc')\n",
    "print(counter)"
   ]
  },
  {
   "cell_type": "code",
   "execution_count": 26,
   "metadata": {},
   "outputs": [
    {
     "name": "stdout",
     "output_type": "stream",
     "text": [
      "Counter({'Dog': 2, 'Cat': 1, 'Horse': 1})\n"
     ]
    }
   ],
   "source": [
    "# Dictionary as argument to Counter\n",
    "words_list = ['Cat', 'Dog', 'Horse', 'Dog']\n",
    "counter = Counter(words_list)\n",
    "print(counter)"
   ]
  },
  {
   "cell_type": "code",
   "execution_count": 25,
   "metadata": {},
   "outputs": [
    {
     "name": "stdout",
     "output_type": "stream",
     "text": [
      "Counter({'Dog': 2, 'Cat': 1, 'Horse': 1})\n"
     ]
    }
   ],
   "source": [
    "word_count_dict = {'Dog': 2, 'Cat': 1, 'Horse': 1}\n",
    "counter = Counter(word_count_dict)\n",
    "print(counter)"
   ]
  },
  {
   "cell_type": "code",
   "execution_count": 28,
   "metadata": {},
   "outputs": [
    {
     "name": "stdout",
     "output_type": "stream",
     "text": [
      "Counter({'Dog': 2, 'Cat': 1, 'Horse': 1, 'Unicorn': 1})\n"
     ]
    }
   ],
   "source": [
    "# setting count for non-existing key, adds to Counter\n",
    "counter['Unicorn'] = 1\n",
    "print(counter)  "
   ]
  },
  {
   "cell_type": "code",
   "execution_count": 27,
   "metadata": {},
   "outputs": [
    {
     "name": "stdout",
     "output_type": "stream",
     "text": [
      "Counter({'name': 'Pankaj', 'age': 20})\n"
     ]
    }
   ],
   "source": [
    "# Counter works with non-numbers too\n",
    "special_counter = Counter(name='Pankaj', age=20)\n",
    "print(special_counter)  "
   ]
  },
  {
   "cell_type": "code",
   "execution_count": 29,
   "metadata": {},
   "outputs": [
    {
     "name": "stdout",
     "output_type": "stream",
     "text": [
      "Counter({'a': 3, 'c': 1})\n",
      "Counter({'a': 1, 'b': 1})\n",
      "Counter({'a': 1})\n",
      "Counter({'a': 2, 'c': 2})\n"
     ]
    }
   ],
   "source": [
    "# arithmetic operations\n",
    "c1 = Counter(a=2, b=0, c=-1)\n",
    "c2 = Counter(a=1, b=-1, c=2)\n",
    "\n",
    "c = c1 + c2  # return items having +ve count only\n",
    "print(c)  \n",
    "\n",
    "c = c1 - c2  # keeps only +ve count elements\n",
    "print(c)  \n",
    "\n",
    "c = c1 & c2  # intersection min(c1[x], c2[x])\n",
    "print(c)  \n",
    "\n",
    "c = c1 | c2  # union max(c1[x], c2[x])\n",
    "print(c)  "
   ]
  },
  {
   "cell_type": "code",
   "execution_count": 3,
   "metadata": {},
   "outputs": [
    {
     "name": "stdout",
     "output_type": "stream",
     "text": [
      "6\n",
      "['a', 'b', 'c']\n",
      "{'c', 'b', 'a'}\n",
      "{'a': 3, 'b': 3, 'c': 0}\n",
      "dict_items([('a', 3), ('b', 3), ('c', 0)])\n",
      "Counter({'b': 3, 'a': 2})\n",
      "Counter()\n"
     ]
    }
   ],
   "source": [
    "# miscellaneous examples\n",
    "counter = Counter({'a': 3, 'b': 3, 'c': 0})\n",
    "# miscellaneous examples\n",
    "print(sum(counter.values()))  \n",
    "\n",
    "print(list(counter))  \n",
    "print(set(counter))  \n",
    "print(dict(counter))  \n",
    "print(counter.items())  \n",
    "\n",
    "# remove 0 or negative count elements\n",
    "counter = Counter(a=2, b=3, c=-1, d=0)\n",
    "counter = +counter\n",
    "print(counter) \n",
    "\n",
    "# clear all elements\n",
    "counter.clear()\n",
    "print(counter)  \n",
    "# https://www.journaldev.com/20806/python-counter-python-collections-counter\n",
    "# https://data-flair.training/blogs/python-counter/"
   ]
  },
  {
   "cell_type": "code",
   "execution_count": 7,
   "metadata": {},
   "outputs": [
    {
     "name": "stdout",
     "output_type": "stream",
     "text": [
      "Counter({'blue': 3, 'red': 2, 'yellow': 1})\n",
      "blue 3\n",
      "red 2\n",
      "yellow 1\n",
      "green 0\n"
     ]
    }
   ],
   "source": [
    "from collections import Counter \n",
    "  \n",
    "# Create a list \n",
    "z = ['blue', 'red', 'blue', 'yellow', 'blue', 'red'] \n",
    "col_count = Counter(z) \n",
    "print(col_count) \n",
    "  \n",
    "col = ['blue','red','yellow','green'] \n",
    "  \n",
    "# Here green is not in col_count  \n",
    "# so count of green will be zero \n",
    "for color in col: \n",
    "    print (color, col_count[color]) "
   ]
  },
  {
   "cell_type": "markdown",
   "metadata": {},
   "source": [
    "* elements() :\n",
    "> The elements() method returns an iterator that produces all of the items known to the Counter."
   ]
  },
  {
   "cell_type": "code",
   "execution_count": 15,
   "metadata": {},
   "outputs": [
    {
     "name": "stdout",
     "output_type": "stream",
     "text": [
      "Counter({'c': 3, 'b': 2, 'a': 1})\n",
      "['a', 'b', 'b', 'c', 'c', 'c']\n"
     ]
    }
   ],
   "source": [
    "coun = Counter(a=1, b=2, c=3) \n",
    "print(coun) \n",
    "  \n",
    "print(list(coun.elements())) "
   ]
  },
  {
   "cell_type": "code",
   "execution_count": 21,
   "metadata": {},
   "outputs": [
    {
     "name": "stdout",
     "output_type": "stream",
     "text": [
      "p, u, r, s, h, o, t, t, a, m, "
     ]
    }
   ],
   "source": [
    "x = Counter(\"purshottam\") \n",
    "for i in x.elements():\n",
    "    # print (i)\n",
    "    print(i, end = ', ')\n",
    "    "
   ]
  },
  {
   "cell_type": "code",
   "execution_count": 22,
   "metadata": {},
   "outputs": [
    {
     "name": "stdout",
     "output_type": "stream",
     "text": [
      "<itertools.chain object at 0x1068740d0>\n"
     ]
    }
   ],
   "source": [
    "print(x.elements())"
   ]
  },
  {
   "cell_type": "markdown",
   "metadata": {},
   "source": [
    "* most_common() : \n",
    "> most_common() is used to produce a sequence of the n most frequently encountered input values and their respective counts."
   ]
  },
  {
   "cell_type": "code",
   "execution_count": 17,
   "metadata": {},
   "outputs": [
    {
     "name": "stdout",
     "output_type": "stream",
     "text": [
      "f:219\n",
      "d:120\n",
      "c:3\n"
     ]
    }
   ],
   "source": [
    "from collections import Counter \n",
    "coun = Counter(a=1, b=2, c=3, d=120, e=1, f=219)\n",
    "for letter , count in coun.most_common(3):\n",
    "    print('%s:%d'% (letter,count))"
   ]
  },
  {
   "cell_type": "markdown",
   "metadata": {},
   "source": [
    "> Problem 1"
   ]
  },
  {
   "cell_type": "markdown",
   "metadata": {},
   "source": [
    "* John works at a clothing store. He has a large pile of socks that he must pair by color for sale. Given an array of integers representing the color of each sock, determine how many pairs of socks with matching colors there are.\n",
    "For example, there are  socks with colors . There is one pair of color  and one of color . There are three odd socks left, one of each color. The number of pairs is .\n",
    "* Function Description\n",
    "Complete the sockMerchant function in the editor below. It must return an integer representing the number of matching pairs of socks that are available.\n",
    "sockMerchant has the following parameter(s):\n",
    "<ol>n: the number of socks in the pile</ol>\n",
    "<ol> ar: the colors of each sock</ol>\n",
    "* Input Format\n",
    "<ol>The first line contains an integer , the number of socks represented in . </ol>\n",
    "<ol>The second line contains  space-separated integers describing the colors  of the socks in the pile.</ol>\n",
    "\n",
    "> Sample Output = 3"
   ]
  },
  {
   "cell_type": "code",
   "execution_count": 34,
   "metadata": {},
   "outputs": [],
   "source": [
    "n = 9\n",
    "ar = [10, 20, 20, 10, 10, 30, 50, 10, 20]"
   ]
  },
  {
   "cell_type": "code",
   "execution_count": 35,
   "metadata": {},
   "outputs": [
    {
     "name": "stdout",
     "output_type": "stream",
     "text": [
      "3\n"
     ]
    }
   ],
   "source": [
    "import math\n",
    "import os\n",
    "import random\n",
    "import re\n",
    "import sys\n",
    "from collections import Counter\n",
    "\n",
    "# Complete the sockMerchant function below.\n",
    "def sockMerchant(n, ar):\n",
    "    c = Counter()\n",
    "    for i in ar:\n",
    "        c[i] = c.get(i,0) + 1\n",
    "    return (sum([c[i]//2 for i in c]))\n",
    "    #return sum( v//2 for k,v in Counter(ar).items())\n",
    "if __name__ == '__main__':\n",
    "    print(sockMerchant(n, ar))"
   ]
  },
  {
   "cell_type": "code",
   "execution_count": 36,
   "metadata": {},
   "outputs": [
    {
     "name": "stdout",
     "output_type": "stream",
     "text": [
      "9\n",
      "10, 20, 20, 10, 10, 30, 50, 10, 20\n",
      "3\n"
     ]
    }
   ],
   "source": [
    "input()\n",
    "socks = input().strip().split()\n",
    "pairs = 0 \n",
    "for element in set(socks):\n",
    "    pairs += socks.count(element)//2\n",
    "print(pairs)\n"
   ]
  },
  {
   "cell_type": "code",
   "execution_count": 37,
   "metadata": {},
   "outputs": [
    {
     "name": "stdout",
     "output_type": "stream",
     "text": [
      "6\n"
     ]
    }
   ],
   "source": [
    "A = set(socks)\n",
    "for element in A:\n",
    "\tpairs += socks.count(element) // 2\n",
    "print(pairs)"
   ]
  },
  {
   "cell_type": "code",
   "execution_count": 38,
   "metadata": {},
   "outputs": [],
   "source": [
    "# list comprehension"
   ]
  },
  {
   "cell_type": "code",
   "execution_count": 2,
   "metadata": {},
   "outputs": [
    {
     "name": "stdout",
     "output_type": "stream",
     "text": [
      "9\n",
      "10, 20, 20, 10, 10, 30, 50, 10, 20\n",
      "3\n"
     ]
    }
   ],
   "source": [
    "from collections import Counter\n",
    "input()\n",
    "counter = Counter(input().strip().split(' '))\n",
    "print(sum(i//2 for i in counter.values()))\n",
    "\n"
   ]
  },
  {
   "cell_type": "code",
   "execution_count": 41,
   "metadata": {},
   "outputs": [],
   "source": [
    "# Python functionals (map and lambda)"
   ]
  },
  {
   "cell_type": "code",
   "execution_count": 1,
   "metadata": {},
   "outputs": [
    {
     "name": "stdout",
     "output_type": "stream",
     "text": [
      "9\n",
      "10, 20, 20, 10, 10, 30, 50, 10, 20\n",
      "3\n"
     ]
    }
   ],
   "source": [
    "from collections import Counter\n",
    "input()\n",
    "# n = int(input())\n",
    "socks = Counter(input().strip().split(' '))\n",
    "print(sum(map(lambda x:x//2,socks.values())))\n"
   ]
  },
  {
   "cell_type": "code",
   "execution_count": 8,
   "metadata": {},
   "outputs": [
    {
     "name": "stdout",
     "output_type": "stream",
     "text": [
      "Counter({2: 4, 3: 4, 1: 3, 4: 2, 5: 1})\n",
      "dict_items([(1, 3), (2, 4), (3, 4), (4, 2), (5, 1)])\n",
      "dict_keys([1, 2, 3, 4, 5])\n",
      "dict_values([3, 4, 4, 2, 1])\n"
     ]
    }
   ],
   "source": [
    "# Sample Code\n",
    "from collections import Counter\n",
    "myList = [1,1,2,3,4,5,3,2,3,4,2,1,2,3]\n",
    "print (Counter(myList))\n",
    "\n",
    "print (Counter(myList).items())\n",
    "\n",
    "print (Counter(myList).keys())\n",
    "\n",
    "print(Counter(myList).values())\n"
   ]
  },
  {
   "cell_type": "markdown",
   "metadata": {},
   "source": [
    "> Problem 2, https://www.hackerrank.com/challenges/collections-counter/problem"
   ]
  },
  {
   "cell_type": "markdown",
   "metadata": {},
   "source": [
    "* Task\n",
    "> Tom is a shoe shop owner. His shop has X number of shoes. \n",
    "He has a list containing the size of each shoe he has in his shop. \n",
    "There are N number of customers who are willing to pay x(i) amount of money only if they get the shoe of their desired size.\n",
    "Your task is to compute how much money  tom earned.\n",
    "\n",
    "* Input Format\n",
    "<ol> The first line contains X, the number of shoes. </ol>\n",
    "<ol>The second line contains the space separated list of all the shoe sizes in the shop.</ol>\n",
    "<ol>The third line contains N, the number of customers. </ol>\n",
    "<ol>The next N lines contain the space separated values of the shoe size desired by the customer and , the price of the shoe.</ol>"
   ]
  },
  {
   "cell_type": "code",
   "execution_count": 4,
   "metadata": {},
   "outputs": [
    {
     "name": "stdout",
     "output_type": "stream",
     "text": [
      "10\n",
      "2 3 4 5 6 8 7 6 5 18\n",
      "6\n",
      "6 55\n",
      "6 45\n",
      "6 55\n",
      "4 40\n",
      "18 60\n",
      "10 50\n",
      "200\n"
     ]
    }
   ],
   "source": [
    "from collections import Counter\n",
    "n = int(input())\n",
    "s = Counter(map(int,input().split()))\n",
    "x = int(input())\n",
    "total = []\n",
    "for i in range(x):\n",
    "    a,b = map(int,input().split())\n",
    "    if s[a] > 0:\n",
    "        total.append(b)\n",
    "        s.subtract(Counter([a]))\n",
    "\n",
    "print (sum(total))"
   ]
  },
  {
   "cell_type": "code",
   "execution_count": null,
   "metadata": {},
   "outputs": [],
   "source": []
  }
 ],
 "metadata": {
  "kernelspec": {
   "display_name": "Python 3",
   "language": "python",
   "name": "python3"
  },
  "language_info": {
   "codemirror_mode": {
    "name": "ipython",
    "version": 3
   },
   "file_extension": ".py",
   "mimetype": "text/x-python",
   "name": "python",
   "nbconvert_exporter": "python",
   "pygments_lexer": "ipython3",
   "version": "3.7.4"
  }
 },
 "nbformat": 4,
 "nbformat_minor": 2
}

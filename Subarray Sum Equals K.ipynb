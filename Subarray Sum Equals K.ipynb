{
 "cells": [
  {
   "cell_type": "code",
   "execution_count": 12,
   "metadata": {},
   "outputs": [
    {
     "data": {
      "text/plain": [
       "6"
      ]
     },
     "execution_count": 12,
     "metadata": {},
     "output_type": "execute_result"
    }
   ],
   "source": [
    "# Given an array of integers nums and an integer k, return the total number of continuous subarrays whose sum equals to k.\n",
    "class solutions:\n",
    "    def subarraySum(self,nums,k):\n",
    "        preSum = {0:1}\n",
    "        s = 0\n",
    "        res = 0\n",
    "        for num in nums:\n",
    "            s += num \n",
    "            diff = s - k\n",
    "            if diff in preSum:\n",
    "                res += preSum[diff] \n",
    "            if s in preSum:\n",
    "                preSum[s] += 1\n",
    "            else:\n",
    "                preSum[s] = 1 \n",
    "        return s\n",
    "f = solutions()\n",
    "nums = [1,2,3]\n",
    "k = 3\n",
    "f.subarraySum(nums,k)"
   ]
  },
  {
   "cell_type": "code",
   "execution_count": 14,
   "metadata": {},
   "outputs": [
    {
     "data": {
      "text/plain": [
       "3"
      ]
     },
     "execution_count": 14,
     "metadata": {},
     "output_type": "execute_result"
    }
   ],
   "source": [
    "class Solution:\n",
    "    def subarraySum(self, nums, k):\n",
    "        preSums = {0: 1}\n",
    "        s = 0\n",
    "        res = 0\n",
    "        for num in nums:\n",
    "            s += num\n",
    "            res += preSums.get(s - k, 0)\n",
    "            preSums[s] = preSums.get(s, 0) + 1\n",
    "        return res\n",
    "f = solutions()\n",
    "nums = [1,1,1]\n",
    "k = 2\n",
    "f.subarraySum(nums,k)"
   ]
  },
  {
   "cell_type": "code",
   "execution_count": null,
   "metadata": {},
   "outputs": [],
   "source": []
  }
 ],
 "metadata": {
  "kernelspec": {
   "display_name": "Python 3",
   "language": "python",
   "name": "python3"
  },
  "language_info": {
   "codemirror_mode": {
    "name": "ipython",
    "version": 3
   },
   "file_extension": ".py",
   "mimetype": "text/x-python",
   "name": "python",
   "nbconvert_exporter": "python",
   "pygments_lexer": "ipython3",
   "version": "3.7.6"
  },
  "toc": {
   "base_numbering": 1,
   "nav_menu": {},
   "number_sections": true,
   "sideBar": true,
   "skip_h1_title": false,
   "title_cell": "Table of Contents",
   "title_sidebar": "Contents",
   "toc_cell": false,
   "toc_position": {},
   "toc_section_display": true,
   "toc_window_display": false
  },
  "varInspector": {
   "cols": {
    "lenName": 16,
    "lenType": 16,
    "lenVar": 40
   },
   "kernels_config": {
    "python": {
     "delete_cmd_postfix": "",
     "delete_cmd_prefix": "del ",
     "library": "var_list.py",
     "varRefreshCmd": "print(var_dic_list())"
    },
    "r": {
     "delete_cmd_postfix": ") ",
     "delete_cmd_prefix": "rm(",
     "library": "var_list.r",
     "varRefreshCmd": "cat(var_dic_list()) "
    }
   },
   "types_to_exclude": [
    "module",
    "function",
    "builtin_function_or_method",
    "instance",
    "_Feature"
   ],
   "window_display": false
  }
 },
 "nbformat": 4,
 "nbformat_minor": 2
}

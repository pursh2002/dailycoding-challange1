{
 "cells": [
  {
   "cell_type": "code",
   "execution_count": 13,
   "metadata": {},
   "outputs": [
    {
     "name": "stdout",
     "output_type": "stream",
     "text": [
      "[50, 30, 23, 12, 9, 2, 1]\n",
      "50 30 23 12 "
     ]
    }
   ],
   "source": [
    "def kLargest(arr, k):\n",
    "    # Sort the given array arr in reverse \n",
    "    # order.\n",
    "    arr.sort(reverse = True)\n",
    "    print(arr)\n",
    "    # Print the first kth largest elements\n",
    "    for i in range(k):\n",
    "        print (arr[i], end =\" \")\n",
    " \n",
    "# Driver program\n",
    "arr = [1, 23, 12, 9, 30, 2, 50]\n",
    "# n = len(arr)\n",
    "k = 4\n",
    "kLargest(arr, k)\n",
    " "
   ]
  },
  {
   "cell_type": "code",
   "execution_count": 5,
   "metadata": {},
   "outputs": [
    {
     "name": "stdout",
     "output_type": "stream",
     "text": [
      "50 30 22 "
     ]
    }
   ],
   "source": [
    "def klargest(arr,k):\n",
    "    arr.sort(reverse = True)\n",
    "    for i in range(k):\n",
    "        print(arr[i], end= ' ')\n",
    "arr = [1,22,12,9,30,2,50]\n",
    "k = 3\n",
    "klargest(arr,k)\n"
   ]
  },
  {
   "cell_type": "code",
   "execution_count": 8,
   "metadata": {},
   "outputs": [
    {
     "name": "stdout",
     "output_type": "stream",
     "text": [
      "50 30 "
     ]
    }
   ],
   "source": [
    "def klargest(arr,k):\n",
    "    arr.sort(reverse = True)\n",
    "    for i in range(k):\n",
    "        print(arr[i], end= ' ')\n",
    "arr = [1,22,12,9,30,2,50]\n",
    "k = 2 \n",
    "klargest(arr,k)"
   ]
  },
  {
   "cell_type": "code",
   "execution_count": 15,
   "metadata": {},
   "outputs": [
    {
     "name": "stdout",
     "output_type": "stream",
     "text": [
      "1 2 9 "
     ]
    }
   ],
   "source": [
    "# smallest \n",
    "def smallest_arr(arr,k):\n",
    "    arr.sort()\n",
    "    for i in range(k):\n",
    "        print(arr[i], end = ' ')\n",
    "arr = [1,22,12,9,30,2,50]\n",
    "k= 3\n",
    "smallest_arr(arr,k) "
   ]
  },
  {
   "cell_type": "code",
   "execution_count": 16,
   "metadata": {},
   "outputs": [],
   "source": [
    "#https://www.geeksforgeeks.org/k-largestor-smallest-elements-in-an-array/"
   ]
  },
  {
   "cell_type": "code",
   "execution_count": null,
   "metadata": {},
   "outputs": [],
   "source": []
  }
 ],
 "metadata": {
  "kernelspec": {
   "display_name": "Python 3",
   "language": "python",
   "name": "python3"
  },
  "language_info": {
   "codemirror_mode": {
    "name": "ipython",
    "version": 3
   },
   "file_extension": ".py",
   "mimetype": "text/x-python",
   "name": "python",
   "nbconvert_exporter": "python",
   "pygments_lexer": "ipython3",
   "version": "3.7.6"
  },
  "toc": {
   "base_numbering": 1,
   "nav_menu": {},
   "number_sections": true,
   "sideBar": true,
   "skip_h1_title": false,
   "title_cell": "Table of Contents",
   "title_sidebar": "Contents",
   "toc_cell": false,
   "toc_position": {},
   "toc_section_display": true,
   "toc_window_display": false
  },
  "varInspector": {
   "cols": {
    "lenName": 16,
    "lenType": 16,
    "lenVar": 40
   },
   "kernels_config": {
    "python": {
     "delete_cmd_postfix": "",
     "delete_cmd_prefix": "del ",
     "library": "var_list.py",
     "varRefreshCmd": "print(var_dic_list())"
    },
    "r": {
     "delete_cmd_postfix": ") ",
     "delete_cmd_prefix": "rm(",
     "library": "var_list.r",
     "varRefreshCmd": "cat(var_dic_list()) "
    }
   },
   "types_to_exclude": [
    "module",
    "function",
    "builtin_function_or_method",
    "instance",
    "_Feature"
   ],
   "window_display": false
  }
 },
 "nbformat": 4,
 "nbformat_minor": 2
}

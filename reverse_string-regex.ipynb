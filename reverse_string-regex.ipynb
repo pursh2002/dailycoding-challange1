{
 "cells": [
  {
   "cell_type": "code",
   "execution_count": 6,
   "metadata": {},
   "outputs": [
    {
     "name": "stdout",
     "output_type": "stream",
     "text": [
      "Requirement already satisfied: pythonds in /Library/Frameworks/Python.framework/Versions/3.8/lib/python3.8/site-packages (1.2.1)\r\n"
     ]
    }
   ],
   "source": [
    "!pip3 install pythonds"
   ]
  },
  {
   "cell_type": "code",
   "execution_count": null,
   "metadata": {},
   "outputs": [],
   "source": [
    "from pythonds.basic import Stack\n",
    "def reverse_string(stack,input_str):\n",
    "    for i in range (len(input_str)):\n",
    "        stack.push(input_str[i])\n",
    "    rev_str = \"\"\n",
    "    while not stack.is_empty():\n",
    "        rev_str += stack.pop()\n",
    "    return rev_str\n",
    "stack = Stack()\n",
    "input_str = \"Purshottam\"\n",
    "print(reverse_string(stack,input_str)) "
   ]
  },
  {
   "cell_type": "code",
   "execution_count": null,
   "metadata": {},
   "outputs": [],
   "source": [
    "Operators\tDescription\n",
    ".\t Matches with any single character except newline ‘\\n’.\n",
    "?\t match 0 or 1 occurrence of the pattern to its left\n",
    "+\t 1 or more occurrences of the pattern to its left\n",
    "*\t 0 or more occurrences of the pattern to its left\n",
    "\\w\t Matches with a alphanumeric character whereas \\W (upper case W) matches non alphanumeric character.\n",
    "\\d\t  Matches with digits [0-9] and /D (upper case D) matches with non-digits.\n",
    "\\s\t Matches with a single white space character (space, newline, return, tab, form) and \\S (upper case S) matches any non-white space character.\n",
    "\\b\t boundary between word and non-word and /B is opposite of /b\n",
    "[..]\t Matches any single character in a square bracket and [^..] matches any single character not in square bracket\n",
    "\\\t It is used for special meaning characters like \\. to match a period or \\+ for plus sign.\n",
    "^ and $\t ^ and $ match the start or end of the string respectively\n",
    "{n,m}\t Matches at least n and at most m occurrences of preceding expression if we write it as {,m} then it will return at least any minimum occurrence to max m preceding expression.\n",
    "a| b\t Matches either a or b\n",
    "( )\tGroups regular expressions and returns matched text\n",
    "\\t, \\n, \\r\t Matches tab, newline, returns\n",
    "https://docs.python.org/2/library/re.html"
   ]
  },
  {
   "cell_type": "code",
   "execution_count": 13,
   "metadata": {},
   "outputs": [
    {
     "name": "stdout",
     "output_type": "stream",
     "text": [
      "\n",
      " <re.Match object; span=(0, 2), match='AV'>\n"
     ]
    }
   ],
   "source": [
    "import re\n",
    "\n",
    "# matching AV in the given sentence\n",
    "result = re.match(r'AV', 'AV Analytics Vidhya AV')\n",
    "print ('\\n',result)"
   ]
  },
  {
   "cell_type": "code",
   "execution_count": 14,
   "metadata": {},
   "outputs": [
    {
     "name": "stdout",
     "output_type": "stream",
     "text": [
      "\n",
      "Matching string : AV\n"
     ]
    }
   ],
   "source": [
    "result = re.match(r'AV', 'AV Analytics Vidhya AV')\n",
    "print ('\\nMatching string :',result.group(0))"
   ]
  },
  {
   "cell_type": "code",
   "execution_count": 18,
   "metadata": {},
   "outputs": [
    {
     "name": "stdout",
     "output_type": "stream",
     "text": [
      "\n",
      "Result : None\n"
     ]
    }
   ],
   "source": [
    "result = re.match(r'Analytics', 'AV Analytics Vidhya AV')\n",
    "print ('\\nResult :', result)\n"
   ]
  },
  {
   "cell_type": "code",
   "execution_count": 19,
   "metadata": {},
   "outputs": [
    {
     "name": "stdout",
     "output_type": "stream",
     "text": [
      "\n",
      "Starting position of the match : 0\n",
      "Ending position of the match : 2\n"
     ]
    }
   ],
   "source": [
    "#re.match(pattern, string):\n",
    "result = re.match(r'AV', 'AV Analytics Vidhya AV')\n",
    "print ('\\nStarting position of the match :',result.start())\n",
    "print ('Ending position of the match :',result.end())"
   ]
  },
  {
   "cell_type": "code",
   "execution_count": 21,
   "metadata": {},
   "outputs": [
    {
     "name": "stdout",
     "output_type": "stream",
     "text": [
      "Analytics\n"
     ]
    }
   ],
   "source": [
    "#re.search(pattern, string):\n",
    "result = re.search(r'Analytics', 'AV Analytics Vidhya AV')\n",
    "print (result.group(0))"
   ]
  },
  {
   "cell_type": "code",
   "execution_count": 23,
   "metadata": {},
   "outputs": [
    {
     "name": "stdout",
     "output_type": "stream",
     "text": [
      "['AV', 'AV']\n"
     ]
    }
   ],
   "source": [
    "#re.findall (pattern, string):\n",
    "result = re.findall(r'AV', 'AV Analytics Vidhya AV')\n",
    "print (result)"
   ]
  },
  {
   "cell_type": "code",
   "execution_count": 25,
   "metadata": {},
   "outputs": [
    {
     "name": "stdout",
     "output_type": "stream",
     "text": [
      "['Analyt', 'cs V', 'dhya']\n"
     ]
    }
   ],
   "source": [
    "#re.split(pattern, string, [maxsplit=0]):\n",
    "result=re.split(r'i','Analytics Vidhya')\n",
    "print (result)"
   ]
  },
  {
   "cell_type": "code",
   "execution_count": 26,
   "metadata": {},
   "outputs": [
    {
     "data": {
      "text/plain": [
       "['Anal', 'tics']"
      ]
     },
     "execution_count": 26,
     "metadata": {},
     "output_type": "execute_result"
    }
   ],
   "source": [
    "result=re.split(r'y','Analytics')\n",
    "result"
   ]
  },
  {
   "cell_type": "code",
   "execution_count": 30,
   "metadata": {},
   "outputs": [
    {
     "data": {
      "text/plain": [
       "['Analyt', 'cs Vidhya']"
      ]
     },
     "execution_count": 30,
     "metadata": {},
     "output_type": "execute_result"
    }
   ],
   "source": [
    "result=re.split(r'i','Analytics Vidhya',maxsplit=1)\n",
    "result\n"
   ]
  },
  {
   "cell_type": "code",
   "execution_count": 32,
   "metadata": {},
   "outputs": [
    {
     "data": {
      "text/plain": [
       "'AV is largest Analytics community of the World'"
      ]
     },
     "execution_count": 32,
     "metadata": {},
     "output_type": "execute_result"
    }
   ],
   "source": [
    "#re.sub(pattern, repl, string):\n",
    "#It helps to search a pattern and replace with a new sub string. If the pattern is not found, string is returned unchanged.\n",
    "result=re.sub(r'India','the World','AV is largest Analytics community of India')\n",
    "result"
   ]
  },
  {
   "cell_type": "code",
   "execution_count": 37,
   "metadata": {},
   "outputs": [
    {
     "data": {
      "text/plain": [
       "['AV', 'AV']"
      ]
     },
     "execution_count": 37,
     "metadata": {},
     "output_type": "execute_result"
    }
   ],
   "source": [
    "#re.compile(pattern, repl, string):\n",
    "pattern=re.compile('AV')\n",
    "result=pattern.findall('AV Analytics Vidhya AV')\n",
    "result\n"
   ]
  },
  {
   "cell_type": "code",
   "execution_count": 36,
   "metadata": {},
   "outputs": [
    {
     "data": {
      "text/plain": [
       "['AV']"
      ]
     },
     "execution_count": 36,
     "metadata": {},
     "output_type": "execute_result"
    }
   ],
   "source": [
    "result2=pattern.findall('AV is largest analytics community of India')\n",
    "result2"
   ]
  },
  {
   "cell_type": "code",
   "execution_count": 45,
   "metadata": {},
   "outputs": [
    {
     "data": {
      "text/plain": [
       "'Baby Names exercise\\nDefine the extract_names() function below and change main()\\nto call it.\\n\\nFor writing regex, it\\'s nice to include a copy of the target\\ntext for inspiration.\\n\\nHere\\'s what the html looks like in the baby.html files:\\n...\\n<h3 align=\"center\">Popularity in 1990</h3>\\n....\\n<tr align=\"right\"><td>1</td><td>Michael</td><td>Jessica</td>\\n<tr align=\"right\"><td>2</td><td>Christopher</td><td>Ashley</td>\\n<tr align=\"right\"><td>3</td><td>Matthew</td><td>Brittany</td>\\n...\\n\\nSuggested milestones for incremental development:\\n -Extract the year and print it\\n -Extract the names and rank numbers and just print them\\n -Get the names data into a dict and print it\\n -Build the [year, \\'name rank\\', ... ] list and print it\\n -Fix main() to use the extract_names list\\n'"
      ]
     },
     "execution_count": 45,
     "metadata": {},
     "output_type": "execute_result"
    }
   ],
   "source": [
    "import sys\n",
    "import re\n",
    "\n",
    "\"\"\"Baby Names exercise\n",
    "Define the extract_names() function below and change main()\n",
    "to call it.\n",
    "\n",
    "For writing regex, it's nice to include a copy of the target\n",
    "text for inspiration.\n",
    "\n",
    "Here's what the html looks like in the baby.html files:\n",
    "...\n",
    "<h3 align=\"center\">Popularity in 1990</h3>\n",
    "....\n",
    "<tr align=\"right\"><td>1</td><td>Michael</td><td>Jessica</td>\n",
    "<tr align=\"right\"><td>2</td><td>Christopher</td><td>Ashley</td>\n",
    "<tr align=\"right\"><td>3</td><td>Matthew</td><td>Brittany</td>\n",
    "...\n",
    "\n",
    "Suggested milestones for incremental development:\n",
    " -Extract the year and print it\n",
    " -Extract the names and rank numbers and just print them\n",
    " -Get the names data into a dict and print it\n",
    " -Build the [year, 'name rank', ... ] list and print it\n",
    " -Fix main() to use the extract_names list\n",
    "\"\"\""
   ]
  },
  {
   "cell_type": "markdown",
   "metadata": {},
   "source": [
    "cd desktop"
   ]
  },
  {
   "cell_type": "code",
   "execution_count": 53,
   "metadata": {},
   "outputs": [
    {
     "name": "stdout",
     "output_type": "stream",
     "text": [
      "/Users/apple/Desktop\n"
     ]
    }
   ],
   "source": [
    "cd desktop"
   ]
  },
  {
   "cell_type": "code",
   "execution_count": 54,
   "metadata": {},
   "outputs": [
    {
     "name": "stdout",
     "output_type": "stream",
     "text": [
      "/Users/apple/Desktop/google-python-exercises-2\n"
     ]
    }
   ],
   "source": [
    "cd google-python-exercises-2"
   ]
  },
  {
   "cell_type": "code",
   "execution_count": 82,
   "metadata": {},
   "outputs": [],
   "source": [
    "def extract_names(filename):\n",
    "    names = []\n",
    "    \n",
    "    f = open(filename,'rb')\n",
    "    text = f.read()\n",
    "    #get the year\n",
    "    year_match = re.search(r'Popularity\\sin\\s(d\\d\\d\\d)', text)\n",
    "    if not year_match:\n",
    "    # We didn't find a year, so we'll exit with an error message.\n",
    "        sys.stderr.write('Couldn\\'t find the year!\\n')\n",
    "        sys.exit(1)\n",
    "    year = year_match.group(1)\n",
    "    names.append(year)\n",
    "\n",
    "    \n",
    "    tuples = re.findall(r'<td>(\\d+)</td><td>(\\w+)</td>\\<td>(\\w+)</td>',text)\n",
    "    \n",
    "    names_to_rank =  {}\n",
    "    for rank_tuple in tuples:\n",
    "        (rank, boyname, girlname) = rank_tuple  # unpack the tuple into 3 vars\n",
    "        if boyname not in names_to_rank:\n",
    "          names_to_rank[boyname] = rank\n",
    "        if girlname not in names_to_rank:\n",
    "          names_to_rank[girlname] = rank\n",
    "    # get the name in sorted n right order \n",
    "    sorted_names = sorted(names_to_rank.keys())\n",
    "    # build up result list one element per line\n",
    "    for name in sorted_names:\n",
    "        names.append(name + \" \" + names_to_rank[name])\n",
    "    return names"
   ]
  },
  {
   "cell_type": "code",
   "execution_count": null,
   "metadata": {},
   "outputs": [],
   "source": []
  },
  {
   "cell_type": "markdown",
   "metadata": {},
   "source": []
  },
  {
   "cell_type": "code",
   "execution_count": null,
   "metadata": {},
   "outputs": [],
   "source": []
  },
  {
   "cell_type": "code",
   "execution_count": null,
   "metadata": {},
   "outputs": [],
   "source": []
  }
 ],
 "metadata": {
  "kernelspec": {
   "display_name": "Python 3",
   "language": "python",
   "name": "python3"
  },
  "language_info": {
   "codemirror_mode": {
    "name": "ipython",
    "version": 3
   },
   "file_extension": ".py",
   "mimetype": "text/x-python",
   "name": "python",
   "nbconvert_exporter": "python",
   "pygments_lexer": "ipython3",
   "version": "3.7.6"
  },
  "toc": {
   "base_numbering": 1,
   "nav_menu": {},
   "number_sections": true,
   "sideBar": true,
   "skip_h1_title": false,
   "title_cell": "Table of Contents",
   "title_sidebar": "Contents",
   "toc_cell": false,
   "toc_position": {},
   "toc_section_display": true,
   "toc_window_display": false
  },
  "varInspector": {
   "cols": {
    "lenName": 16,
    "lenType": 16,
    "lenVar": 40
   },
   "kernels_config": {
    "python": {
     "delete_cmd_postfix": "",
     "delete_cmd_prefix": "del ",
     "library": "var_list.py",
     "varRefreshCmd": "print(var_dic_list())"
    },
    "r": {
     "delete_cmd_postfix": ") ",
     "delete_cmd_prefix": "rm(",
     "library": "var_list.r",
     "varRefreshCmd": "cat(var_dic_list()) "
    }
   },
   "types_to_exclude": [
    "module",
    "function",
    "builtin_function_or_method",
    "instance",
    "_Feature"
   ],
   "window_display": false
  }
 },
 "nbformat": 4,
 "nbformat_minor": 2
}

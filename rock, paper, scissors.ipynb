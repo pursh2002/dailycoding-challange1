{
 "cells": [
  {
   "cell_type": "code",
   "execution_count": 26,
   "metadata": {},
   "outputs": [
    {
     "name": "stdout",
     "output_type": "stream",
     "text": [
      "Enter a choice (rock, paper, scissors): paper\n",
      "\n",
      "You chose paper, computer chose rock.\n",
      "\n",
      "Paper covers rock! You win!\n"
     ]
    }
   ],
   "source": [
    "import random\n",
    "\n",
    "user_action = input(\"Enter a choice (rock, paper, scissors): \")\n",
    "possible_actions = [\"rock\", \"paper\", \"scissors\"]\n",
    "computer_action = random.choice(possible_actions)\n",
    "print(f\"\\nYou chose {user_action}, computer chose {computer_action}.\\n\")\n",
    "\n",
    "if user_action == computer_action:\n",
    "    print(f\"Both players selected {user_action}. It's a tie!\")\n",
    "elif user_action == \"rock\":\n",
    "    if computer_action == \"scissors\":\n",
    "        print(\"Rock smashes scissors! You win!\")\n",
    "    else:\n",
    "        print(\"Paper covers rock! You lose.\")\n",
    "elif user_action == \"paper\":\n",
    "    if computer_action == \"rock\":\n",
    "        print(\"Paper covers rock! You win!\")\n",
    "    else:\n",
    "        print(\"Scissors cuts paper! You lose.\")\n",
    "elif user_action == \"scissors\":\n",
    "    if computer_action == \"paper\":\n",
    "        print(\"Scissors cuts paper! You win!\")\n",
    "    else:\n",
    "        print(\"Rock smashes scissors! You lose.\")"
   ]
  },
  {
   "cell_type": "code",
   "execution_count": null,
   "metadata": {},
   "outputs": [],
   "source": []
  },
  {
   "cell_type": "code",
   "execution_count": 25,
   "metadata": {},
   "outputs": [
    {
     "name": "stdout",
     "output_type": "stream",
     "text": [
      "\n",
      "\n",
      "Player chooses rock\n",
      "Computer chooses scissors\n",
      "Player Wins!\n",
      "\n",
      "\n",
      "Player chooses Spock\n",
      "Computer chooses paper\n",
      "Computer Wins!\n",
      "\n",
      "\n",
      "Player chooses paper\n",
      "Computer chooses paper\n",
      "Computer and Player Ties\n",
      "\n",
      "\n",
      "Player chooses lizard\n",
      "Computer chooses scissors\n",
      "Computer Wins!\n",
      "\n",
      "\n",
      "Player chooses scissors\n",
      "Computer chooses scissors\n",
      "Computer and Player Ties\n"
     ]
    }
   ],
   "source": [
    "import random\n",
    "# Function converting string to number\n",
    "def name_to_number(name):\n",
    "    if name == 'rock':\n",
    "        name = 0\n",
    "    elif name == 'Spock':\n",
    "        name = 1\n",
    "    elif name == 'paper':\n",
    "        name = 2\n",
    "    elif name == 'lizard':\n",
    "        name = 3\n",
    "    elif name == 'scissors':\n",
    "        name = 4\n",
    "    else :\n",
    "        name = 4\n",
    "    #print error\n",
    "    return name \n",
    "# Function converting number to string\n",
    "def number_to_name(number):\n",
    "    if number == 0:\n",
    "        number ='rock'\n",
    "    elif number == 1:\n",
    "        number = 'Spock'\n",
    "    elif number == 2:\n",
    "        number = \"paper\"\n",
    "    elif number == 3:\n",
    "        number = \"lizard\"\n",
    "    else:\n",
    "        number = \"scissors\"\n",
    "    #print \"Error\"\n",
    "    return number \n",
    "\n",
    "# function to determine the winner\n",
    "def rpsls(player_choice):\n",
    "    nothing = None\n",
    "    print (\"\\n\")\n",
    "    # print out the message for the player's choice\n",
    "    print (\"Player chooses\", player_choice)\n",
    "    player_number = name_to_number(player_choice)\n",
    "    \n",
    "    comp_number = random.randrange(0, 5)\n",
    "    comp_choice = number_to_name(comp_number)\n",
    "    \n",
    "    print (\"Computer chooses\", comp_choice)\n",
    "    difference = ( comp_number - player_number) % 5\n",
    "    if ( difference == 1 or difference == 2 ):\n",
    "        print (\"Computer Wins!\")\n",
    "    elif ( difference == 3 or difference == 4 ):\n",
    "        print (\"Player Wins!\")\n",
    "    else :\n",
    "        print (\"Computer and Player Ties\")\n",
    "    return nothing\n",
    "\n",
    "# Play five games with random guesses from computer.\n",
    "rpsls(\"rock\")\n",
    "rpsls(\"Spock\")\n",
    "rpsls(\"paper\")\n",
    "rpsls(\"lizard\")\n",
    "rpsls(\"scissors\")\n",
    "    \n",
    "    "
   ]
  },
  {
   "cell_type": "code",
   "execution_count": null,
   "metadata": {},
   "outputs": [],
   "source": []
  },
  {
   "cell_type": "code",
   "execution_count": null,
   "metadata": {},
   "outputs": [],
   "source": []
  },
  {
   "cell_type": "code",
   "execution_count": 1,
   "metadata": {},
   "outputs": [],
   "source": [
    "x = [\n",
    "    'a',\n",
    "    'b',\n",
    "    {\n",
    "        'foo': 1,\n",
    "        'bar':\n",
    "        {\n",
    "            'x' : 10,\n",
    "            'y' : 20,\n",
    "            'z' : 30\n",
    "        },\n",
    "        'baz': 3\n",
    "    },\n",
    "    'c',\n",
    "    'd'\n",
    "]"
   ]
  },
  {
   "cell_type": "code",
   "execution_count": 2,
   "metadata": {},
   "outputs": [
    {
     "data": {
      "text/plain": [
       "['a', 'b', {'foo': 1, 'bar': {'x': 10, 'y': 20, 'z': 30}, 'baz': 3}, 'c', 'd']"
      ]
     },
     "execution_count": 2,
     "metadata": {},
     "output_type": "execute_result"
    }
   ],
   "source": [
    "x"
   ]
  },
  {
   "cell_type": "code",
   "execution_count": 10,
   "metadata": {},
   "outputs": [
    {
     "data": {
      "text/plain": [
       "30"
      ]
     },
     "execution_count": 10,
     "metadata": {},
     "output_type": "execute_result"
    }
   ],
   "source": [
    "x[2]['bar']['z']"
   ]
  },
  {
   "cell_type": "code",
   "execution_count": 12,
   "metadata": {},
   "outputs": [
    {
     "name": "stdout",
     "output_type": "stream",
     "text": [
      "10\n"
     ]
    }
   ],
   "source": [
    "var1 = 10\n",
    "while var1 == 10:\n",
    "    print(var1)\n",
    "    var1 = var1 - 5"
   ]
  },
  {
   "cell_type": "code",
   "execution_count": null,
   "metadata": {},
   "outputs": [],
   "source": []
  },
  {
   "cell_type": "code",
   "execution_count": null,
   "metadata": {},
   "outputs": [],
   "source": []
  }
 ],
 "metadata": {
  "kernelspec": {
   "display_name": "Python 3",
   "language": "python",
   "name": "python3"
  },
  "language_info": {
   "codemirror_mode": {
    "name": "ipython",
    "version": 3
   },
   "file_extension": ".py",
   "mimetype": "text/x-python",
   "name": "python",
   "nbconvert_exporter": "python",
   "pygments_lexer": "ipython3",
   "version": "3.7.6"
  },
  "toc": {
   "base_numbering": 1,
   "nav_menu": {},
   "number_sections": true,
   "sideBar": true,
   "skip_h1_title": false,
   "title_cell": "Table of Contents",
   "title_sidebar": "Contents",
   "toc_cell": false,
   "toc_position": {},
   "toc_section_display": true,
   "toc_window_display": false
  },
  "varInspector": {
   "cols": {
    "lenName": 16,
    "lenType": 16,
    "lenVar": 40
   },
   "kernels_config": {
    "python": {
     "delete_cmd_postfix": "",
     "delete_cmd_prefix": "del ",
     "library": "var_list.py",
     "varRefreshCmd": "print(var_dic_list())"
    },
    "r": {
     "delete_cmd_postfix": ") ",
     "delete_cmd_prefix": "rm(",
     "library": "var_list.r",
     "varRefreshCmd": "cat(var_dic_list()) "
    }
   },
   "types_to_exclude": [
    "module",
    "function",
    "builtin_function_or_method",
    "instance",
    "_Feature"
   ],
   "window_display": false
  }
 },
 "nbformat": 4,
 "nbformat_minor": 2
}

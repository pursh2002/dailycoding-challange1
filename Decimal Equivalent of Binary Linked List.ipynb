{
 "cells": [
  {
   "cell_type": "code",
   "execution_count": 19,
   "metadata": {},
   "outputs": [
    {
     "name": "stdout",
     "output_type": "stream",
     "text": [
      "Decimal Value is 11\n"
     ]
    }
   ],
   "source": [
    "# Given a singly linked list of 0s and 1s find its decimal equivalent.\n",
    "# Node Class\n",
    "class Node:\n",
    "    # Function to initialise the  \n",
    "    # node object \n",
    "    def __init__(self,data):\n",
    "        # Assign data \n",
    "        self.data = data\n",
    "        # Initialize next as null \n",
    "        self.next = None \n",
    "\n",
    "# Linked List class contains  \n",
    "# a Node object\n",
    "class LinkedList:\n",
    "    # Function to initialize head \n",
    "    def __init__(self):\n",
    "        self.head = None\n",
    "        \n",
    "    # Returns decimal value of binary \n",
    "    # linked list\n",
    "    def decimal_val(self,head):\n",
    "        # Initialized result \n",
    "        res = 0\n",
    "        \n",
    "        # Traverse linked list \n",
    "        while head:\n",
    "            # Multiply result by 2 and  \n",
    "            # add head's data \n",
    "            res = (res << 1) + head.data\n",
    "            # Move Next\n",
    "            head = head.next\n",
    "        return res \n",
    "    \n",
    "llist = LinkedList() \n",
    "llist.head = Node(1) \n",
    "llist.head.next = Node(0) \n",
    "llist.head.next.next = Node(1) \n",
    "llist.head.next.next.next = Node(1) \n",
    "      \n",
    "print(\"Decimal Value is {}\".format(llist.decimal_val(llist.head))) "
   ]
  },
  {
   "cell_type": "code",
   "execution_count": null,
   "metadata": {},
   "outputs": [],
   "source": []
  }
 ],
 "metadata": {
  "kernelspec": {
   "display_name": "Python 3",
   "language": "python",
   "name": "python3"
  },
  "language_info": {
   "codemirror_mode": {
    "name": "ipython",
    "version": 3
   },
   "file_extension": ".py",
   "mimetype": "text/x-python",
   "name": "python",
   "nbconvert_exporter": "python",
   "pygments_lexer": "ipython3",
   "version": "3.7.6"
  },
  "toc": {
   "base_numbering": 1,
   "nav_menu": {},
   "number_sections": true,
   "sideBar": true,
   "skip_h1_title": false,
   "title_cell": "Table of Contents",
   "title_sidebar": "Contents",
   "toc_cell": false,
   "toc_position": {},
   "toc_section_display": true,
   "toc_window_display": false
  },
  "varInspector": {
   "cols": {
    "lenName": 16,
    "lenType": 16,
    "lenVar": 40
   },
   "kernels_config": {
    "python": {
     "delete_cmd_postfix": "",
     "delete_cmd_prefix": "del ",
     "library": "var_list.py",
     "varRefreshCmd": "print(var_dic_list())"
    },
    "r": {
     "delete_cmd_postfix": ") ",
     "delete_cmd_prefix": "rm(",
     "library": "var_list.r",
     "varRefreshCmd": "cat(var_dic_list()) "
    }
   },
   "types_to_exclude": [
    "module",
    "function",
    "builtin_function_or_method",
    "instance",
    "_Feature"
   ],
   "window_display": false
  }
 },
 "nbformat": 4,
 "nbformat_minor": 2
}

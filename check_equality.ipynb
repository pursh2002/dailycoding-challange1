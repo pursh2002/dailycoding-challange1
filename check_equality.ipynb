{
 "cells": [
  {
   "cell_type": "markdown",
   "metadata": {},
   "source": [
    "> In this challenge, you must verify the equality of two different given parameters: a and b.\n",
    ">> The possible types of the given parameters are:\n",
    "<ul>\n",
    "    <ol>Numbers</ol>\n",
    "    <ol>Strings</ol>\n",
    "    <ol>Booleans (False or True)</ol>\n",
    "    <ol>None</ol>\n",
    "    </ul>\n",
    "    \n",
    " <ol> check_equality(1, True) ➞ False</ol>\n",
    " \n",
    "######A number and a boolean: their type is different\n",
    "\n",
    "<ol> check_equality(0, \"0\") ➞ False </ol>\n",
    "##### A number and a string: their type is different\n",
    "\n",
    "<ol> check_equality(1,  1) ➞ True</ol>\n",
    "###### A number and a number: their type and value are equal\n"
   ]
  },
  {
   "cell_type": "code",
   "execution_count": 37,
   "metadata": {},
   "outputs": [
    {
     "name": "stdout",
     "output_type": "stream",
     "text": [
      "False\n",
      "False\n",
      "True\n"
     ]
    }
   ],
   "source": [
    "def check_equality1(a,b):\n",
    "    return a is b\n",
    "\n",
    "if __name__ == '__main__': \n",
    "    print(check_equality1(1,True))\n",
    "    print(check_equality1(0,\"0\"))\n",
    "    print(check_equality1(1,1))"
   ]
  },
  {
   "cell_type": "code",
   "execution_count": 38,
   "metadata": {},
   "outputs": [
    {
     "name": "stdout",
     "output_type": "stream",
     "text": [
      "False\n",
      "False\n",
      "True\n"
     ]
    }
   ],
   "source": [
    "def check_equality2(a, b):\n",
    "    if type(a) == type(b) and a == b:\n",
    "        return True\n",
    "    return False\n",
    "if __name__ == '__main__': \n",
    "    print(check_equality2(1,True))\n",
    "    print(check_equality2(0,\"0\"))\n",
    "    print(check_equality2(1,1))"
   ]
  },
  {
   "cell_type": "code",
   "execution_count": 40,
   "metadata": {},
   "outputs": [
    {
     "name": "stdout",
     "output_type": "stream",
     "text": [
      "False\n",
      "False\n",
      "True\n"
     ]
    }
   ],
   "source": [
    "def check_equality3(a, b):\n",
    "    \n",
    "\treturn a == b and type(a) == type(b)\n",
    "if __name__ == '__main__': \n",
    "    print(check_equality3(1,True))\n",
    "    print(check_equality3(0,\"0\"))\n",
    "    print(check_equality3(1,1))"
   ]
  },
  {
   "cell_type": "code",
   "execution_count": 41,
   "metadata": {},
   "outputs": [
    {
     "name": "stdout",
     "output_type": "stream",
     "text": [
      "False\n",
      "False\n",
      "True\n"
     ]
    }
   ],
   "source": [
    "def check_equality4(a, b):\n",
    "    first = type(a)\n",
    "    second = type(b)\n",
    "    if first == second:\n",
    "        return True\n",
    "    else:\n",
    "        return False\n",
    "if __name__ == '__main__': \n",
    "    print(check_equality4(1,True))\n",
    "    print(check_equality4(0,\"0\"))\n",
    "    print(check_equality4(1,1))"
   ]
  },
  {
   "cell_type": "code",
   "execution_count": 42,
   "metadata": {},
   "outputs": [
    {
     "name": "stdout",
     "output_type": "stream",
     "text": [
      "False\n",
      "False\n",
      "True\n"
     ]
    }
   ],
   "source": [
    "def check_equality5(a, b):\n",
    "\treturn type(a) == type(b)\n",
    "if __name__ == '__main__': \n",
    "    print(check_equality5(1,True))\n",
    "    print(check_equality5(0,\"0\"))\n",
    "    print(check_equality5(1,1))"
   ]
  },
  {
   "cell_type": "code",
   "execution_count": 43,
   "metadata": {},
   "outputs": [
    {
     "name": "stdout",
     "output_type": "stream",
     "text": [
      "False\n",
      "False\n",
      "True\n"
     ]
    }
   ],
   "source": [
    "def check_equality6(a, b):\n",
    "    if type(a) == type(b):\n",
    "        return True\n",
    "    else:\n",
    "        return False\n",
    "    \n",
    "if __name__ == '__main__': \n",
    "    print(check_equality6(1,True))\n",
    "    print(check_equality6(0,\"0\"))\n",
    "    print(check_equality6(1,1))"
   ]
  },
  {
   "cell_type": "code",
   "execution_count": 44,
   "metadata": {},
   "outputs": [
    {
     "name": "stdout",
     "output_type": "stream",
     "text": [
      "False\n",
      "False\n",
      "True\n"
     ]
    }
   ],
   "source": [
    "def check_equality7(a, b):\n",
    "\treturn False if type(a) != type(b) else True\n",
    "if __name__ == '__main__': \n",
    "    print(check_equality7(1,True))\n",
    "    print(check_equality7(0,\"0\"))\n",
    "    print(check_equality7(1,1))"
   ]
  },
  {
   "cell_type": "code",
   "execution_count": null,
   "metadata": {},
   "outputs": [],
   "source": []
  }
 ],
 "metadata": {
  "kernelspec": {
   "display_name": "Python 3",
   "language": "python",
   "name": "python3"
  },
  "language_info": {
   "codemirror_mode": {
    "name": "ipython",
    "version": 3
   },
   "file_extension": ".py",
   "mimetype": "text/x-python",
   "name": "python",
   "nbconvert_exporter": "python",
   "pygments_lexer": "ipython3",
   "version": "3.7.4"
  }
 },
 "nbformat": 4,
 "nbformat_minor": 2
}

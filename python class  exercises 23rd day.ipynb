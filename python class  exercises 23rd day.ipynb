{
 "cells": [
  {
   "cell_type": "code",
   "execution_count": 12,
   "metadata": {},
   "outputs": [
    {
     "name": "stdout",
     "output_type": "stream",
     "text": [
      "0\n",
      "2\n",
      "11\n",
      "15\n"
     ]
    }
   ],
   "source": [
    "\"\"\"You can use this class to represent how classy someone\n",
    "or something is.\n",
    "\"Classy\" is interchangable with \"fancy\".\n",
    "If you add fancy-looking items, you will increase\n",
    "your \"classiness\".\n",
    "Create a function in \"Classy\" that takes a string as\n",
    "input and adds it to the \"items\" list.\n",
    "Another method should calculate the \"classiness\"\n",
    "value based on the items.\n",
    "The following items have classiness points associated\n",
    "with them:\n",
    "\"tophat\" = 2\n",
    "\"bowtie\" = 4\n",
    "\"monocle\" = 5\n",
    "Everything else has 0 points.\n",
    "Use the test cases below to guide you!\"\"\"\n",
    "\n",
    "class Classy(object):\n",
    "    def __init__(self):\n",
    "        self.items = []\n",
    "        \n",
    "class Classy(object):\n",
    "    def __init__(self):\n",
    "        self.items = []\n",
    "    \n",
    "    def addItem(self, item):\n",
    "        self.items.append(item)\n",
    "        \n",
    "    def getClassiness(self):\n",
    "        classiness = 0\n",
    "        if len(self.items) > 0:\n",
    "            for item in self.items:\n",
    "                if item == \"tophat\":\n",
    "                    classiness += 2\n",
    "                elif item == \"bowtie\":\n",
    "                    classiness += 4\n",
    "                elif item == \"monocle\":\n",
    "                    classiness += 5\n",
    "        return classiness\n",
    "    # Test cases\n",
    "me = Classy()\n",
    "\n",
    "# Should be 0\n",
    "print (me.getClassiness())\n",
    "\n",
    "me.addItem(\"tophat\")\n",
    "# Should be 2\n",
    "print (me.getClassiness())\n",
    "\n",
    "me.addItem(\"bowtie\")\n",
    "me.addItem(\"jacket\")\n",
    "me.addItem(\"monocle\")\n",
    "# Should be 11\n",
    "print (me.getClassiness())\n",
    "\n",
    "me.addItem(\"bowtie\")\n",
    "# Should be 15\n",
    "print (me.getClassiness())"
   ]
  },
  {
   "cell_type": "code",
   "execution_count": 55,
   "metadata": {},
   "outputs": [
    {
     "name": "stdout",
     "output_type": "stream",
     "text": [
      "I\n",
      "MMMDXLIX\n"
     ]
    },
    {
     "data": {
      "text/plain": [
       "'if __name__ == \"__main__\": \\n    number = 3549\\n    print(\"Roman numeral is:\", end = \" \") \\n    py_solution().roman(number) '"
      ]
     },
     "execution_count": 55,
     "metadata": {},
     "output_type": "execute_result"
    }
   ],
   "source": [
    "#\"Converting Decimal Number lying between 1 to 3999 to Roman Numerals\"\n",
    "# https://www.geeksforgeeks.org/converting-decimal-number-lying-between-1-to-3999-to-roman-numerals/\n",
    "class py_solution:\n",
    "    def roman(self, number):\n",
    "        num = [1, 4, 5, 9, 10, 40, 50, 90,  \n",
    "           100, 400, 500, 900, 1000] \n",
    "        sym = [\"I\", \"IV\", \"V\", \"IX\", \"X\", \"XL\",  \n",
    "           \"L\", \"XC\", \"C\", \"CD\", \"D\", \"CM\", \"M\"]\n",
    "        roman_num = \"\"\n",
    "        i = 12\n",
    "        while number:\n",
    "            div = number // num[i]\n",
    "            number %= num[i]\n",
    "            \n",
    "            while div:\n",
    "                print(sym[i], end = \"\")\n",
    "                div -= 1 \n",
    "            i -= 1\n",
    "        return roman_num\n",
    "print(py_solution().roman(1))\n",
    "print(py_solution().roman(3549))\n",
    "\"\"\"if __name__ == \"__main__\": \n",
    "    number = 3549\n",
    "    print(\"Roman numeral is:\", end = \" \") \n",
    "    py_solution().roman(number) \"\"\""
   ]
  },
  {
   "cell_type": "code",
   "execution_count": 54,
   "metadata": {},
   "outputs": [
    {
     "name": "stdout",
     "output_type": "stream",
     "text": [
      "I\n",
      "MMMDXLIX\n"
     ]
    }
   ],
   "source": [
    "\"Convert an integer it to a roman numeral\"\n",
    "class py_solution:\n",
    "    def int_to_Roman(self, num):\n",
    "        val = [\n",
    "            1000, 900, 500, 400,\n",
    "            100, 90, 50, 40,\n",
    "            10, 9, 5, 4,\n",
    "            1\n",
    "            ]\n",
    "        syb = [\n",
    "            \"M\", \"CM\", \"D\", \"CD\",\n",
    "            \"C\", \"XC\", \"L\", \"XL\",\n",
    "            \"X\", \"IX\", \"V\", \"IV\",\n",
    "            \"I\"\n",
    "            ]\n",
    "        roman_num = ''\n",
    "        i = 0\n",
    "        while  num > 0:\n",
    "            for _ in range(num // val[i]):\n",
    "                roman_num += syb[i]\n",
    "                num -= val[i]\n",
    "            i += 1\n",
    "        return roman_num\n",
    "\n",
    "\n",
    "print(py_solution().int_to_Roman(1))\n",
    "print(py_solution().int_to_Roman(3549))"
   ]
  },
  {
   "cell_type": "code",
   "execution_count": null,
   "metadata": {},
   "outputs": [],
   "source": []
  }
 ],
 "metadata": {
  "kernelspec": {
   "display_name": "Python 3",
   "language": "python",
   "name": "python3"
  },
  "language_info": {
   "codemirror_mode": {
    "name": "ipython",
    "version": 3
   },
   "file_extension": ".py",
   "mimetype": "text/x-python",
   "name": "python",
   "nbconvert_exporter": "python",
   "pygments_lexer": "ipython3",
   "version": "3.7.6"
  },
  "toc": {
   "base_numbering": 1,
   "nav_menu": {},
   "number_sections": true,
   "sideBar": true,
   "skip_h1_title": false,
   "title_cell": "Table of Contents",
   "title_sidebar": "Contents",
   "toc_cell": false,
   "toc_position": {},
   "toc_section_display": true,
   "toc_window_display": false
  },
  "varInspector": {
   "cols": {
    "lenName": 16,
    "lenType": 16,
    "lenVar": 40
   },
   "kernels_config": {
    "python": {
     "delete_cmd_postfix": "",
     "delete_cmd_prefix": "del ",
     "library": "var_list.py",
     "varRefreshCmd": "print(var_dic_list())"
    },
    "r": {
     "delete_cmd_postfix": ") ",
     "delete_cmd_prefix": "rm(",
     "library": "var_list.r",
     "varRefreshCmd": "cat(var_dic_list()) "
    }
   },
   "types_to_exclude": [
    "module",
    "function",
    "builtin_function_or_method",
    "instance",
    "_Feature"
   ],
   "window_display": false
  }
 },
 "nbformat": 4,
 "nbformat_minor": 2
}

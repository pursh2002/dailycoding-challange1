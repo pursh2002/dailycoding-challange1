{
 "cells": [
  {
   "cell_type": "code",
   "execution_count": 6,
   "metadata": {},
   "outputs": [
    {
     "name": "stdout",
     "output_type": "stream",
     "text": [
      "3\n",
      "5\n",
      "243\n"
     ]
    }
   ],
   "source": [
    "#python program to implement pow(x,n)\n",
    "x = int(input())\n",
    "y = int(input())\n",
    "class py_solution:\n",
    "   def pow(self, x, n):\n",
    "        if x==0 or x==1 or n==1:\n",
    "            return x \n",
    "\n",
    "        if x==-1:\n",
    "            if n%2 ==0:\n",
    "                return 1\n",
    "            else:\n",
    "                return -1\n",
    "        if n==0:\n",
    "            return 1\n",
    "        if n<0:\n",
    "            return 1/self.pow(x,-n)\n",
    "        val = self.pow(x,n//2)\n",
    "        if n%2 ==0:\n",
    "            return val*val\n",
    "        return val*val*x\n",
    "\n",
    "print(py_solution().pow(x,y));\n",
    "\n",
    "\n",
    "\n",
    "\n",
    "\n",
    "                \n",
    "    "
   ]
  },
  {
   "cell_type": "code",
   "execution_count": 9,
   "metadata": {},
   "outputs": [
    {
     "name": "stdout",
     "output_type": "stream",
     "text": [
      "orginal values:\n",
      " [12, 89, -12.5, 0.443, 1310, 3110, 125, 54]\n",
      "Exponents:\n",
      " [2, 3, 4, 5, 1.5, -3, 2, 0.5]\n",
      "Outcomes:\n",
      " [144]\n",
      "orginal values:\n",
      " [12, 89, -12.5, 0.443, 1310, 3110, 125, 54]\n",
      "Exponents:\n",
      " [2, 3, 4, 5, 1.5, -3, 2, 0.5]\n",
      "Outcomes:\n",
      " [144, 704969]\n",
      "orginal values:\n",
      " [12, 89, -12.5, 0.443, 1310, 3110, 125, 54]\n",
      "Exponents:\n",
      " [2, 3, 4, 5, 1.5, -3, 2, 0.5]\n",
      "Outcomes:\n",
      " [144, 704969, 24414.0625]\n",
      "orginal values:\n",
      " [12, 89, -12.5, 0.443, 1310, 3110, 125, 54]\n",
      "Exponents:\n",
      " [2, 3, 4, 5, 1.5, -3, 2, 0.5]\n",
      "Outcomes:\n",
      " [144, 704969, 24414.0625, 0.017061555810443]\n",
      "orginal values:\n",
      " [12, 89, -12.5, 0.443, 1310, 3110, 125, 54]\n",
      "Exponents:\n",
      " [2, 3, 4, 5, 1.5, -3, 2, 0.5]\n",
      "Outcomes:\n",
      " [144, 704969, 24414.0625, 0.017061555810443, 47414.03800563711]\n",
      "orginal values:\n",
      " [12, 89, -12.5, 0.443, 1310, 3110, 125, 54]\n",
      "Exponents:\n",
      " [2, 3, 4, 5, 1.5, -3, 2, 0.5]\n",
      "Outcomes:\n",
      " [144, 704969, 24414.0625, 0.017061555810443, 47414.03800563711, 3.3244425549790494e-11]\n",
      "orginal values:\n",
      " [12, 89, -12.5, 0.443, 1310, 3110, 125, 54]\n",
      "Exponents:\n",
      " [2, 3, 4, 5, 1.5, -3, 2, 0.5]\n",
      "Outcomes:\n",
      " [144, 704969, 24414.0625, 0.017061555810443, 47414.03800563711, 3.3244425549790494e-11, 15625]\n",
      "orginal values:\n",
      " [12, 89, -12.5, 0.443, 1310, 3110, 125, 54]\n",
      "Exponents:\n",
      " [2, 3, 4, 5, 1.5, -3, 2, 0.5]\n",
      "Outcomes:\n",
      " [144, 704969, 24414.0625, 0.017061555810443, 47414.03800563711, 3.3244425549790494e-11, 15625, 7.3484692283495345]\n"
     ]
    }
   ],
   "source": [
    "values = [\n",
    "    12, 89, -12.5, 0.443,\n",
    "    1310, 3110, 125, 54\n",
    "]\n",
    "\n",
    "# Exponents\n",
    "powers = [\n",
    "    2, 3, 4, 5,\n",
    "    1.5, -3, 2, 0.5\n",
    "]\n",
    "\n",
    "results = []\n",
    "for i, value in enumerate(values):\n",
    "    results.append(pow(value,powers[i]))\n",
    "\n",
    "    print(\"orginal values:\\n\", values)\n",
    "    print(\"Exponents:\\n\",powers)\n",
    "    print(\"Outcomes:\\n\", results)\n"
   ]
  },
  {
   "cell_type": "code",
   "execution_count": null,
   "metadata": {},
   "outputs": [],
   "source": []
  }
 ],
 "metadata": {
  "kernelspec": {
   "display_name": "Python 3",
   "language": "python",
   "name": "python3"
  },
  "language_info": {
   "codemirror_mode": {
    "name": "ipython",
    "version": 3
   },
   "file_extension": ".py",
   "mimetype": "text/x-python",
   "name": "python",
   "nbconvert_exporter": "python",
   "pygments_lexer": "ipython3",
   "version": "3.7.6"
  },
  "toc": {
   "base_numbering": 1,
   "nav_menu": {},
   "number_sections": true,
   "sideBar": true,
   "skip_h1_title": false,
   "title_cell": "Table of Contents",
   "title_sidebar": "Contents",
   "toc_cell": false,
   "toc_position": {},
   "toc_section_display": true,
   "toc_window_display": false
  },
  "varInspector": {
   "cols": {
    "lenName": 16,
    "lenType": 16,
    "lenVar": 40
   },
   "kernels_config": {
    "python": {
     "delete_cmd_postfix": "",
     "delete_cmd_prefix": "del ",
     "library": "var_list.py",
     "varRefreshCmd": "print(var_dic_list())"
    },
    "r": {
     "delete_cmd_postfix": ") ",
     "delete_cmd_prefix": "rm(",
     "library": "var_list.r",
     "varRefreshCmd": "cat(var_dic_list()) "
    }
   },
   "types_to_exclude": [
    "module",
    "function",
    "builtin_function_or_method",
    "instance",
    "_Feature"
   ],
   "window_display": false
  }
 },
 "nbformat": 4,
 "nbformat_minor": 2
}

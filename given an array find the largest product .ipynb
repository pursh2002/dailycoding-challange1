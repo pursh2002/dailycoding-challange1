{
 "cells": [
  {
   "cell_type": "markdown",
   "metadata": {},
   "source": [
    "#Given an array of integers, find the pair of adjacent elements that has the largest product and return that product.\n",
    "So try this:\n",
    "1) Create a variable outside the loop, call it maxSoFar and set it to the product of the first pair.\n",
    "2) Loop through each element (except the final one)\n",
    "2.1) Multiply each element by the one after it.\n",
    "2.2) Compare that value with maxSoFar\n",
    "2.2.1) If it's larger, set maxSoFar to the new product.\n",
    "3) Continue with the loop\n",
    "4) After the loop, print maxSoFar \n",
    "\n"
   ]
  },
  {
   "cell_type": "code",
   "execution_count": 6,
   "metadata": {},
   "outputs": [
    {
     "data": {
      "text/plain": [
       "3015"
      ]
     },
     "execution_count": 6,
     "metadata": {},
     "output_type": "execute_result"
    }
   ],
   "source": [
    "def larg_array(n):\n",
    "    maxsofar = 0\n",
    "    for i in range(0,len(n)-1):\n",
    "        lst2 = n[i] * n[i+1]\n",
    "        if lst2 > maxsofar:\n",
    "            maxsofar = lst2\n",
    "    return maxsofar\n",
    "n=[23,34,5,67,45]\n",
    "larg_array(n)"
   ]
  },
  {
   "cell_type": "code",
   "execution_count": 12,
   "metadata": {},
   "outputs": [
    {
     "name": "stdout",
     "output_type": "stream",
     "text": [
      "2700\n"
     ]
    }
   ],
   "source": [
    "def larg_array1(r):\n",
    "    for i in range(0,len(r)-1):\n",
    "        lis=(r[i] * r[i + 1])\n",
    "    print(lis)\n",
    "r=[30,34,78,60,45]\n",
    "larg_array1(r) "
   ]
  },
  {
   "cell_type": "code",
   "execution_count": null,
   "metadata": {},
   "outputs": [],
   "source": []
  },
  {
   "cell_type": "code",
   "execution_count": 18,
   "metadata": {},
   "outputs": [
    {
     "name": "stdout",
     "output_type": "stream",
     "text": [
      "Max product pair is {6,7}\n"
     ]
    }
   ],
   "source": [
    "#https://www.geeksforgeeks.org/return-a-pair-with-maximum-product-in-array-of-integers/\n",
    "def maxProduct(arr, n):\n",
    " \n",
    "    if (n < 2):\n",
    "        print(\"No pairs exists\")\n",
    "        return\n",
    "     \n",
    "    # Initialize max product pair\n",
    "    a = arr[0]; b = arr[1]\n",
    " \n",
    "    # Traverse through every possible pair\n",
    "    # and keep track of max product\n",
    "    for i in range(0, n):\n",
    "         \n",
    "        for j in range(i + 1, n):\n",
    "            if (arr[i] * arr[j] > a * b):\n",
    "                a = arr[i]; b = arr[j]\n",
    " \n",
    "    print(\"Max product pair is {\", a, \",\", b, \"}\",\n",
    "                                          sep = \"\")\n",
    "     \n",
    "# Driver Code\n",
    "arr = [1, 4, 3, 6, 7, 0]\n",
    "n = len(arr)\n",
    "maxProduct(arr, n)"
   ]
  },
  {
   "cell_type": "code",
   "execution_count": 20,
   "metadata": {},
   "outputs": [
    {
     "name": "stdout",
     "output_type": "stream",
     "text": [
      "Max product pair = {6,7}\n"
     ]
    }
   ],
   "source": [
    "#https://www.geeksforgeeks.org/return-a-pair-with-maximum-product-in-array-of-integers/\n",
    "\n",
    "def maxProduct(arr,n):\n",
    "    # Sort the array\n",
    "    arr.sort()\n",
    "    num1 = num2 = 0\n",
    "    \n",
    "    # Calculate product of two smallest numbers\n",
    "    sum1 = arr[0] * arr[1] \n",
    "    \n",
    "    # Calculate product of two largest numbers\n",
    "    sum2 = arr[n - 1] * arr[n - 2]\n",
    "    \n",
    "    # Print the pairs whose product is greater\n",
    "    if (sum1 > sum2):\n",
    "        num1 = arr[0]\n",
    "        num2 = arr[1]\n",
    "    else:\n",
    "        num1 = arr[n - 2]\n",
    "        num2 = arr[n - 1]\n",
    "    print(\"Max product pair = {\", num1, \",\", num2, \"}\", sep=\"\")\n",
    "    \n",
    "    # Driver Code\n",
    "arr = [1, 4, 3, 6, 7, 0]\n",
    "n = len(arr)\n",
    " \n",
    "maxProduct(arr, n) "
   ]
  },
  {
   "cell_type": "code",
   "execution_count": 22,
   "metadata": {},
   "outputs": [
    {
     "data": {
      "text/plain": [
       "21"
      ]
     },
     "execution_count": 22,
     "metadata": {},
     "output_type": "execute_result"
    }
   ],
   "source": [
    "def max_array_of_size(arr,k):\n",
    "    max_sum = 0\n",
    "    w_sum = 0\n",
    "    for i in range(len(arr) - k+1):\n",
    "        w_sum = 0 \n",
    "        for j in range(i, i+k):\n",
    "            w_sum += arr[j]\n",
    "        max_sum = max(max_sum,w_sum)\n",
    "    \n",
    "    return max_sum\n",
    "max_array_of_size([3, 4, 5, 6, 7, 8],3)"
   ]
  },
  {
   "cell_type": "code",
   "execution_count": null,
   "metadata": {},
   "outputs": [],
   "source": []
  }
 ],
 "metadata": {
  "kernelspec": {
   "display_name": "Python 3",
   "language": "python",
   "name": "python3"
  },
  "language_info": {
   "codemirror_mode": {
    "name": "ipython",
    "version": 3
   },
   "file_extension": ".py",
   "mimetype": "text/x-python",
   "name": "python",
   "nbconvert_exporter": "python",
   "pygments_lexer": "ipython3",
   "version": "3.7.6"
  },
  "toc": {
   "base_numbering": 1,
   "nav_menu": {},
   "number_sections": true,
   "sideBar": true,
   "skip_h1_title": false,
   "title_cell": "Table of Contents",
   "title_sidebar": "Contents",
   "toc_cell": false,
   "toc_position": {},
   "toc_section_display": true,
   "toc_window_display": false
  },
  "varInspector": {
   "cols": {
    "lenName": 16,
    "lenType": 16,
    "lenVar": 40
   },
   "kernels_config": {
    "python": {
     "delete_cmd_postfix": "",
     "delete_cmd_prefix": "del ",
     "library": "var_list.py",
     "varRefreshCmd": "print(var_dic_list())"
    },
    "r": {
     "delete_cmd_postfix": ") ",
     "delete_cmd_prefix": "rm(",
     "library": "var_list.r",
     "varRefreshCmd": "cat(var_dic_list()) "
    }
   },
   "types_to_exclude": [
    "module",
    "function",
    "builtin_function_or_method",
    "instance",
    "_Feature"
   ],
   "window_display": false
  }
 },
 "nbformat": 4,
 "nbformat_minor": 2
}

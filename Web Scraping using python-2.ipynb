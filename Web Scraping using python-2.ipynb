{
 "cells": [
  {
   "cell_type": "code",
   "execution_count": 19,
   "metadata": {},
   "outputs": [],
   "source": [
    "import requests \n",
    "import pandas as pd\n",
    "from bs4 import BeautifulSoup"
   ]
  },
  {
   "cell_type": "code",
   "execution_count": 2,
   "metadata": {},
   "outputs": [],
   "source": [
    "# Step 1: Find the URL that you want to scrape"
   ]
  },
  {
   "cell_type": "code",
   "execution_count": 4,
   "metadata": {},
   "outputs": [],
   "source": [
    "url='https://www.amazon.in/product-reviews/B07HGLBZ5R/ref=cm_cr_arp_d_viewopt_sr?ie=UTF8&filterByStar=all_stars&reviewerType=all_reviews&pageNumber=1#reviews-filter-bar'\n"
   ]
  },
  {
   "cell_type": "code",
   "execution_count": 8,
   "metadata": {},
   "outputs": [],
   "source": [
    "review_html = requests.get(url).text"
   ]
  },
  {
   "cell_type": "code",
   "execution_count": 15,
   "metadata": {},
   "outputs": [
    {
     "data": {
      "text/plain": [
       "'<html lang=\"en-in\" class='"
      ]
     },
     "execution_count": 15,
     "metadata": {},
     "output_type": "execute_result"
    }
   ],
   "source": [
    "review_html[15:40]"
   ]
  },
  {
   "cell_type": "code",
   "execution_count": null,
   "metadata": {},
   "outputs": [],
   "source": [
    "# Step 2: Get the source HTML code as text"
   ]
  },
  {
   "cell_type": "code",
   "execution_count": 16,
   "metadata": {},
   "outputs": [],
   "source": [
    "review_html = requests.get(url).text"
   ]
  },
  {
   "cell_type": "code",
   "execution_count": 17,
   "metadata": {},
   "outputs": [],
   "source": [
    "# Step 3: Convert that text into a bs4 lxml object"
   ]
  },
  {
   "cell_type": "code",
   "execution_count": 32,
   "metadata": {},
   "outputs": [],
   "source": [
    "soup = BeautifulSoup(review_html,\"html5lib\")"
   ]
  },
  {
   "cell_type": "code",
   "execution_count": 34,
   "metadata": {},
   "outputs": [],
   "source": [
    "# !pip3 install lxml"
   ]
  },
  {
   "cell_type": "code",
   "execution_count": 68,
   "metadata": {},
   "outputs": [
    {
     "data": {
      "text/plain": [
       "[<script>var aPageStart = (new Date()).getTime();</script>,\n",
       " <meta charset=\"utf-8\"/>,\n",
       " <meta content=\"on\" http-equiv=\"x-dns-prefetch-control\"/>,\n",
       " <link href=\"https://images-eu.ssl-images-amazon.com\" rel=\"dns-prefetch\"/>,\n",
       " <link href=\"https://m.media-amazon.com\" rel=\"dns-prefetch\"/>,\n",
       " <link href=\"https://completion.amazon.com\" rel=\"dns-prefetch\"/>,\n",
       " <link href=\"https://images-eu.ssl-images-amazon.com/images/I/51tax7M48-L._RC|516fcOUE-HL.css,01evdoiemkL.css,01K+Ps1DeEL.css,31pdJv9iSzL.css,01VszOUTO6L.css,11UGC+GXOPL.css,21LK7jaicML.css,11L58Qpo0GL.css,21kyTi1FabL.css,01ruG+gDPFL.css,01YhS3Cs-hL.css,21GwE3cR-yL.css,019SHZnt8RL.css,01wAWQRgXzL.css,21bWcRJYNIL.css,11WgRxUdJRL.css,01dU8+SPlFL.css,11ocrgKoE-L.css,01SHjPML6tL.css,111-D2qRjiL.css,01QrWuRrZ-L.css,310Imb6LqFL.css,01piEq-AdwL.css,11Z1a0FxSIL.css,01cbS3UK11L.css,21mOLw+nYYL.css,01L8Y-JFEhL.css_.css?AUIClients/AmazonUI#not-trident.185427-T1\" rel=\"stylesheet\"/>,\n",
       " <script>\n",
       " (function(f,h,R,A){function G(a){x&&x.tag&&x.tag(q(\":\",\"aui\",a))}function v(a,b){x&&x.count&&x.count(\"aui:\"+a,0===b?0:b||(x.count(\"aui:\"+a)||0)+1)}function p(a){try{return a.test(navigator.userAgent)}catch(b){return!1}}function y(a,b,c){a.addEventListener?a.addEventListener(b,c,!1):a.attachEvent&&a.attachEvent(\"on\"+b,c)}function q(a,b,c,e){b=b&&c?b+a+c:b||c;return e?q(a,b,e):b}function H(a,b,c){try{Object.defineProperty(a,b,{value:c,writable:!1})}catch(e){a[b]=c}return c}function ua(a,b){var c=a.length,\n",
       " e=c,g=function(){e--||(S.push(b),T||(setTimeout(U,0),T=!0))};for(g();c--;)da[a[c]]?g():(B[a[c]]=B[a[c]]||[]).push(g)}function va(a,b,c,e,g){var d=h.createElement(a?\"script\":\"link\");y(d,\"error\",e);g&&y(d,\"load\",g);a?(d.type=\"text/javascript\",d.async=!0,c&&/AUIClients|images[/]I/.test(b)&&d.setAttribute(\"crossorigin\",\"anonymous\"),d.src=b):(d.rel=\"stylesheet\",d.href=b);h.getElementsByTagName(\"head\")[0].appendChild(d)}function ea(a,b){function c(c,e){function g(){va(b,c,h,function(b){!I&&h?(h=!1,v(\"resource_retry\"),\n",
       " g()):(v(\"resource_error\"),a.log(\"Asset failed to load: \"+c,I?\"WARN\":A));b&&b.stopPropagation?b.stopPropagation():f.event&&(f.event.cancelBubble=!0)},e)}if(fa[c])return!1;fa[c]=!0;v(\"resource_count\");var h=!0;return!g()}if(b){var e=0,g=0;c.andConfirm=function(a,b){return c(a,function(){e++;b&&b.apply(this,arguments)})};c.confirm=function(){g++};c.getCsriCounters=function(){return{reqs:e,full:g}}}return c}function wa(a,b,c){for(var e={name:a,guard:function(c){return b.guardFatal(a,c)},logError:function(c,\n",
       " d,e){b.logError(c,d,e,a)}},g=[],d=0;d<c.length;d++)J.hasOwnProperty(c[d])&&(g[d]=V.hasOwnProperty(c[d])?V[c[d]](J[c[d]],e):J[c[d]]);return g}function C(a,b,c,e,g){return function(d,h){function n(){var a=null;e?a=h:\"function\"===typeof h&&(p.start=D(),a=h.apply(f,wa(d,k,l)),p.end=D());if(b){J[d]=a;a=d;for(da[a]=!0;(B[a]||[]).length;)B[a].shift()();delete B[a]}p.done=!0}var k=g||this;\"function\"===typeof d&&(h=d,d=A);b&&(d=d?d.replace(ga,\"\"):\"__NONAME__\",W.hasOwnProperty(d)&&k.error(q(\", reregistered by \",\n",
       " q(\" by \",d+\" already registered\",W[d]),k.attribution),d),W[d]=k.attribution);for(var l=[],m=0;m<a.length;m++)l[m]=a[m].replace(ga,\"\");var p=ha[d||\"anon\"+ ++xa]={depend:l,registered:D(),namespace:k.namespace};c?n():ua(l,k.guardFatal(d,n));return{decorate:function(a){V[d]=k.guardFatal(d,a)}}}}function ia(a){return function(){var b=Array.prototype.slice.call(arguments);return{execute:C(b,!1,a,!1,this),register:C(b,!0,a,!1,this)}}}function X(a,b){return function(c,e){e||(e=c,c=A);var g=this.attribution;\n",
       " return function(){z.push(b||{attribution:g,name:c,logLevel:a});var d=e.apply(this,arguments);z.pop();return d}}}function K(a,b){this.load={js:ea(this,!0),css:ea(this)};H(this,\"namespace\",b);H(this,\"attribution\",a)}function ja(){h.body?r.trigger(\"a-bodyBegin\"):setTimeout(ja,20)}function E(a,b){a.className=Y(a,b)+\" \"+b}function Y(a,b){return(\" \"+a.className+\" \").split(\" \"+b+\" \").join(\" \").replace(/^ | $/g,\"\")}function ka(a){try{return a()}catch(b){return!1}}function L(){if(M){var a={w:f.innerWidth||\n",
       " n.clientWidth,h:f.innerHeight||n.clientHeight};5<Math.abs(a.w-Z.w)||50<a.h-Z.h?(Z=a,N=4,(a=k.mobile||k.tablet?450<a.w&&a.w>a.h:1250<=a.w)?E(n,\"a-ws\"):n.className=Y(n,\"a-ws\")):0<N&&(N--,la=setTimeout(L,16))}}function ya(a){(M=a===A?!M:!!a)&&L()}function za(){return M}function u(a,b){return\"sw:\"+(b||\"\")+\":\"+a+\":\"}function ma(){na.forEach(function(a){G(a)})}function t(a){na.push(a)}function oa(a,b,c,e){if(c){b=p(/Chrome/i)&&!p(/Edge/i)&&!p(/OPR/i)&&!a.capabilities.isAmazonApp&&!p(new RegExp(aa+\"bwv\"+\n",
       " aa+\"b\"));var g=u(e,\"browser\"),d=u(e,\"prod_mshop\"),f=u(e,\"beta_mshop\");!a.capabilities.isAmazonApp&&c.browser&&b&&(t(g+\"supported\"),c.browser.action(g,e));!b&&c.browser&&t(g+\"unsupported\");c.prodMshop&&t(d+\"unsupported\");c.betaMshop&&t(f+\"unsupported\")}}\"use strict\";var O=R.now=R.now||function(){return+new R},D=function(a){return a&&a.now?a.now.bind(a):O}(f.performance),P=D(),l=f.AmazonUIPageJS||f.P;if(l&&l.when&&l.register){for(var P=[],m=h.currentScript;m;m=m.parentElement)m.id&&P.push(m.id);return l.log(\"A copy of P has already been loaded on this page.\",\n",
       " \"FATAL\",P.join(\" \"))}var x=f.ue;G();G(\"aui_build_date:3.20.1-2020-01-30\");var S=[],T=!1,U;U=function(){for(var a=setTimeout(U,0),b=O();S.length;)if(S.shift()(),50<O()-b)return;clearTimeout(a);T=!1};var da={},B={},fa={},I=!1;y(f,\"beforeunload\",function(){I=!0;setTimeout(function(){I=!1},1E4)});var ga=/^prv:/,W={},J={},V={},ha={},xa=0,aa=String.fromCharCode(92),F,z=[],pa=f.onerror;f.onerror=function(a,b,c,e,g){g&&\"object\"===typeof g||(g=Error(a,b,c),g.columnNumber=e,g.stack=b||c||e?q(aa,g.message,\"at \"+\n",
       " q(\":\",b,c,e)):A);var d=z.pop()||{};g.attribution=q(\":\",g.attribution||d.attribution,d.name);g.logLevel=d.logLevel;g.attribution&&console&&console.log&&console.log([g.logLevel||\"ERROR\",a,\"thrown by\",g.attribution].join(\" \"));z=[];pa&&(d=[].slice.call(arguments),d[4]=g,pa.apply(f,d))};K.prototype={logError:function(a,b,c,e){b={message:b,logLevel:c||\"ERROR\",attribution:q(\":\",this.attribution,e)};if(f.ueLogError)return f.ueLogError(a||b,a?b:null),!0;console&&console.error&&(console.log(b),console.error(a));\n",
       " return!1},error:function(a,b,c,e){a=Error(q(\":\",e,a,c));a.attribution=q(\":\",this.attribution,b);throw a;},guardError:X(),guardFatal:X(\"FATAL\"),guardCurrent:function(a){var b=z[z.length-1];return b?X(b.logLevel,b).call(this,a):a},log:function(a,b,c){return this.logError(null,a,b,c)},declare:C([],!0,!0,!0),register:C([],!0),execute:C([]),AUI_BUILD_DATE:\"3.20.1-2020-01-30\",when:ia(),now:ia(!0),trigger:function(a,b,c){var e=O();this.declare(a,{data:b,pageElapsedTime:e-(f.aPageStart||NaN),triggerTime:e});\n",
       " c&&c.instrument&&F.when(\"prv:a-logTrigger\").execute(function(b){b(a)})},handleTriggers:function(){this.log(\"handleTriggers deprecated\")},attributeErrors:function(a){return new K(a)},_namespace:function(a,b){return new K(a,b)}};var r=H(f,\"AmazonUIPageJS\",new K);F=r._namespace(\"PageJS\",\"AmazonUI\");F.declare(\"prv:p-debug\",ha);r.declare(\"p-recorder-events\",[]);r.declare(\"p-recorder-stop\",function(){});H(f,\"P\",r);ja();if(h.addEventListener){var qa;h.addEventListener(\"DOMContentLoaded\",qa=function(){r.trigger(\"a-domready\");\n",
       " h.removeEventListener(\"DOMContentLoaded\",qa,!1)},!1)}var n=h.documentElement,ba=function(){var a=[\"O\",\"ms\",\"Moz\",\"Webkit\"],b=h.createElement(\"div\");return{testGradients:function(){b.style.cssText=\"background-image:-webkit-gradient(linear,left top,right bottom,from(#1E4),to(white));background-image:-webkit-linear-gradient(left top,#1E4,white);background-image:linear-gradient(left top,#1E4,white);\";return~b.style.backgroundImage.indexOf(\"gradient\")},test:function(c){var e=c.charAt(0).toUpperCase()+\n",
       " c.substr(1);c=(a.join(e+\" \")+e+\" \"+c).split(\" \");for(e=c.length;e--;)if(\"\"===b.style[c[e]])return!0;return!1},testTransform3d:function(){var a=!1;f.matchMedia&&(a=f.matchMedia(\"(-webkit-transform-3d)\").matches);return a}}}(),l=n.className,ra=/(^| )a-mobile( |$)/.test(l),sa=/(^| )a-tablet( |$)/.test(l),k={audio:function(){return!!h.createElement(\"audio\").canPlayType},video:function(){return!!h.createElement(\"video\").canPlayType},canvas:function(){return!!h.createElement(\"canvas\").getContext},svg:function(){return!!h.createElementNS&&\n",
       " !!h.createElementNS(\"http://www.w3.org/2000/svg\",\"svg\").createSVGRect},offline:function(){return navigator.hasOwnProperty&&navigator.hasOwnProperty(\"onLine\")&&navigator.onLine},dragDrop:function(){return\"draggable\"in h.createElement(\"span\")},geolocation:function(){return!!navigator.geolocation},history:function(){return!(!f.history||!f.history.pushState)},webworker:function(){return!!f.Worker},autofocus:function(){return\"autofocus\"in h.createElement(\"input\")},inputPlaceholder:function(){return\"placeholder\"in\n",
       " h.createElement(\"input\")},textareaPlaceholder:function(){return\"placeholder\"in h.createElement(\"textarea\")},localStorage:function(){return\"localStorage\"in f&&null!==f.localStorage},orientation:function(){return\"orientation\"in f},touch:function(){return\"ontouchend\"in h},gradients:function(){return ba.testGradients()},hires:function(){var a=f.devicePixelRatio&&1.5<=f.devicePixelRatio||f.matchMedia&&f.matchMedia(\"(min-resolution:144dpi)\").matches;v(\"hiRes\"+(ra?\"Mobile\":sa?\"Tablet\":\"Desktop\"),a?1:0);\n",
       " return a},transform3d:function(){return ba.testTransform3d()},touchScrolling:function(){return p(/Windowshop|android|OS ([5-9]|[1-9][0-9]+)(_[0-9]{1,2})+ like Mac OS X|Chrome|Silk|Firefox|Trident.+?; Touch/i)},ios:function(){return p(/OS [1-9][0-9]*(_[0-9]*)+ like Mac OS X/i)&&!p(/trident|Edge/i)},android:function(){return p(/android.([1-9]|[L-Z])/i)&&!p(/trident|Edge/i)},mobile:function(){return ra},tablet:function(){return sa},rtl:function(){return\"rtl\"===n.dir}};for(m in k)k.hasOwnProperty(m)&&\n",
       " (k[m]=ka(k[m]));for(var ca=\"textShadow textStroke boxShadow borderRadius borderImage opacity transform transition\".split(\" \"),Q=0;Q<ca.length;Q++)k[ca[Q]]=ka(function(){return ba.test(ca[Q])});var M=!0,la=0,Z={w:0,h:0},N=4;L();y(f,\"resize\",function(){clearTimeout(la);N=4;L()});var ta={getItem:function(a){try{return f.localStorage.getItem(a)}catch(b){}},setItem:function(a,b){try{return f.localStorage.setItem(a,b)}catch(c){}}};n.className=Y(n,\"a-no-js\");E(n,\"a-js\");!p(/OS [1-8](_[0-9]*)+ like Mac OS X/i)||\n",
       " f.navigator.standalone||p(/safari/i)||E(n,\"a-ember\");l=[];for(m in k)k.hasOwnProperty(m)&&k[m]&&l.push(\"a-\"+m.replace(/([A-Z])/g,function(a){return\"-\"+a.toLowerCase()}));E(n,l.join(\" \"));n.setAttribute(\"data-aui-build-date\",\"3.20.1-2020-01-30\");r.register(\"p-detect\",function(){return{capabilities:k,localStorage:k.localStorage&&ta,toggleResponsiveGrid:ya,responsiveGridEnabled:za}});p(/UCBrowser/i)||k.localStorage&&E(n,ta.getItem(\"a-font-class\"));r.declare(\"a-event-revised-handling\",!1);var w;try{w=\n",
       " navigator.serviceWorker}catch(a){G(\"sw:nav_err\")}w&&(y(w,\"message\",function(a){a&&a.data&&v(a.data.k,a.data.v)}),w.controller&&w.controller.postMessage(\"MSG-RDY\"));var na=[],l={reg:{},unreg:{}};l.reg.browser={action:function(a,b){w.register(\"/service-worker.js\").then(function(){v(a+\"success\")}).catch(function(c){r.logError(c,\"[AUI SW] Failed to \"+b+\" service worker: \");v(a+\"failure\")})}};(function(a){var b=a.reg,c=a.unreg;w&&w.getRegistrations?(F.when(\"A\",\"a-util\").execute(function(a,b){oa(a,b,c,\n",
       " \"unregister\")}),y(f,\"load\",function(){F.when(\"A\",\"a-util\").execute(function(a,c){oa(a,c,b,\"register\");ma()})})):(b&&(b.browser&&t(u(\"register\",\"browser\")+\"unsupported\"),b.prodMshop&&t(u(\"register\",\"prod_mshop\")+\"unsupported\"),b.betaMshop&&t(u(\"register\",\"beta_mshop\")+\"unsupported\")),c&&(c.browser&&t(u(\"unregister\",\"browser\")+\"unsupported\"),c.prodMshop&&t(u(\"unregister\",\"prod_mshop\")+\"unsupported\"),c.betaMshop&&t(u(\"unregister\",\"beta_mshop\")+\"unsupported\")),ma())})(l);r.declare(\"a-fix-event-off\",!1);\n",
       " v(\"pagejs:pkgExecTime\",D()-P)})(window,document,Date);\n",
       " (function(b){function r(a,h,g){function m(a,b){a=a.slice();l&&a.unshift({});for(var c=0;c<k.length;c++)a.splice(k[c],0,b[c]);b=g.apply(null,a);return l?a[0]:b}\"string\"!==typeof a&&b.P.error(\"C001\");if(!n[a]){n[a]=!0;g||(g=h,h=[]);a=a.split(\":\",2);var c=a[1]?a[0]:void 0,f=(a[1]||a[0]).replace(/@capability\\//,\"@c/\"),e=c?b.P._namespace(c):b.P,p=!f.lastIndexOf(\"@c/\",0);a=[];for(var l=!1,q=[],k=[],c=0;c<h.length;c++){var d=h[c];\"module\"!==d&&\"require\"!==d||e.error(\"C002\");\"exports\"===d?(c&&e.error(\"C003\"),\n",
       " l=!0):d.lastIndexOf(\"@p/\",0)?d.lastIndexOf(\"@c/\",0)?a.push(\"mix:\"+d):(k.push(c),q.push(d)):a.push(d.substr(3))}e.when.apply(e,a).register(\"mix:\"+f,function(){var a=[].slice.call(arguments);return p||k.length?{capabilities:q,cardModuleFactory:function(b){b=m(a,b);b.P=e;return b}}:m(a)});p&&e.when(\"mix:@amzn/mix.client-runtime\",\"mix:\"+f).execute(function(a,b){a.registerCapabilityModule(f,b)});e.when(\"mix:\"+f).register(\"xcp:\"+f,function(a){return a})}}\"use strict\";var n={};b.mix_d||((b.Promise?P:P.when(\"3p-promise\")).register(\"@p/promise-is-ready\",\n",
       " function(a){b.Promise=b.Promise||a}),b.mix_d=function(a,b,g){P.when(\"@p/promise-is-ready\").execute(\"@p/mix-d-deps\",function(){r(a,b,g)})},b.xcp_d=b.mix_d,P.when(\"mix:@amzn/mix.client-runtime\").execute(function(a){P.declare(\"xcp:@xcp/runtime\",a)}))})(window);\n",
       " (window.AmazonUIPageJS ? AmazonUIPageJS : P).when('sp.load.js').execute(function() {\n",
       "   (window.AmazonUIPageJS ? AmazonUIPageJS : P).load.js('https://images-eu.ssl-images-amazon.com/images/I/61-6nKPKyWL.js?AUIClients/AmazonUIjQuery');\n",
       "   (window.AmazonUIPageJS ? AmazonUIPageJS : P).load.js('https://images-eu.ssl-images-amazon.com/images/I/11-BZEJ8lnL._RC|61GQ9IdK7HL.js,21Of0-9HPCL.js,012FVc3131L.js,119KAWlHU6L.js,51CF7BmbF2L.js,11AHlQhPRjL.js,016iHgpF74L.js,11aNYFFS5hL.js,116tgw9TSaL.js,211-p4GRUCL.js,01PoLXBDXWL.js,61o1PgWsnML.js,01ezj5Rkz1L.js,11BOgvnnntL.js,31UWuPgtTtL.js,01rpauTep4L.js,01iyxuSGj4L.js,01lTGtP6gkL.js_.js?AUIClients/AmazonUI#191015-T1');\n",
       "   (window.AmazonUIPageJS ? AmazonUIPageJS : P).load.js('https://images-eu.ssl-images-amazon.com/images/I/41fgtWDW42L.js?AUIClients/CardJsRuntimeBuzzCopyBuild');\n",
       " });\n",
       " </script>,\n",
       " <style>.nav-sprite-v1 .nav-sprite, .nav-sprite-v1 .nav-icon {\n",
       "   background-image: url(https://images-eu.ssl-images-amazon.com/images/G/31/gno/sprites/nav-sprite-global_bluebeacon-V3-1x_optimized._CB468962293_.png);\n",
       "   background-position: 0 1000px;\n",
       "   background-repeat: repeat-x;\n",
       " }\n",
       " .nav-spinner {\n",
       "   background-image: url(https://images-eu.ssl-images-amazon.com/images/G/31/javascripts/lib/popover/images/snake._CB138350263_.gif);\n",
       "   background-position: center center;\n",
       "   background-repeat: no-repeat;\n",
       " }\n",
       " .nav-bluebeacon .nav-cobrand {\n",
       "   background-image: url(https://images-eu.ssl-images-amazon.com/images/G/31/gno/images/irctc/IRCTC_Logo-dark-small._CB314487787_.png);\n",
       " }\n",
       " .nav-timeline-icon, .nav-access-image, .nav-timeline-prime-icon {\n",
       "   background-image: url(https://images-eu.ssl-images-amazon.com/images/G/31/gno/sprites/timeline_sprite_1x._CB439967752_.png);\n",
       "   background-repeat: no-repeat;\n",
       " }\n",
       " </style>,\n",
       " <link href=\"https://images-eu.ssl-images-amazon.com/images/I/21rQMjhzuzL._RC|71GH-wDgErL.css,11-cFHXC3yL.css,31BfdeXRyGL.css,21lRUdwotiL.css,41tc24mJIGL.css,11G4HxMtMSL.css,31OvHRW+XiL.css,01XHMOHpK1L.css_.css?AUIClients/AmazonNavigationDesktopMetaAsset#desktop.in\" rel=\"stylesheet\"/>]"
      ]
     },
     "execution_count": 68,
     "metadata": {},
     "output_type": "execute_result"
    }
   ],
   "source": [
    "# Step4: Decide/Identify the tags\n",
    "soup.head()\n"
   ]
  },
  {
   "cell_type": "code",
   "execution_count": 39,
   "metadata": {},
   "outputs": [],
   "source": [
    "# Step5: Get the value(s) present in each tag into a list/tuple/dictionary\n"
   ]
  },
  {
   "cell_type": "code",
   "execution_count": 40,
   "metadata": {},
   "outputs": [
    {
     "data": {
      "text/plain": [
       "[<a class=\"a-size-base a-link-normal review-title a-color-base review-title-content a-text-bold\" data-hook=\"review-title\" href=\"/gp/customer-reviews/R2X5AXUCM166BC?ASIN=B07HGLBZ5R\">\n",
       " \n",
       " \n",
       " \n",
       " \n",
       " \n",
       " \n",
       " \n",
       "   \n",
       "   \n",
       "     <span>\"My phone isn't responding\"</span>\n",
       "   \n",
       " </a>,\n",
       " <a class=\"a-size-base a-link-normal review-title a-color-base review-title-content a-text-bold\" data-hook=\"review-title\" href=\"/gp/customer-reviews/RR6WYS9TAZQ09?ASIN=B07HGLBZ5R\">\n",
       " \n",
       " \n",
       " \n",
       " \n",
       " \n",
       " \n",
       " \n",
       "   \n",
       "   \n",
       "     <span>Disappointed with the quality</span>\n",
       "   \n",
       " </a>,\n",
       " <a class=\"a-size-base a-link-normal review-title a-color-base review-title-content a-text-bold\" data-hook=\"review-title\" href=\"/gp/customer-reviews/RIB81K2JQVX9R?ASIN=B07HGLBZ5R\">\n",
       " \n",
       " \n",
       " \n",
       " \n",
       " \n",
       " \n",
       " \n",
       "   \n",
       "   \n",
       "     <span>Really disappointed</span>\n",
       "   \n",
       " </a>,\n",
       " <a class=\"a-size-base a-link-normal review-title a-color-base review-title-content a-text-bold\" data-hook=\"review-title\" href=\"/gp/customer-reviews/R13PK7KLCGODK3?ASIN=B07HGLBZ5R\">\n",
       " \n",
       " \n",
       " \n",
       " \n",
       " \n",
       " \n",
       " \n",
       "   \n",
       "   \n",
       "     <span>*True flagship*</span>\n",
       "   \n",
       " </a>,\n",
       " <a class=\"a-size-base a-link-normal review-title a-color-base review-title-content a-text-bold\" data-hook=\"review-title\" href=\"/gp/customer-reviews/RNDNE4KPOYNS5?ASIN=B07HGLBZ5R\">\n",
       " \n",
       " \n",
       " \n",
       " \n",
       " \n",
       " \n",
       " \n",
       "   \n",
       "   \n",
       "     <span>Bang for the bucks.</span>\n",
       "   \n",
       " </a>,\n",
       " <a class=\"a-size-base a-link-normal review-title a-color-base review-title-content a-text-bold\" data-hook=\"review-title\" href=\"/gp/customer-reviews/R3825SFW2G28WA?ASIN=B07HGLBZ5R\">\n",
       " \n",
       " \n",
       " \n",
       " \n",
       " \n",
       " \n",
       " \n",
       "   \n",
       "   \n",
       "     <span>Waste of money</span>\n",
       "   \n",
       " </a>,\n",
       " <a class=\"a-size-base a-link-normal review-title a-color-base review-title-content a-text-bold\" data-hook=\"review-title\" href=\"/gp/customer-reviews/R24KRIQQJDLYRX?ASIN=B07HGLBZ5R\">\n",
       " \n",
       " \n",
       " \n",
       " \n",
       " \n",
       " \n",
       " \n",
       "   \n",
       "   \n",
       "     <span>Hanging issue</span>\n",
       "   \n",
       " </a>,\n",
       " <a class=\"a-size-base a-link-normal review-title a-color-base review-title-content a-text-bold\" data-hook=\"review-title\" href=\"/gp/customer-reviews/R18XH5IELUJC1T?ASIN=B07HGLBZ5R\">\n",
       " \n",
       " \n",
       " \n",
       " \n",
       " \n",
       " \n",
       " \n",
       "   \n",
       "   \n",
       "     <span>Over hiped device!!</span>\n",
       "   \n",
       " </a>,\n",
       " <a class=\"a-size-base a-link-normal review-title a-color-base review-title-content a-text-bold\" data-hook=\"review-title\" href=\"/gp/customer-reviews/R284Z4JTE5AC27?ASIN=B07HGLBZ5R\">\n",
       " \n",
       " \n",
       " \n",
       " \n",
       " \n",
       " \n",
       " \n",
       "   \n",
       "   \n",
       "     <span>Thumbprint scanner malfunction?</span>\n",
       "   \n",
       " </a>,\n",
       " <a class=\"a-size-base a-link-normal review-title a-color-base review-title-content a-text-bold\" data-hook=\"review-title\" href=\"/gp/customer-reviews/RKSCLTNQZ5QMD?ASIN=B07HGLBZ5R\">\n",
       " \n",
       " \n",
       " \n",
       " \n",
       " \n",
       " \n",
       " \n",
       "   \n",
       "   \n",
       "     <span>It pains me to give oneplus a 1 star rating</span>\n",
       "   \n",
       " </a>]"
      ]
     },
     "execution_count": 40,
     "metadata": {},
     "output_type": "execute_result"
    }
   ],
   "source": [
    "review_titles = soup.findAll('a', {'data-hook':'review-title','class': 'a-size-base a-link-normal review-title a-color-base review-title-content a-text-bold'})\n",
    "review_titles"
   ]
  },
  {
   "cell_type": "code",
   "execution_count": 41,
   "metadata": {},
   "outputs": [
    {
     "data": {
      "text/plain": [
       "10"
      ]
     },
     "execution_count": 41,
     "metadata": {},
     "output_type": "execute_result"
    }
   ],
   "source": [
    "len( review_titles )"
   ]
  },
  {
   "cell_type": "code",
   "execution_count": 42,
   "metadata": {},
   "outputs": [
    {
     "data": {
      "text/plain": [
       "'\\n\\n\\n\\n\\n\\n\\n\\n  \\n  \\n    Disappointed with the quality\\n  \\n'"
      ]
     },
     "execution_count": 42,
     "metadata": {},
     "output_type": "execute_result"
    }
   ],
   "source": [
    "title = review_titles[1]\n",
    "title.text"
   ]
  },
  {
   "cell_type": "code",
   "execution_count": 44,
   "metadata": {},
   "outputs": [],
   "source": [
    "# Step6: Create a data frame out of the final list and name the columns as CustName, ReviewTitle, ReviewText, review_date, and star_rating."
   ]
  },
  {
   "cell_type": "code",
   "execution_count": 47,
   "metadata": {},
   "outputs": [
    {
     "data": {
      "text/plain": [
       "0    \\n\\n\\n\\n\\n\\n\\n\\n  \\n  \\n    \"My phone isn't re...\n",
       "1    \\n\\n\\n\\n\\n\\n\\n\\n  \\n  \\n    Disappointed with ...\n",
       "2    \\n\\n\\n\\n\\n\\n\\n\\n  \\n  \\n    Really disappointe...\n",
       "3    \\n\\n\\n\\n\\n\\n\\n\\n  \\n  \\n    *True flagship*\\n  \\n\n",
       "4    \\n\\n\\n\\n\\n\\n\\n\\n  \\n  \\n    Bang for the bucks...\n",
       "5     \\n\\n\\n\\n\\n\\n\\n\\n  \\n  \\n    Waste of money\\n  \\n\n",
       "6      \\n\\n\\n\\n\\n\\n\\n\\n  \\n  \\n    Hanging issue\\n  \\n\n",
       "7    \\n\\n\\n\\n\\n\\n\\n\\n  \\n  \\n    Over hiped device!...\n",
       "8    \\n\\n\\n\\n\\n\\n\\n\\n  \\n  \\n    Thumbprint scanner...\n",
       "9    \\n\\n\\n\\n\\n\\n\\n\\n  \\n  \\n    It pains me to giv...\n",
       "Name: ReviewTitle, dtype: object"
      ]
     },
     "execution_count": 47,
     "metadata": {},
     "output_type": "execute_result"
    }
   ],
   "source": [
    "titles = []\n",
    "for review_title in review_titles:\n",
    "    titles.append( review_title.text )\n",
    "titles = pd.Series(titles,name=\"ReviewTitle\")\n",
    "titles\n",
    "    "
   ]
  },
  {
   "cell_type": "code",
   "execution_count": 48,
   "metadata": {},
   "outputs": [
    {
     "data": {
      "text/plain": [
       "[<span class=\"a-size-base a-color-secondary review-date\" data-hook=\"review-date\">19 May 2019</span>,\n",
       " <span class=\"a-size-base a-color-secondary review-date\" data-hook=\"review-date\">22 May 2019</span>,\n",
       " <span class=\"a-size-base a-color-secondary review-date\" data-hook=\"review-date\">19 May 2019</span>,\n",
       " <span class=\"a-size-base a-color-secondary review-date\" data-hook=\"review-date\">19 May 2019</span>,\n",
       " <span class=\"a-size-base a-color-secondary review-date\" data-hook=\"review-date\">19 May 2019</span>,\n",
       " <span class=\"a-size-base a-color-secondary review-date\" data-hook=\"review-date\">19 May 2019</span>,\n",
       " <span class=\"a-size-base a-color-secondary review-date\" data-hook=\"review-date\">19 May 2019</span>,\n",
       " <span class=\"a-size-base a-color-secondary review-date\" data-hook=\"review-date\">19 May 2019</span>,\n",
       " <span class=\"a-size-base a-color-secondary review-date\" data-hook=\"review-date\">19 May 2019</span>,\n",
       " <span class=\"a-size-base a-color-secondary review-date\" data-hook=\"review-date\">19 May 2019</span>]"
      ]
     },
     "execution_count": 48,
     "metadata": {},
     "output_type": "execute_result"
    }
   ],
   "source": [
    "review_dates = soup.findAll('span',{\"data-hook\":\"review-date\",\"class\":\"a-size-base a-color-secondary review-date\"})\n",
    "review_dates"
   ]
  },
  {
   "cell_type": "code",
   "execution_count": 49,
   "metadata": {},
   "outputs": [
    {
     "data": {
      "text/plain": [
       "0    19 May 2019\n",
       "1    22 May 2019\n",
       "2    19 May 2019\n",
       "3    19 May 2019\n",
       "4    19 May 2019\n",
       "5    19 May 2019\n",
       "6    19 May 2019\n",
       "7    19 May 2019\n",
       "8    19 May 2019\n",
       "9    19 May 2019\n",
       "Name: review_date, dtype: object"
      ]
     },
     "execution_count": 49,
     "metadata": {},
     "output_type": "execute_result"
    }
   ],
   "source": [
    "date = []\n",
    "for ele in review_dates:\n",
    "    date.append(ele.text)\n",
    "date = pd.Series(date, name = \"review_date\")\n",
    "date"
   ]
  },
  {
   "cell_type": "code",
   "execution_count": 50,
   "metadata": {},
   "outputs": [
    {
     "data": {
      "text/plain": [
       "10"
      ]
     },
     "execution_count": 50,
     "metadata": {},
     "output_type": "execute_result"
    }
   ],
   "source": [
    "review_texts = soup.findAll('span', {'class': 'a-size-base review-text review-text-content'})\n",
    "len( review_texts )"
   ]
  },
  {
   "cell_type": "code",
   "execution_count": 51,
   "metadata": {},
   "outputs": [
    {
     "data": {
      "text/plain": [
       "[<span class=\"a-size-base review-text review-text-content\" data-hook=\"review-body\">\n",
       " \n",
       " \n",
       " \n",
       " \n",
       " \n",
       " \n",
       " \n",
       "   \n",
       "   \n",
       "     <span>The same thing happening in the new replaced phone also I feel disappointed it's not worth for the money. It's hanging a lot in phone application. I am getting irritated when I am try to make a call. I need to wait for 30 to 40 seconds in that to most of the time it closing automatically showing phone is not responding. I didn't expect this from one plus. Totally waste product...</span>\n",
       "   \n",
       " </span>,\n",
       " <span class=\"a-size-base review-text review-text-content\" data-hook=\"review-body\">\n",
       " \n",
       " \n",
       " \n",
       " \n",
       " \n",
       " \n",
       " \n",
       "   \n",
       "   \n",
       "     <span><div class=\"a-section a-spacing-small a-spacing-top-mini video-block\" id=\"video-block-RR6WYS9TAZQ09\"></div><input class=\"video-url\" name=\"\" type=\"hidden\" value=\"https://images-eu.ssl-images-amazon.com/images/I/B1JsVYOHa3S.mp4\"/><input class=\"video-slate-img-url\" name=\"\" type=\"hidden\" value=\"https://images-eu.ssl-images-amazon.com/images/I/717KhKp09FS.png\"/> Do watch the video. M very disappointed with the product</span>\n",
       "   \n",
       " </span>,\n",
       " <span class=\"a-size-base review-text review-text-content\" data-hook=\"review-body\">\n",
       " \n",
       " \n",
       " \n",
       " \n",
       " \n",
       " \n",
       " \n",
       "   \n",
       "   \n",
       "     <span>Everything is best except the thing that one plus hasn't provided headphones with handset..n even cleaning cloth is not there...only one transparent cover case is available..phone doesn't have headphones jack n hence it should have provided headphones..mine is mirror Black..</span>\n",
       "   \n",
       " </span>,\n",
       " <span class=\"a-size-base review-text review-text-content\" data-hook=\"review-body\">\n",
       " \n",
       " \n",
       " \n",
       " \n",
       " \n",
       " \n",
       " \n",
       "   \n",
       "   \n",
       "     <span>Worth every buck.<br/>Finally one plus has involved and presented a better shaped handset.<br/>- Amazing display quality and the curved edged display.<br/>- Best in class camera.<br/>- Better battery life and charging.</span>\n",
       "   \n",
       " </span>,\n",
       " <span class=\"a-size-base review-text review-text-content\" data-hook=\"review-body\">\n",
       " \n",
       " \n",
       " \n",
       " \n",
       " \n",
       " \n",
       " \n",
       "   \n",
       "   \n",
       "     <span>Awesome device, and hats off to amazon for such speedy delivery.<br/>I ordered it on 16th May 12PM and it got delivered by 17th May 10AM<br/>And so far I m absolutely loving this device, buttery smooth and blazing fast. But its a bit big, afterall 6.7 inches is quite a number and super slippery if used without the case.<br/><br/>And I am awestruck by the speed it charges. 😍</span>\n",
       "   \n",
       " </span>,\n",
       " <span class=\"a-size-base review-text review-text-content\" data-hook=\"review-body\">\n",
       " \n",
       " \n",
       " \n",
       " \n",
       " \n",
       " \n",
       " \n",
       "   \n",
       "   \n",
       "     <span>Waste of money this time one plus 7 pro heavy weight not disply gud compare to samsung, also inbuilt screen guard getting with bubles and in youtube show wireless headphone and 2 axtra cover with phone but not recived this time really waste of money</span>\n",
       "   \n",
       " </span>,\n",
       " <span class=\"a-size-base review-text review-text-content\" data-hook=\"review-body\">\n",
       " \n",
       " \n",
       " \n",
       " \n",
       " \n",
       " \n",
       " \n",
       "   \n",
       "   \n",
       "     <span>This phone has a hanging issue. Nd ur customer care says they can send d technician on 25th. Its like  i hv spent 53000 nd still i cant use a phone.</span>\n",
       "   \n",
       " </span>,\n",
       " <span class=\"a-size-base review-text review-text-content\" data-hook=\"review-body\">\n",
       " \n",
       " \n",
       " \n",
       " \n",
       " \n",
       " \n",
       " \n",
       "   \n",
       "   \n",
       "     <span>No 4G direct video call!! What a mess! Clearly over priced. Display is stunning. Performance stunning. Average battery backup. Over hiped device as usual!! Worst RAM management! Only 2GB RAM is free out of 8GB in most optimized state with all the back ground applications are closed. Next upgrade should solve the RAM management problem and Direct 4G video call feature. Camera is good but not ground breaking at this price tag and as hyped by the company.</span>\n",
       "   \n",
       " </span>,\n",
       " <span class=\"a-size-base review-text review-text-content\" data-hook=\"review-body\">\n",
       " \n",
       " \n",
       " \n",
       " \n",
       " \n",
       " \n",
       " \n",
       "   \n",
       "   \n",
       "     <span>just bought oneplus 7 pro<br/>was exploring it<br/>saved both of my thumbs as fingerprint but the phone opened with my right index fingerprint<br/>what the hell is this</span>\n",
       "   \n",
       " </span>,\n",
       " <span class=\"a-size-base review-text review-text-content\" data-hook=\"review-body\">\n",
       " \n",
       " \n",
       " \n",
       " \n",
       " \n",
       " \n",
       " \n",
       "   \n",
       "   \n",
       "     <span>I am giving 1 star for poor camera quality .<br/>The camera is bad than my oneplus 3.<br/>Its not able to focus correctly and the final image is blurry.<br/>I discovered the issue when clicking a pic of a document.<br/>The text was not sharp and all and after doing some more testing with 3rd party apps , and going thru Oneplus Forum, found that many people are facing this same issue.<br/>Oneplus should fix this issue, else this would be like OP 2</span>\n",
       "   \n",
       " </span>]"
      ]
     },
     "execution_count": 51,
     "metadata": {},
     "output_type": "execute_result"
    }
   ],
   "source": [
    "review_texts"
   ]
  },
  {
   "cell_type": "code",
   "execution_count": 52,
   "metadata": {},
   "outputs": [
    {
     "data": {
      "text/plain": [
       "0    \\n\\n\\n\\n\\n\\n\\n\\n  \\n  \\n    The same thing hap...\n",
       "1    \\n\\n\\n\\n\\n\\n\\n\\n  \\n  \\n     Do watch the vide...\n",
       "2    \\n\\n\\n\\n\\n\\n\\n\\n  \\n  \\n    Everything is best...\n",
       "3    \\n\\n\\n\\n\\n\\n\\n\\n  \\n  \\n    Worth every buck.F...\n",
       "4    \\n\\n\\n\\n\\n\\n\\n\\n  \\n  \\n    Awesome device, an...\n",
       "5    \\n\\n\\n\\n\\n\\n\\n\\n  \\n  \\n    Waste of money thi...\n",
       "6    \\n\\n\\n\\n\\n\\n\\n\\n  \\n  \\n    This phone has a h...\n",
       "7    \\n\\n\\n\\n\\n\\n\\n\\n  \\n  \\n    No 4G direct video...\n",
       "8    \\n\\n\\n\\n\\n\\n\\n\\n  \\n  \\n    just bought oneplu...\n",
       "9    \\n\\n\\n\\n\\n\\n\\n\\n  \\n  \\n    I am giving 1 star...\n",
       "Name: ReviewText, dtype: object"
      ]
     },
     "execution_count": 52,
     "metadata": {},
     "output_type": "execute_result"
    }
   ],
   "source": [
    "text = []\n",
    "for review_text in review_texts:\n",
    "    text.append( review_text.text )\n",
    "text = pd.Series(text,name=\"ReviewText\")\n",
    "text"
   ]
  },
  {
   "cell_type": "code",
   "execution_count": 54,
   "metadata": {},
   "outputs": [],
   "source": [
    "import re\n",
    "r_texts = list( map( lambda x: re.sub(\"[^a-zA-Z]\", \" \", x.text ), review_texts ) )"
   ]
  },
  {
   "cell_type": "code",
   "execution_count": 55,
   "metadata": {},
   "outputs": [],
   "source": [
    "r_titles = list( map( lambda x: re.sub(\"[^a-zA-Z]\", \" \", x.text ), review_titles ) )"
   ]
  },
  {
   "cell_type": "code",
   "execution_count": 56,
   "metadata": {},
   "outputs": [],
   "source": [
    "import pandas as pd\n",
    "review_df = pd.DataFrame( { \"title\": r_titles, \"text\": r_texts } )"
   ]
  },
  {
   "cell_type": "code",
   "execution_count": 57,
   "metadata": {},
   "outputs": [
    {
     "data": {
      "text/html": [
       "<div>\n",
       "<style scoped>\n",
       "    .dataframe tbody tr th:only-of-type {\n",
       "        vertical-align: middle;\n",
       "    }\n",
       "\n",
       "    .dataframe tbody tr th {\n",
       "        vertical-align: top;\n",
       "    }\n",
       "\n",
       "    .dataframe thead th {\n",
       "        text-align: right;\n",
       "    }\n",
       "</style>\n",
       "<table border=\"1\" class=\"dataframe\">\n",
       "  <thead>\n",
       "    <tr style=\"text-align: right;\">\n",
       "      <th></th>\n",
       "      <th>title</th>\n",
       "      <th>text</th>\n",
       "    </tr>\n",
       "  </thead>\n",
       "  <tbody>\n",
       "    <tr>\n",
       "      <th>0</th>\n",
       "      <td>My phone isn t responding</td>\n",
       "      <td>The same thing happening in ...</td>\n",
       "    </tr>\n",
       "    <tr>\n",
       "      <th>1</th>\n",
       "      <td>Disappointed with the qualit...</td>\n",
       "      <td>Do watch the video  M very ...</td>\n",
       "    </tr>\n",
       "    <tr>\n",
       "      <th>2</th>\n",
       "      <td>Really disappointed</td>\n",
       "      <td>Everything is best except th...</td>\n",
       "    </tr>\n",
       "    <tr>\n",
       "      <th>3</th>\n",
       "      <td>True flagship</td>\n",
       "      <td>Worth every buck Finally one...</td>\n",
       "    </tr>\n",
       "    <tr>\n",
       "      <th>4</th>\n",
       "      <td>Bang for the bucks</td>\n",
       "      <td>Awesome device  and hats off...</td>\n",
       "    </tr>\n",
       "    <tr>\n",
       "      <th>5</th>\n",
       "      <td>Waste of money</td>\n",
       "      <td>Waste of money this time one...</td>\n",
       "    </tr>\n",
       "    <tr>\n",
       "      <th>6</th>\n",
       "      <td>Hanging issue</td>\n",
       "      <td>This phone has a hanging iss...</td>\n",
       "    </tr>\n",
       "    <tr>\n",
       "      <th>7</th>\n",
       "      <td>Over hiped device</td>\n",
       "      <td>No  G direct video call   Wh...</td>\n",
       "    </tr>\n",
       "    <tr>\n",
       "      <th>8</th>\n",
       "      <td>Thumbprint scanner malfuncti...</td>\n",
       "      <td>just bought oneplus   prowas...</td>\n",
       "    </tr>\n",
       "    <tr>\n",
       "      <th>9</th>\n",
       "      <td>It pains me to give oneplus ...</td>\n",
       "      <td>I am giving   star for poor ...</td>\n",
       "    </tr>\n",
       "  </tbody>\n",
       "</table>\n",
       "</div>"
      ],
      "text/plain": [
       "                                               title  \\\n",
       "0                     My phone isn t responding        \n",
       "1                    Disappointed with the qualit...   \n",
       "2                            Really disappointed       \n",
       "3                                 True flagship        \n",
       "4                            Bang for the bucks        \n",
       "5                                 Waste of money       \n",
       "6                                  Hanging issue       \n",
       "7                            Over hiped device         \n",
       "8                    Thumbprint scanner malfuncti...   \n",
       "9                    It pains me to give oneplus ...   \n",
       "\n",
       "                                                text  \n",
       "0                    The same thing happening in ...  \n",
       "1                     Do watch the video  M very ...  \n",
       "2                    Everything is best except th...  \n",
       "3                    Worth every buck Finally one...  \n",
       "4                    Awesome device  and hats off...  \n",
       "5                    Waste of money this time one...  \n",
       "6                    This phone has a hanging iss...  \n",
       "7                    No  G direct video call   Wh...  \n",
       "8                    just bought oneplus   prowas...  \n",
       "9                    I am giving   star for poor ...  "
      ]
     },
     "execution_count": 57,
     "metadata": {},
     "output_type": "execute_result"
    }
   ],
   "source": [
    "review_df"
   ]
  },
  {
   "cell_type": "code",
   "execution_count": 58,
   "metadata": {},
   "outputs": [
    {
     "data": {
      "text/plain": [
       "'                   Do watch the video  M very disappointed with the product    '"
      ]
     },
     "execution_count": 58,
     "metadata": {},
     "output_type": "execute_result"
    }
   ],
   "source": [
    "review_df.text[1]"
   ]
  },
  {
   "cell_type": "code",
   "execution_count": 59,
   "metadata": {},
   "outputs": [],
   "source": [
    "profile_names = soup.findAll('span', {'class': 'a-profile-name'})\n",
    "names = []\n",
    "for name in profile_names:\n",
    "    names.append(name.text)\n",
    "names = pd.Series(names,name = \"CustName\")"
   ]
  },
  {
   "cell_type": "code",
   "execution_count": 60,
   "metadata": {},
   "outputs": [],
   "source": [
    "review_stars = soup.findAll(\"i\",{\"data-hook\":\"review-star-rating\"})\n",
    "stars = []\n",
    "for ele in review_stars:\n",
    "    stars.append(ele.text[0])\n",
    "stars = pd.Series(stars, name = \"star_rating\")"
   ]
  },
  {
   "cell_type": "code",
   "execution_count": 61,
   "metadata": {},
   "outputs": [],
   "source": [
    "amazon=pd.concat([names,titles,text,date,stars],axis=1)"
   ]
  },
  {
   "cell_type": "code",
   "execution_count": 62,
   "metadata": {},
   "outputs": [
    {
     "data": {
      "text/html": [
       "<div>\n",
       "<style scoped>\n",
       "    .dataframe tbody tr th:only-of-type {\n",
       "        vertical-align: middle;\n",
       "    }\n",
       "\n",
       "    .dataframe tbody tr th {\n",
       "        vertical-align: top;\n",
       "    }\n",
       "\n",
       "    .dataframe thead th {\n",
       "        text-align: right;\n",
       "    }\n",
       "</style>\n",
       "<table border=\"1\" class=\"dataframe\">\n",
       "  <thead>\n",
       "    <tr style=\"text-align: right;\">\n",
       "      <th></th>\n",
       "      <th>CustName</th>\n",
       "      <th>ReviewTitle</th>\n",
       "      <th>ReviewText</th>\n",
       "      <th>review_date</th>\n",
       "      <th>star_rating</th>\n",
       "    </tr>\n",
       "  </thead>\n",
       "  <tbody>\n",
       "    <tr>\n",
       "      <th>0</th>\n",
       "      <td>Jaydatt</td>\n",
       "      <td>\\n\\n\\n\\n\\n\\n\\n\\n  \\n  \\n    \"My phone isn't re...</td>\n",
       "      <td>\\n\\n\\n\\n\\n\\n\\n\\n  \\n  \\n    The same thing hap...</td>\n",
       "      <td>19 May 2019</td>\n",
       "      <td>1</td>\n",
       "    </tr>\n",
       "    <tr>\n",
       "      <th>1</th>\n",
       "      <td>Amazon Customer</td>\n",
       "      <td>\\n\\n\\n\\n\\n\\n\\n\\n  \\n  \\n    Disappointed with ...</td>\n",
       "      <td>\\n\\n\\n\\n\\n\\n\\n\\n  \\n  \\n     Do watch the vide...</td>\n",
       "      <td>22 May 2019</td>\n",
       "      <td>1</td>\n",
       "    </tr>\n",
       "    <tr>\n",
       "      <th>2</th>\n",
       "      <td>Amazon Customer</td>\n",
       "      <td>\\n\\n\\n\\n\\n\\n\\n\\n  \\n  \\n    Really disappointe...</td>\n",
       "      <td>\\n\\n\\n\\n\\n\\n\\n\\n  \\n  \\n    Everything is best...</td>\n",
       "      <td>19 May 2019</td>\n",
       "      <td>4</td>\n",
       "    </tr>\n",
       "    <tr>\n",
       "      <th>3</th>\n",
       "      <td>Amazon Customer</td>\n",
       "      <td>\\n\\n\\n\\n\\n\\n\\n\\n  \\n  \\n    *True flagship*\\n  \\n</td>\n",
       "      <td>\\n\\n\\n\\n\\n\\n\\n\\n  \\n  \\n    Worth every buck.F...</td>\n",
       "      <td>19 May 2019</td>\n",
       "      <td>5</td>\n",
       "    </tr>\n",
       "    <tr>\n",
       "      <th>4</th>\n",
       "      <td>Jaydatt</td>\n",
       "      <td>\\n\\n\\n\\n\\n\\n\\n\\n  \\n  \\n    Bang for the bucks...</td>\n",
       "      <td>\\n\\n\\n\\n\\n\\n\\n\\n  \\n  \\n    Awesome device, an...</td>\n",
       "      <td>19 May 2019</td>\n",
       "      <td>5</td>\n",
       "    </tr>\n",
       "    <tr>\n",
       "      <th>5</th>\n",
       "      <td>ashish sharma</td>\n",
       "      <td>\\n\\n\\n\\n\\n\\n\\n\\n  \\n  \\n    Waste of money\\n  \\n</td>\n",
       "      <td>\\n\\n\\n\\n\\n\\n\\n\\n  \\n  \\n    Waste of money thi...</td>\n",
       "      <td>19 May 2019</td>\n",
       "      <td>1</td>\n",
       "    </tr>\n",
       "    <tr>\n",
       "      <th>6</th>\n",
       "      <td>Ankit Chowdhury</td>\n",
       "      <td>\\n\\n\\n\\n\\n\\n\\n\\n  \\n  \\n    Hanging issue\\n  \\n</td>\n",
       "      <td>\\n\\n\\n\\n\\n\\n\\n\\n  \\n  \\n    This phone has a h...</td>\n",
       "      <td>19 May 2019</td>\n",
       "      <td>1</td>\n",
       "    </tr>\n",
       "    <tr>\n",
       "      <th>7</th>\n",
       "      <td>Vishal</td>\n",
       "      <td>\\n\\n\\n\\n\\n\\n\\n\\n  \\n  \\n    Over hiped device!...</td>\n",
       "      <td>\\n\\n\\n\\n\\n\\n\\n\\n  \\n  \\n    No 4G direct video...</td>\n",
       "      <td>19 May 2019</td>\n",
       "      <td>3</td>\n",
       "    </tr>\n",
       "    <tr>\n",
       "      <th>8</th>\n",
       "      <td>Varun</td>\n",
       "      <td>\\n\\n\\n\\n\\n\\n\\n\\n  \\n  \\n    Thumbprint scanner...</td>\n",
       "      <td>\\n\\n\\n\\n\\n\\n\\n\\n  \\n  \\n    just bought oneplu...</td>\n",
       "      <td>19 May 2019</td>\n",
       "      <td>5</td>\n",
       "    </tr>\n",
       "    <tr>\n",
       "      <th>9</th>\n",
       "      <td>Anindya Roy Chowdhury</td>\n",
       "      <td>\\n\\n\\n\\n\\n\\n\\n\\n  \\n  \\n    It pains me to giv...</td>\n",
       "      <td>\\n\\n\\n\\n\\n\\n\\n\\n  \\n  \\n    I am giving 1 star...</td>\n",
       "      <td>19 May 2019</td>\n",
       "      <td>1</td>\n",
       "    </tr>\n",
       "    <tr>\n",
       "      <th>10</th>\n",
       "      <td>Madhur Gupta</td>\n",
       "      <td>NaN</td>\n",
       "      <td>NaN</td>\n",
       "      <td>NaN</td>\n",
       "      <td>NaN</td>\n",
       "    </tr>\n",
       "    <tr>\n",
       "      <th>11</th>\n",
       "      <td>utkarsh</td>\n",
       "      <td>NaN</td>\n",
       "      <td>NaN</td>\n",
       "      <td>NaN</td>\n",
       "      <td>NaN</td>\n",
       "    </tr>\n",
       "  </tbody>\n",
       "</table>\n",
       "</div>"
      ],
      "text/plain": [
       "                 CustName                                        ReviewTitle  \\\n",
       "0                 Jaydatt  \\n\\n\\n\\n\\n\\n\\n\\n  \\n  \\n    \"My phone isn't re...   \n",
       "1         Amazon Customer  \\n\\n\\n\\n\\n\\n\\n\\n  \\n  \\n    Disappointed with ...   \n",
       "2         Amazon Customer  \\n\\n\\n\\n\\n\\n\\n\\n  \\n  \\n    Really disappointe...   \n",
       "3         Amazon Customer  \\n\\n\\n\\n\\n\\n\\n\\n  \\n  \\n    *True flagship*\\n  \\n   \n",
       "4                 Jaydatt  \\n\\n\\n\\n\\n\\n\\n\\n  \\n  \\n    Bang for the bucks...   \n",
       "5           ashish sharma   \\n\\n\\n\\n\\n\\n\\n\\n  \\n  \\n    Waste of money\\n  \\n   \n",
       "6         Ankit Chowdhury    \\n\\n\\n\\n\\n\\n\\n\\n  \\n  \\n    Hanging issue\\n  \\n   \n",
       "7                  Vishal  \\n\\n\\n\\n\\n\\n\\n\\n  \\n  \\n    Over hiped device!...   \n",
       "8                   Varun  \\n\\n\\n\\n\\n\\n\\n\\n  \\n  \\n    Thumbprint scanner...   \n",
       "9   Anindya Roy Chowdhury  \\n\\n\\n\\n\\n\\n\\n\\n  \\n  \\n    It pains me to giv...   \n",
       "10           Madhur Gupta                                                NaN   \n",
       "11                utkarsh                                                NaN   \n",
       "\n",
       "                                           ReviewText  review_date star_rating  \n",
       "0   \\n\\n\\n\\n\\n\\n\\n\\n  \\n  \\n    The same thing hap...  19 May 2019           1  \n",
       "1   \\n\\n\\n\\n\\n\\n\\n\\n  \\n  \\n     Do watch the vide...  22 May 2019           1  \n",
       "2   \\n\\n\\n\\n\\n\\n\\n\\n  \\n  \\n    Everything is best...  19 May 2019           4  \n",
       "3   \\n\\n\\n\\n\\n\\n\\n\\n  \\n  \\n    Worth every buck.F...  19 May 2019           5  \n",
       "4   \\n\\n\\n\\n\\n\\n\\n\\n  \\n  \\n    Awesome device, an...  19 May 2019           5  \n",
       "5   \\n\\n\\n\\n\\n\\n\\n\\n  \\n  \\n    Waste of money thi...  19 May 2019           1  \n",
       "6   \\n\\n\\n\\n\\n\\n\\n\\n  \\n  \\n    This phone has a h...  19 May 2019           1  \n",
       "7   \\n\\n\\n\\n\\n\\n\\n\\n  \\n  \\n    No 4G direct video...  19 May 2019           3  \n",
       "8   \\n\\n\\n\\n\\n\\n\\n\\n  \\n  \\n    just bought oneplu...  19 May 2019           5  \n",
       "9   \\n\\n\\n\\n\\n\\n\\n\\n  \\n  \\n    I am giving 1 star...  19 May 2019           1  \n",
       "10                                                NaN          NaN         NaN  \n",
       "11                                                NaN          NaN         NaN  "
      ]
     },
     "execution_count": 62,
     "metadata": {},
     "output_type": "execute_result"
    }
   ],
   "source": [
    "amazon"
   ]
  },
  {
   "cell_type": "code",
   "execution_count": 63,
   "metadata": {},
   "outputs": [],
   "source": [
    "amazon.rename(columns = {'ReviewText':'text'}, inplace = True)"
   ]
  },
  {
   "cell_type": "code",
   "execution_count": 65,
   "metadata": {},
   "outputs": [
    {
     "data": {
      "text/html": [
       "<div>\n",
       "<style scoped>\n",
       "    .dataframe tbody tr th:only-of-type {\n",
       "        vertical-align: middle;\n",
       "    }\n",
       "\n",
       "    .dataframe tbody tr th {\n",
       "        vertical-align: top;\n",
       "    }\n",
       "\n",
       "    .dataframe thead th {\n",
       "        text-align: right;\n",
       "    }\n",
       "</style>\n",
       "<table border=\"1\" class=\"dataframe\">\n",
       "  <thead>\n",
       "    <tr style=\"text-align: right;\">\n",
       "      <th></th>\n",
       "      <th>CustName</th>\n",
       "      <th>ReviewTitle</th>\n",
       "      <th>text</th>\n",
       "      <th>review_date</th>\n",
       "      <th>star_rating</th>\n",
       "    </tr>\n",
       "  </thead>\n",
       "  <tbody>\n",
       "    <tr>\n",
       "      <th>0</th>\n",
       "      <td>Jaydatt</td>\n",
       "      <td>\\n\\n\\n\\n\\n\\n\\n\\n  \\n  \\n    \"My phone isn't re...</td>\n",
       "      <td>\\n\\n\\n\\n\\n\\n\\n\\n  \\n  \\n    The same thing hap...</td>\n",
       "      <td>19 May 2019</td>\n",
       "      <td>1</td>\n",
       "    </tr>\n",
       "    <tr>\n",
       "      <th>1</th>\n",
       "      <td>Amazon Customer</td>\n",
       "      <td>\\n\\n\\n\\n\\n\\n\\n\\n  \\n  \\n    Disappointed with ...</td>\n",
       "      <td>\\n\\n\\n\\n\\n\\n\\n\\n  \\n  \\n     Do watch the vide...</td>\n",
       "      <td>22 May 2019</td>\n",
       "      <td>1</td>\n",
       "    </tr>\n",
       "    <tr>\n",
       "      <th>2</th>\n",
       "      <td>Amazon Customer</td>\n",
       "      <td>\\n\\n\\n\\n\\n\\n\\n\\n  \\n  \\n    Really disappointe...</td>\n",
       "      <td>\\n\\n\\n\\n\\n\\n\\n\\n  \\n  \\n    Everything is best...</td>\n",
       "      <td>19 May 2019</td>\n",
       "      <td>4</td>\n",
       "    </tr>\n",
       "    <tr>\n",
       "      <th>3</th>\n",
       "      <td>Amazon Customer</td>\n",
       "      <td>\\n\\n\\n\\n\\n\\n\\n\\n  \\n  \\n    *True flagship*\\n  \\n</td>\n",
       "      <td>\\n\\n\\n\\n\\n\\n\\n\\n  \\n  \\n    Worth every buck.F...</td>\n",
       "      <td>19 May 2019</td>\n",
       "      <td>5</td>\n",
       "    </tr>\n",
       "    <tr>\n",
       "      <th>4</th>\n",
       "      <td>Jaydatt</td>\n",
       "      <td>\\n\\n\\n\\n\\n\\n\\n\\n  \\n  \\n    Bang for the bucks...</td>\n",
       "      <td>\\n\\n\\n\\n\\n\\n\\n\\n  \\n  \\n    Awesome device, an...</td>\n",
       "      <td>19 May 2019</td>\n",
       "      <td>5</td>\n",
       "    </tr>\n",
       "    <tr>\n",
       "      <th>5</th>\n",
       "      <td>ashish sharma</td>\n",
       "      <td>\\n\\n\\n\\n\\n\\n\\n\\n  \\n  \\n    Waste of money\\n  \\n</td>\n",
       "      <td>\\n\\n\\n\\n\\n\\n\\n\\n  \\n  \\n    Waste of money thi...</td>\n",
       "      <td>19 May 2019</td>\n",
       "      <td>1</td>\n",
       "    </tr>\n",
       "    <tr>\n",
       "      <th>6</th>\n",
       "      <td>Ankit Chowdhury</td>\n",
       "      <td>\\n\\n\\n\\n\\n\\n\\n\\n  \\n  \\n    Hanging issue\\n  \\n</td>\n",
       "      <td>\\n\\n\\n\\n\\n\\n\\n\\n  \\n  \\n    This phone has a h...</td>\n",
       "      <td>19 May 2019</td>\n",
       "      <td>1</td>\n",
       "    </tr>\n",
       "    <tr>\n",
       "      <th>7</th>\n",
       "      <td>Vishal</td>\n",
       "      <td>\\n\\n\\n\\n\\n\\n\\n\\n  \\n  \\n    Over hiped device!...</td>\n",
       "      <td>\\n\\n\\n\\n\\n\\n\\n\\n  \\n  \\n    No 4G direct video...</td>\n",
       "      <td>19 May 2019</td>\n",
       "      <td>3</td>\n",
       "    </tr>\n",
       "    <tr>\n",
       "      <th>8</th>\n",
       "      <td>Varun</td>\n",
       "      <td>\\n\\n\\n\\n\\n\\n\\n\\n  \\n  \\n    Thumbprint scanner...</td>\n",
       "      <td>\\n\\n\\n\\n\\n\\n\\n\\n  \\n  \\n    just bought oneplu...</td>\n",
       "      <td>19 May 2019</td>\n",
       "      <td>5</td>\n",
       "    </tr>\n",
       "    <tr>\n",
       "      <th>9</th>\n",
       "      <td>Anindya Roy Chowdhury</td>\n",
       "      <td>\\n\\n\\n\\n\\n\\n\\n\\n  \\n  \\n    It pains me to giv...</td>\n",
       "      <td>\\n\\n\\n\\n\\n\\n\\n\\n  \\n  \\n    I am giving 1 star...</td>\n",
       "      <td>19 May 2019</td>\n",
       "      <td>1</td>\n",
       "    </tr>\n",
       "    <tr>\n",
       "      <th>10</th>\n",
       "      <td>Madhur Gupta</td>\n",
       "      <td>NaN</td>\n",
       "      <td>NaN</td>\n",
       "      <td>NaN</td>\n",
       "      <td>NaN</td>\n",
       "    </tr>\n",
       "    <tr>\n",
       "      <th>11</th>\n",
       "      <td>utkarsh</td>\n",
       "      <td>NaN</td>\n",
       "      <td>NaN</td>\n",
       "      <td>NaN</td>\n",
       "      <td>NaN</td>\n",
       "    </tr>\n",
       "  </tbody>\n",
       "</table>\n",
       "</div>"
      ],
      "text/plain": [
       "                 CustName                                        ReviewTitle  \\\n",
       "0                 Jaydatt  \\n\\n\\n\\n\\n\\n\\n\\n  \\n  \\n    \"My phone isn't re...   \n",
       "1         Amazon Customer  \\n\\n\\n\\n\\n\\n\\n\\n  \\n  \\n    Disappointed with ...   \n",
       "2         Amazon Customer  \\n\\n\\n\\n\\n\\n\\n\\n  \\n  \\n    Really disappointe...   \n",
       "3         Amazon Customer  \\n\\n\\n\\n\\n\\n\\n\\n  \\n  \\n    *True flagship*\\n  \\n   \n",
       "4                 Jaydatt  \\n\\n\\n\\n\\n\\n\\n\\n  \\n  \\n    Bang for the bucks...   \n",
       "5           ashish sharma   \\n\\n\\n\\n\\n\\n\\n\\n  \\n  \\n    Waste of money\\n  \\n   \n",
       "6         Ankit Chowdhury    \\n\\n\\n\\n\\n\\n\\n\\n  \\n  \\n    Hanging issue\\n  \\n   \n",
       "7                  Vishal  \\n\\n\\n\\n\\n\\n\\n\\n  \\n  \\n    Over hiped device!...   \n",
       "8                   Varun  \\n\\n\\n\\n\\n\\n\\n\\n  \\n  \\n    Thumbprint scanner...   \n",
       "9   Anindya Roy Chowdhury  \\n\\n\\n\\n\\n\\n\\n\\n  \\n  \\n    It pains me to giv...   \n",
       "10           Madhur Gupta                                                NaN   \n",
       "11                utkarsh                                                NaN   \n",
       "\n",
       "                                                 text  review_date star_rating  \n",
       "0   \\n\\n\\n\\n\\n\\n\\n\\n  \\n  \\n    The same thing hap...  19 May 2019           1  \n",
       "1   \\n\\n\\n\\n\\n\\n\\n\\n  \\n  \\n     Do watch the vide...  22 May 2019           1  \n",
       "2   \\n\\n\\n\\n\\n\\n\\n\\n  \\n  \\n    Everything is best...  19 May 2019           4  \n",
       "3   \\n\\n\\n\\n\\n\\n\\n\\n  \\n  \\n    Worth every buck.F...  19 May 2019           5  \n",
       "4   \\n\\n\\n\\n\\n\\n\\n\\n  \\n  \\n    Awesome device, an...  19 May 2019           5  \n",
       "5   \\n\\n\\n\\n\\n\\n\\n\\n  \\n  \\n    Waste of money thi...  19 May 2019           1  \n",
       "6   \\n\\n\\n\\n\\n\\n\\n\\n  \\n  \\n    This phone has a h...  19 May 2019           1  \n",
       "7   \\n\\n\\n\\n\\n\\n\\n\\n  \\n  \\n    No 4G direct video...  19 May 2019           3  \n",
       "8   \\n\\n\\n\\n\\n\\n\\n\\n  \\n  \\n    just bought oneplu...  19 May 2019           5  \n",
       "9   \\n\\n\\n\\n\\n\\n\\n\\n  \\n  \\n    I am giving 1 star...  19 May 2019           1  \n",
       "10                                                NaN          NaN         NaN  \n",
       "11                                                NaN          NaN         NaN  "
      ]
     },
     "execution_count": 65,
     "metadata": {},
     "output_type": "execute_result"
    }
   ],
   "source": [
    "amazon"
   ]
  },
  {
   "cell_type": "code",
   "execution_count": null,
   "metadata": {},
   "outputs": [],
   "source": []
  }
 ],
 "metadata": {
  "kernelspec": {
   "display_name": "Python 3",
   "language": "python",
   "name": "python3"
  },
  "language_info": {
   "codemirror_mode": {
    "name": "ipython",
    "version": 3
   },
   "file_extension": ".py",
   "mimetype": "text/x-python",
   "name": "python",
   "nbconvert_exporter": "python",
   "pygments_lexer": "ipython3",
   "version": "3.7.4"
  }
 },
 "nbformat": 4,
 "nbformat_minor": 2
}

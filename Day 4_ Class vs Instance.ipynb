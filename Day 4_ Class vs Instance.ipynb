{
 "cells": [
  {
   "cell_type": "markdown",
   "metadata": {},
   "source": [
    "Objective \n",
    "In this challenge, we're going to learn about the difference between a class and an instance; \n",
    "https://www.hackerrank.com/challenges/30-class-vs-instance/problem "
   ]
  },
  {
   "cell_type": "code",
   "execution_count": 20,
   "metadata": {},
   "outputs": [
    {
     "name": "stdout",
     "output_type": "stream",
     "text": [
      "14\n",
      "You are a teenager.\n"
     ]
    }
   ],
   "source": [
    "class Person:\n",
    "    def __init__(self,initialAge):\n",
    "        if initialAge < 0:\n",
    "            self.age = 0\n",
    "            print(\"Age is not valid, setting age to 0.\")\n",
    "        else:\n",
    "            self.age = initialAge\n",
    "            \n",
    "    def amIOld(self):\n",
    "        if self.age < 13:\n",
    "            print(\"You are young.\")\n",
    "        elif self.age < 18:\n",
    "            print(\"You are a teenager.\")\n",
    "        else:\n",
    "            print(\"You are old.\")\n",
    "            \n",
    "    def yearPasses(self):\n",
    "        self.age += 1\n",
    "            \n",
    "        \n",
    "t = int(input())\n",
    "f = Person(t)\n",
    "f.amIOld()\n"
   ]
  },
  {
   "cell_type": "code",
   "execution_count": null,
   "metadata": {},
   "outputs": [],
   "source": []
  },
  {
   "cell_type": "code",
   "execution_count": null,
   "metadata": {},
   "outputs": [],
   "source": []
  }
 ],
 "metadata": {
  "kernelspec": {
   "display_name": "Python 3",
   "language": "python",
   "name": "python3"
  },
  "language_info": {
   "codemirror_mode": {
    "name": "ipython",
    "version": 3
   },
   "file_extension": ".py",
   "mimetype": "text/x-python",
   "name": "python",
   "nbconvert_exporter": "python",
   "pygments_lexer": "ipython3",
   "version": "3.7.6"
  },
  "toc": {
   "base_numbering": 1,
   "nav_menu": {},
   "number_sections": true,
   "sideBar": true,
   "skip_h1_title": false,
   "title_cell": "Table of Contents",
   "title_sidebar": "Contents",
   "toc_cell": false,
   "toc_position": {},
   "toc_section_display": true,
   "toc_window_display": false
  },
  "varInspector": {
   "cols": {
    "lenName": 16,
    "lenType": 16,
    "lenVar": 40
   },
   "kernels_config": {
    "python": {
     "delete_cmd_postfix": "",
     "delete_cmd_prefix": "del ",
     "library": "var_list.py",
     "varRefreshCmd": "print(var_dic_list())"
    },
    "r": {
     "delete_cmd_postfix": ") ",
     "delete_cmd_prefix": "rm(",
     "library": "var_list.r",
     "varRefreshCmd": "cat(var_dic_list()) "
    }
   },
   "types_to_exclude": [
    "module",
    "function",
    "builtin_function_or_method",
    "instance",
    "_Feature"
   ],
   "window_display": false
  }
 },
 "nbformat": 4,
 "nbformat_minor": 2
}

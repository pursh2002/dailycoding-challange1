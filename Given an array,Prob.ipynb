{
 "cells": [
  {
   "cell_type": "code",
   "execution_count": 15,
   "metadata": {},
   "outputs": [
    {
     "name": "stdout",
     "output_type": "stream",
     "text": [
      "Averages of subarrays of size K: [2.2, 2.8, 2.4, 3.6, 2.8]\n"
     ]
    }
   ],
   "source": [
    "#Given an array, find the average of all contiguous subarrays of size ‘K’ in it.\n",
    "# Input # Array: [1, 3, 2, 6, -1, 4, 1, 8, 2], K=5\n",
    "#Output # Output: [2.2, 2.8, 2.4, 3.6, 2.8]\n",
    "\n",
    "def find_avg_subarray(k, arr):\n",
    "    result = []\n",
    "    for i in range (len(arr)-k+1):\n",
    "        #find the sum of next k element \n",
    "        sum = 0.0\n",
    "        for j in range(i,i+k):\n",
    "            sum += arr[j]\n",
    "        result.append(sum/k)\n",
    "    return result \n",
    "def main():\n",
    "    result = find_avg_subarray(5, [1, 3, 2, 6, -1, 4, 1, 8, 2])\n",
    "    print(\"Averages of subarrays of size K: \" + str(result))\n",
    "main() \n",
    "        \n",
    "        "
   ]
  },
  {
   "cell_type": "code",
   "execution_count": 17,
   "metadata": {},
   "outputs": [
    {
     "name": "stdout",
     "output_type": "stream",
     "text": [
      "Averages of subarrays of size K: [2.2, 2.8, 2.4, 3.6, 2.8]\n"
     ]
    }
   ],
   "source": [
    "# Sliding Window approach\n",
    "def find_avg(k,arr):\n",
    "    result = []\n",
    "    wsum , wstart = 0.0,0\n",
    "    for wend in range(len(arr)):\n",
    "        wsum += arr[wend]\n",
    "        if wend >= k - 1:\n",
    "            result.append(wsum / k) \n",
    "            wsum -= arr[wstart]\n",
    "            wstart += 1\n",
    "\n",
    "    return result\n",
    "def main():\n",
    "  result = find_avg(5, [1, 3, 2, 6, -1, 4, 1, 8, 2])\n",
    "  print(\"Averages of subarrays of size K: \" + str(result))\n",
    "main()"
   ]
  },
  {
   "cell_type": "code",
   "execution_count": null,
   "metadata": {},
   "outputs": [],
   "source": []
  }
 ],
 "metadata": {
  "kernelspec": {
   "display_name": "Python 3",
   "language": "python",
   "name": "python3"
  },
  "language_info": {
   "codemirror_mode": {
    "name": "ipython",
    "version": 3
   },
   "file_extension": ".py",
   "mimetype": "text/x-python",
   "name": "python",
   "nbconvert_exporter": "python",
   "pygments_lexer": "ipython3",
   "version": "3.7.6"
  },
  "toc": {
   "base_numbering": 1,
   "nav_menu": {},
   "number_sections": true,
   "sideBar": true,
   "skip_h1_title": false,
   "title_cell": "Table of Contents",
   "title_sidebar": "Contents",
   "toc_cell": false,
   "toc_position": {},
   "toc_section_display": true,
   "toc_window_display": false
  },
  "varInspector": {
   "cols": {
    "lenName": 16,
    "lenType": 16,
    "lenVar": 40
   },
   "kernels_config": {
    "python": {
     "delete_cmd_postfix": "",
     "delete_cmd_prefix": "del ",
     "library": "var_list.py",
     "varRefreshCmd": "print(var_dic_list())"
    },
    "r": {
     "delete_cmd_postfix": ") ",
     "delete_cmd_prefix": "rm(",
     "library": "var_list.r",
     "varRefreshCmd": "cat(var_dic_list()) "
    }
   },
   "types_to_exclude": [
    "module",
    "function",
    "builtin_function_or_method",
    "instance",
    "_Feature"
   ],
   "window_display": false
  }
 },
 "nbformat": 4,
 "nbformat_minor": 2
}

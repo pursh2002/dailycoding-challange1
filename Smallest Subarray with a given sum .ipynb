{
 "cells": [
  {
   "cell_type": "code",
   "execution_count": 13,
   "metadata": {},
   "outputs": [
    {
     "name": "stdout",
     "output_type": "stream",
     "text": [
      "Smallest subarray length: 2\n",
      "Smallest subarray length: 1\n",
      "Smallest subarray length: 3\n"
     ]
    }
   ],
   "source": [
    "import math \n",
    "def smallest_sub(s, arr):\n",
    "    win_sum = 0\n",
    "    min_len = math.inf\n",
    "    wstart = 0 \n",
    "    \n",
    "    for wend in range(0,len(arr)):\n",
    "        win_sum += arr[wend]  # add the next element \n",
    "        # # shrink the window as small as possible smaller the 's'\n",
    "        while win_sum >= s:\n",
    "            min_len = min(min_len,wend - wstart + 1)\n",
    "            win_sum -= arr[wstart]\n",
    "            wstart += 1 \n",
    "    if min_len == math.inf:\n",
    "        return 0 \n",
    "    return min_len \n",
    "\n",
    "def main():\n",
    "  print(\"Smallest subarray length: \" + str(smallest_sub(7, [2, 1, 5, 2, 3, 2])))\n",
    "  print(\"Smallest subarray length: \" + str(smallest_sub(7, [2, 1, 5, 2, 8])))\n",
    "  print(\"Smallest subarray length: \" + str(smallest_sub(8, [3, 4, 1, 1, 6])))\n",
    "\n",
    "main()"
   ]
  },
  {
   "cell_type": "code",
   "execution_count": null,
   "metadata": {},
   "outputs": [],
   "source": []
  },
  {
   "cell_type": "code",
   "execution_count": null,
   "metadata": {},
   "outputs": [],
   "source": []
  }
 ],
 "metadata": {
  "kernelspec": {
   "display_name": "Python 3",
   "language": "python",
   "name": "python3"
  },
  "language_info": {
   "codemirror_mode": {
    "name": "ipython",
    "version": 3
   },
   "file_extension": ".py",
   "mimetype": "text/x-python",
   "name": "python",
   "nbconvert_exporter": "python",
   "pygments_lexer": "ipython3",
   "version": "3.7.6"
  },
  "toc": {
   "base_numbering": 1,
   "nav_menu": {},
   "number_sections": true,
   "sideBar": true,
   "skip_h1_title": false,
   "title_cell": "Table of Contents",
   "title_sidebar": "Contents",
   "toc_cell": false,
   "toc_position": {},
   "toc_section_display": true,
   "toc_window_display": false
  },
  "varInspector": {
   "cols": {
    "lenName": 16,
    "lenType": 16,
    "lenVar": 40
   },
   "kernels_config": {
    "python": {
     "delete_cmd_postfix": "",
     "delete_cmd_prefix": "del ",
     "library": "var_list.py",
     "varRefreshCmd": "print(var_dic_list())"
    },
    "r": {
     "delete_cmd_postfix": ") ",
     "delete_cmd_prefix": "rm(",
     "library": "var_list.r",
     "varRefreshCmd": "cat(var_dic_list()) "
    }
   },
   "types_to_exclude": [
    "module",
    "function",
    "builtin_function_or_method",
    "instance",
    "_Feature"
   ],
   "window_display": false
  }
 },
 "nbformat": 4,
 "nbformat_minor": 2
}

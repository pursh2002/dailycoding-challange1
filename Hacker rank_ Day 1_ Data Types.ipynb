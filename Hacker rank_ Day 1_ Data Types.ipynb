{
 "cells": [
  {
   "cell_type": "code",
   "execution_count": 5,
   "metadata": {},
   "outputs": [
    {
     "data": {
      "text/plain": [
       "\"\\nObjective \\nToday, we're discussing data types. Check out the Tutorial tab for learning materials and an instructional video!\\nTask \\nComplete the code in the editor below. The variables , , and  are already declared and initialized for you. You must:\\nDeclare  variables: one of type int, one of type double, and one of type String.\\nRead  lines of input from stdin (according to the sequence given in the Input Format section below) and initialize your  variables.\\nUse the  operator to perform the following operations: \\nPrint the sum of  plus your int variable on a new line.\\nPrint the sum of  plus your double variable to a scale of one decimal place on a new line.\\nConcatenate  with the string you read as input and print the result on a new line.\\n\""
      ]
     },
     "execution_count": 5,
     "metadata": {},
     "output_type": "execute_result"
    }
   ],
   "source": [
    "\"\"\"\n",
    "Objective \n",
    "Today, we're discussing data types. Check out the Tutorial tab for learning materials and an instructional video!\n",
    "Task \n",
    "Complete the code in the editor below. The variables , , and  are already declared and initialized for you. You must:\n",
    "Declare  variables: one of type int, one of type double, and one of type String.\n",
    "Read  lines of input from stdin (according to the sequence given in the Input Format section below) and initialize your  variables.\n",
    "Use the  operator to perform the following operations: \n",
    "Print the sum of  plus your int variable on a new line.\n",
    "Print the sum of  plus your double variable to a scale of one decimal place on a new line.\n",
    "Concatenate  with the string you read as input and print the result on a new line.\n",
    "\"\"\""
   ]
  },
  {
   "cell_type": "code",
   "execution_count": 12,
   "metadata": {},
   "outputs": [
    {
     "name": "stdout",
     "output_type": "stream",
     "text": [
      "4\n",
      "4.0\n",
      "\"is the best place to learn and practice coding!\"\n",
      "8\n",
      "8.0\n",
      "HackerRank \"is the best place to learn and practice coding!\"\n"
     ]
    }
   ],
   "source": [
    "\"\"\"i = 4\n",
    "d = 4.0\n",
    "s = 'HackerRank ' \"\"\"\n",
    "\n",
    "## Declare second integer, double, and String variables.\n",
    "a = 0\n",
    "b = 0.0\n",
    "c = \"\"\n",
    "\n",
    "# Read and save an integer, double, and String to your variables.\n",
    "a = int(input())\n",
    "b = float(input())\n",
    "c = str(input())\n",
    "# Print the sum of both integer variables on a new line.\n",
    "print(i+a)\n",
    "# Print the sum of the double variables on a new line.\n",
    "print(d+b)\n",
    "# Concatenate and print the String variables on a new line\n",
    "print(s+c)\n",
    "# The 's' variable above should be printed first.\n",
    "\n"
   ]
  },
  {
   "cell_type": "code",
   "execution_count": 9,
   "metadata": {},
   "outputs": [
    {
     "data": {
      "text/plain": [
       "3"
      ]
     },
     "execution_count": 9,
     "metadata": {},
     "output_type": "execute_result"
    }
   ],
   "source": [
    "1+2"
   ]
  },
  {
   "cell_type": "code",
   "execution_count": null,
   "metadata": {},
   "outputs": [],
   "source": []
  }
 ],
 "metadata": {
  "kernelspec": {
   "display_name": "Python 3",
   "language": "python",
   "name": "python3"
  },
  "language_info": {
   "codemirror_mode": {
    "name": "ipython",
    "version": 3
   },
   "file_extension": ".py",
   "mimetype": "text/x-python",
   "name": "python",
   "nbconvert_exporter": "python",
   "pygments_lexer": "ipython3",
   "version": "3.7.6"
  },
  "toc": {
   "base_numbering": 1,
   "nav_menu": {},
   "number_sections": true,
   "sideBar": true,
   "skip_h1_title": false,
   "title_cell": "Table of Contents",
   "title_sidebar": "Contents",
   "toc_cell": false,
   "toc_position": {},
   "toc_section_display": true,
   "toc_window_display": false
  },
  "varInspector": {
   "cols": {
    "lenName": 16,
    "lenType": 16,
    "lenVar": 40
   },
   "kernels_config": {
    "python": {
     "delete_cmd_postfix": "",
     "delete_cmd_prefix": "del ",
     "library": "var_list.py",
     "varRefreshCmd": "print(var_dic_list())"
    },
    "r": {
     "delete_cmd_postfix": ") ",
     "delete_cmd_prefix": "rm(",
     "library": "var_list.r",
     "varRefreshCmd": "cat(var_dic_list()) "
    }
   },
   "types_to_exclude": [
    "module",
    "function",
    "builtin_function_or_method",
    "instance",
    "_Feature"
   ],
   "window_display": false
  }
 },
 "nbformat": 4,
 "nbformat_minor": 2
}

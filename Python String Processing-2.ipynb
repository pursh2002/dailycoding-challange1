{
 "cells": [
  {
   "cell_type": "markdown",
   "metadata": {},
   "source": [
    "#### 1. Stripping Whitepsace"
   ]
  },
  {
   "cell_type": "code",
   "execution_count": 44,
   "metadata": {},
   "outputs": [
    {
     "name": "stdout",
     "output_type": "stream",
     "text": [
      "Strip leading whitespace: Note that meaningful text analytics go way beyond string processing.       \n",
      "\n",
      "Strip trailing whitespace:   Note that meaningful text analytics go way beyond string processing.\n",
      "Strip all whitespace: Note that meaningful text analytics go way beyond string processing.\n"
     ]
    }
   ],
   "source": [
    "s = '   Note that meaningful text analytics go way beyond string processing.       \\n'\n",
    "print('Strip leading whitespace: {}'.format(s.lstrip()))\n",
    "print('Strip trailing whitespace:{}'.format(s.rstrip()))\n",
    "print('Strip all whitespace: {}'.format(s.strip()))"
   ]
  },
  {
   "cell_type": "code",
   "execution_count": 45,
   "metadata": {},
   "outputs": [
    {
     "name": "stdout",
     "output_type": "stream",
     "text": [
      "Strip unwanted characters:This is a sentence with unwanted characters.\n"
     ]
    }
   ],
   "source": [
    "s = 'This is a sentence with unwanted characters.AAAAAAAA'\n",
    "\n",
    "print('Strip unwanted characters:{}'.format(s.rstrip('A')))"
   ]
  },
  {
   "cell_type": "markdown",
   "metadata": {},
   "source": [
    "#### 2. Splitting Strings"
   ]
  },
  {
   "cell_type": "code",
   "execution_count": 46,
   "metadata": {},
   "outputs": [
    {
     "name": "stdout",
     "output_type": "stream",
     "text": [
      "['Coursera', 'is', 'a', 'fantastic', 'resource']\n"
     ]
    }
   ],
   "source": [
    "s = 'Coursera is a fantastic resource'\n",
    "print(s.split())"
   ]
  },
  {
   "cell_type": "code",
   "execution_count": 47,
   "metadata": {},
   "outputs": [
    {
     "name": "stdout",
     "output_type": "stream",
     "text": [
      "',' seperated split --> ['these', 'words', 'are', 'separated', 'by', 'comma']\n"
     ]
    }
   ],
   "source": [
    "s = 'these,words,are,separated,by,comma'\n",
    "print('\\',\\' seperated split --> {}'.format(s.split(',')))"
   ]
  },
  {
   "cell_type": "code",
   "execution_count": 48,
   "metadata": {},
   "outputs": [
    {
     "name": "stdout",
     "output_type": "stream",
     "text": [
      "'' seperated split ---> ['a', 'ac', 'de', 'fg', 'hhg', 'a', 'dd', 'a']\n"
     ]
    }
   ],
   "source": [
    "s = 'abacbdebfgbhhgbabddba'\n",
    "print('\\'\\' seperated split ---> {}'.format(s.split('b')))"
   ]
  },
  {
   "cell_type": "markdown",
   "metadata": {},
   "source": [
    "#### 3. Joining List Elements Into a String"
   ]
  },
  {
   "cell_type": "code",
   "execution_count": 49,
   "metadata": {},
   "outputs": [
    {
     "name": "stdout",
     "output_type": "stream",
     "text": [
      "Web is a fantastic resource\n"
     ]
    }
   ],
   "source": [
    "s = ['Web', 'is', 'a', 'fantastic', 'resource']\n",
    "print(' '.join(s))"
   ]
  },
  {
   "cell_type": "code",
   "execution_count": 50,
   "metadata": {},
   "outputs": [
    {
     "name": "stdout",
     "output_type": "stream",
     "text": [
      "Eleven and Mike and Dustin and Lucas and Will\n"
     ]
    }
   ],
   "source": [
    "s = ['Eleven', 'Mike', 'Dustin', 'Lucas', 'Will']\n",
    "print(' and '.join(s))"
   ]
  },
  {
   "cell_type": "markdown",
   "metadata": {},
   "source": [
    "#### 4. Reversing a String"
   ]
  },
  {
   "cell_type": "code",
   "execution_count": 51,
   "metadata": {},
   "outputs": [
    {
     "name": "stdout",
     "output_type": "stream",
     "text": [
      "the reverse of KDnuggets is:mattohsruP\n"
     ]
    }
   ],
   "source": [
    "s = 'Purshottam'\n",
    "print('the reverse of KDnuggets is:{}'.format(s[::-1]))"
   ]
  },
  {
   "cell_type": "code",
   "execution_count": 52,
   "metadata": {},
   "outputs": [
    {
     "name": "stdout",
     "output_type": "stream",
     "text": [
      "'' as upper:PURSHOTTAM\n",
      "'' as lower:purshottam\n",
      "'' as swapped:pURSHOTTAM\n"
     ]
    }
   ],
   "source": [
    "s = 'Purshottam'\n",
    "print('\\'\\' as upper:{}'.format(s.upper()))\n",
    "print('\\'\\' as lower:{}'.format(s.lower()))\n",
    "print('\\'\\' as swapped:{}'.format(s.swapcase()))\n",
    "\n"
   ]
  },
  {
   "cell_type": "markdown",
   "metadata": {},
   "source": [
    "#### 6. Checking for String Membership"
   ]
  },
  {
   "cell_type": "code",
   "execution_count": 53,
   "metadata": {},
   "outputs": [
    {
     "name": "stdout",
     "output_type": "stream",
     "text": [
      "'pen' in 'perpendicular'-->False\n",
      "'pen' in 'perpendicualr'-->True\n"
     ]
    }
   ],
   "source": [
    "s1 = 'Tigerm'\n",
    "s2 = 'Time'\n",
    "s3 = 'Ti'\n",
    "print('\\'pen\\' in \\'perpendicular\\'-->{}'.format(s2 in s1))\n",
    "print('\\'pen\\' in \\'perpendicualr\\'-->{}'.format(s3 in s1))"
   ]
  },
  {
   "cell_type": "code",
   "execution_count": 54,
   "metadata": {},
   "outputs": [
    {
     "name": "stdout",
     "output_type": "stream",
     "text": [
      "'string' location ---> 10\n",
      "'string' location -->-1\n"
     ]
    }
   ],
   "source": [
    "s = 'Does this string contain a substring?'\n",
    "print('\\'string\\' location ---> {}'.format(s.find('string')))\n",
    "print('\\'string\\' location -->{}'.format(s.find('spring')))\n",
    "\n"
   ]
  },
  {
   "cell_type": "markdown",
   "metadata": {},
   "source": [
    "### 7. Replacing Substrings"
   ]
  },
  {
   "cell_type": "code",
   "execution_count": 55,
   "metadata": {},
   "outputs": [
    {
     "name": "stdout",
     "output_type": "stream",
     "text": [
      "the new sentence:The practice of data science is of the utmost importance.\n"
     ]
    }
   ],
   "source": [
    "s1 = 'The theory of data science is of the utmost importance.'\n",
    "s2 = 'practice'\n",
    "print('the new sentence:{}'.format(s1.replace('theory',s2)))"
   ]
  },
  {
   "cell_type": "markdown",
   "metadata": {},
   "source": [
    "#### 8. Combining the Output of Multiple Lists\n"
   ]
  },
  {
   "cell_type": "code",
   "execution_count": 56,
   "metadata": {},
   "outputs": [
    {
     "name": "stdout",
     "output_type": "stream",
     "text": [
      "the capital of USA is Washington\n",
      "the capital of Canada is Ottawa\n",
      "the capital of UK is London\n",
      "the capital of Australia is Canberra\n"
     ]
    }
   ],
   "source": [
    "countries = ['USA', 'Canada', 'UK', 'Australia']\n",
    "cities = ['Washington', 'Ottawa', 'London', 'Canberra']\n",
    "for x,y in zip(countries,cities):\n",
    "    print('the capital of {} is {}'.format(x,y))\n",
    "    "
   ]
  },
  {
   "cell_type": "markdown",
   "metadata": {},
   "source": [
    "#### 9. Checking for Anagrams"
   ]
  },
  {
   "cell_type": "code",
   "execution_count": 57,
   "metadata": {},
   "outputs": [
    {
     "name": "stdout",
     "output_type": "stream",
     "text": [
      "'listen' is an anagram of 'silent'-->True\n",
      "'runner' is an anagram of 'neuron' -->False\n"
     ]
    }
   ],
   "source": [
    "from collections import Counter \n",
    "def anagram(s1,s2):\n",
    "    return(Counter(s1) == Counter(s2))\n",
    "s1 = 'listen'\n",
    "s2 = 'silent'\n",
    "s3 = 'runner'\n",
    "s4 = 'neuron'\n",
    "\n",
    "print('\\'listen\\' is an anagram of \\'silent\\'-->{}'.format(anagram(s1,s2)))\n",
    "print('\\'runner\\' is an anagram of \\'neuron\\' -->{}'.format(anagram(s3,s4)))\n"
   ]
  },
  {
   "cell_type": "markdown",
   "metadata": {},
   "source": [
    "#### 10. Checking for Palindromes"
   ]
  },
  {
   "cell_type": "code",
   "execution_count": 58,
   "metadata": {},
   "outputs": [
    {
     "name": "stdout",
     "output_type": "stream",
     "text": [
      "'racecar' is the Palindromes --> True\n",
      "'hippopotamus' is the palindromes -->False\n"
     ]
    }
   ],
   "source": [
    "s1 = 'racecar'\n",
    "s2 = 'hippopotamus'\n",
    "def is_palindromes(s):\n",
    "    reverse = s[::-1]\n",
    "    if (s == reverse):\n",
    "        return True\n",
    "    return False\n",
    "print('\\'racecar\\' is the Palindromes --> {}'.format(is_palindromes(s1)))\n",
    "print('\\'hippopotamus\\' is the palindromes -->{}'.format(is_palindromes(s2)))\n"
   ]
  },
  {
   "cell_type": "code",
   "execution_count": null,
   "metadata": {},
   "outputs": [],
   "source": []
  }
 ],
 "metadata": {
  "kernelspec": {
   "display_name": "Python 3",
   "language": "python",
   "name": "python3"
  },
  "language_info": {
   "codemirror_mode": {
    "name": "ipython",
    "version": 3
   },
   "file_extension": ".py",
   "mimetype": "text/x-python",
   "name": "python",
   "nbconvert_exporter": "python",
   "pygments_lexer": "ipython3",
   "version": "3.7.4"
  }
 },
 "nbformat": 4,
 "nbformat_minor": 2
}

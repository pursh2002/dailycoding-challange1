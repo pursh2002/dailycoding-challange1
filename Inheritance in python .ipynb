{
 "cells": [
  {
   "cell_type": "markdown",
   "metadata": {},
   "source": [
    "Single Inheritance "
   ]
  },
  {
   "cell_type": "code",
   "execution_count": 3,
   "metadata": {},
   "outputs": [
    {
     "name": "stdout",
     "output_type": "stream",
     "text": [
      "5\n"
     ]
    }
   ],
   "source": [
    "class student:\n",
    "    no_of_sub = 5 # class varaible \n",
    "    def __init__(self,aname,astandard,asection):\n",
    "        self.name = aname \n",
    "        self.standard = astandard\n",
    "        self.section = asection\n",
    "        \n",
    "    def details(self):\n",
    "        return f'Name is{self.name},standard is{self.astandard},section is{self.asection}'\n",
    "    \n",
    "class teacher(student):\n",
    "    no_of_working_hours = 12\n",
    "    def __init__(self,aname,astandard,asection,asalary):\n",
    "        self.name = aname \n",
    "        self.standard = astandard\n",
    "        self.section = asection\n",
    "        self.salary = asalary \n",
    "    \n",
    "    def tech_details(self):\n",
    "        return f\"Name of teacher{self.name}, standard is {astandard}, section is {asection}, salary is {asalary}\"\n",
    "        \n",
    "    \n",
    "one = student(\"Riya\",10,\"A\")\n",
    "two = student(\"tom\",10,\"B\")\n",
    "\n",
    "three = teacher(\"ani\", 30, \"A\",\"500\")\n",
    "four = teacher(\"ray\", 29,\"B\",\"600\")\n",
    "\n",
    "print(teacher.no_of_sub)\n",
    "\n"
   ]
  },
  {
   "cell_type": "markdown",
   "metadata": {},
   "source": [
    "#Multiple Inheritance "
   ]
  },
  {
   "cell_type": "code",
   "execution_count": 6,
   "metadata": {},
   "outputs": [
    {
     "name": "stdout",
     "output_type": "stream",
     "text": [
      "this is what a plant is built\n",
      "i want to buy plant as well as flower\n",
      "I am a sunflower\n"
     ]
    }
   ],
   "source": [
    "class plant():\n",
    "    def type(self):\n",
    "        print(\"this is what a plant is built\")\n",
    "        \n",
    "class flower():\n",
    "    def kind(self):\n",
    "        print(\"I am a sunflower\")\n",
    "        \n",
    "class purchaser(plant,flower):\n",
    "    def buy(self):\n",
    "        print(\"i want to buy plant as well as flower\")\n",
    "    \n",
    "    \n",
    "p = purchaser()\n",
    "p.type()\n",
    "p.buy()\n",
    "p.kind()"
   ]
  },
  {
   "cell_type": "markdown",
   "metadata": {},
   "source": [
    "Multi level"
   ]
  },
  {
   "cell_type": "code",
   "execution_count": 8,
   "metadata": {},
   "outputs": [
    {
     "name": "stdout",
     "output_type": "stream",
     "text": [
      "She plays badminton 1\n"
     ]
    }
   ],
   "source": [
    "class Mother():\n",
    "    exercise = 2\n",
    "\n",
    "class daughter(Mother):\n",
    "    Badminton = 3\n",
    "    def isbadminton(self):\n",
    "        return f'She plays badminton{self.Badminton}'\n",
    "\n",
    "class granddaughter(daughter):\n",
    "    Badminton = 1 \n",
    "    def isbadminton(self):\n",
    "        return f'She plays badminton {self.Badminton}'\n",
    "\n",
    "riya = Mother()\n",
    "priya = daughter()\n",
    "rita = granddaughter()\n",
    "print(rita.isbadminton())    \n",
    "    \n",
    "    "
   ]
  },
  {
   "cell_type": "markdown",
   "metadata": {},
   "source": [
    "- Public, - every one can use \n",
    "- Protected, - only sub class can use (child class)\n",
    "- Private - only class can use "
   ]
  },
  {
   "cell_type": "code",
   "execution_count": 16,
   "metadata": {},
   "outputs": [
    {
     "name": "stdout",
     "output_type": "stream",
     "text": [
      "100\n"
     ]
    }
   ],
   "source": [
    "class student:\n",
    "    no_of_subjects = 5\n",
    "    _prot = 2\n",
    "    __pri = 100 \n",
    "    \n",
    "    def __init__(self,aname,astandard,asection):\n",
    "        self.name = aname\n",
    "        self.standard = astandard\n",
    "        self.section = asection\n",
    "        \n",
    "    def details(self):\n",
    "        return f'Name is{self.name},standard is{self.astandard},section is{self.asection}'\n",
    "\n",
    "one = student(\"Riya\",10,\"A\")\n",
    "#two = student(\"tom\",10,\"B\")\n",
    "#student.no_of_subjects\n",
    "#print(one._prot)\n",
    "#print(one.__pri)\n",
    "print(one._student__pri) # known as name mangling "
   ]
  },
  {
   "cell_type": "code",
   "execution_count": 17,
   "metadata": {},
   "outputs": [],
   "source": [
    "## https://www.youtube.com/watch?v=HHqT40FS9XQ "
   ]
  },
  {
   "cell_type": "code",
   "execution_count": null,
   "metadata": {},
   "outputs": [],
   "source": []
  }
 ],
 "metadata": {
  "kernelspec": {
   "display_name": "Python 3",
   "language": "python",
   "name": "python3"
  },
  "language_info": {
   "codemirror_mode": {
    "name": "ipython",
    "version": 3
   },
   "file_extension": ".py",
   "mimetype": "text/x-python",
   "name": "python",
   "nbconvert_exporter": "python",
   "pygments_lexer": "ipython3",
   "version": "3.7.6"
  },
  "toc": {
   "base_numbering": 1,
   "nav_menu": {},
   "number_sections": true,
   "sideBar": true,
   "skip_h1_title": false,
   "title_cell": "Table of Contents",
   "title_sidebar": "Contents",
   "toc_cell": false,
   "toc_position": {},
   "toc_section_display": true,
   "toc_window_display": false
  },
  "varInspector": {
   "cols": {
    "lenName": 16,
    "lenType": 16,
    "lenVar": 40
   },
   "kernels_config": {
    "python": {
     "delete_cmd_postfix": "",
     "delete_cmd_prefix": "del ",
     "library": "var_list.py",
     "varRefreshCmd": "print(var_dic_list())"
    },
    "r": {
     "delete_cmd_postfix": ") ",
     "delete_cmd_prefix": "rm(",
     "library": "var_list.r",
     "varRefreshCmd": "cat(var_dic_list()) "
    }
   },
   "types_to_exclude": [
    "module",
    "function",
    "builtin_function_or_method",
    "instance",
    "_Feature"
   ],
   "window_display": false
  }
 },
 "nbformat": 4,
 "nbformat_minor": 2
}

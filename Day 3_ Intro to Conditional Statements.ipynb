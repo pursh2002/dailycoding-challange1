{
 "cells": [
  {
   "cell_type": "markdown",
   "metadata": {},
   "source": [
    "### Day 3: Intro to Conditional Statements\n",
    "###### In this challenge, we learn about conditional statements. \n",
    "##### https://www.hackerrank.com/challenges/30-conditional-statements/problem\n",
    "##### Task \n",
    "##### Given an integer, , perform the following conditional actions:\n",
    "###### If n is odd, print Weird\n",
    "###### If n is even and in the inclusive range of  to , print Not Weird\n",
    "##### If n is even and in the inclusive range of  to , print Weird\n",
    "##### If n is even and greater than , print Not Weird\n",
    "###### Complete the stub code provided in your editor to print whether or not  is weird.\n",
    "### Input Format\n",
    "###### A single line containing a positive integer, n \n",
    "##### Constraints\n",
    "\n",
    "### Output Format\n",
    "###### Print Weird if the number is weird; otherwise, print Not Weird.\n",
    "###### Sample Input 0\n",
    " 3"
   ]
  },
  {
   "cell_type": "code",
   "execution_count": 27,
   "metadata": {},
   "outputs": [
    {
     "name": "stdout",
     "output_type": "stream",
     "text": [
      "Weird\n"
     ]
    }
   ],
   "source": [
    "def conditio_l(n):\n",
    "    #n = int(input())\n",
    "    if (n % 2) == 1:\n",
    "        print('Weird')\n",
    "    elif(n%2) == 0 and  2<=n<5:\n",
    "        print('Not Weird')\n",
    "    elif n%2 == 0 and 6<=n<=21:\n",
    "        print('Weird')\n",
    "    else:\n",
    "        n%2 ==0 and n > 21\n",
    "        print('Not Weird')\n",
    "# n = 24, n= 3\n",
    "conditio_l(3)"
   ]
  },
  {
   "cell_type": "code",
   "execution_count": null,
   "metadata": {},
   "outputs": [],
   "source": []
  }
 ],
 "metadata": {
  "kernelspec": {
   "display_name": "Python 3",
   "language": "python",
   "name": "python3"
  },
  "language_info": {
   "codemirror_mode": {
    "name": "ipython",
    "version": 3
   },
   "file_extension": ".py",
   "mimetype": "text/x-python",
   "name": "python",
   "nbconvert_exporter": "python",
   "pygments_lexer": "ipython3",
   "version": "3.7.6"
  },
  "toc": {
   "base_numbering": 1,
   "nav_menu": {},
   "number_sections": true,
   "sideBar": true,
   "skip_h1_title": false,
   "title_cell": "Table of Contents",
   "title_sidebar": "Contents",
   "toc_cell": false,
   "toc_position": {},
   "toc_section_display": true,
   "toc_window_display": false
  },
  "varInspector": {
   "cols": {
    "lenName": 16,
    "lenType": 16,
    "lenVar": 40
   },
   "kernels_config": {
    "python": {
     "delete_cmd_postfix": "",
     "delete_cmd_prefix": "del ",
     "library": "var_list.py",
     "varRefreshCmd": "print(var_dic_list())"
    },
    "r": {
     "delete_cmd_postfix": ") ",
     "delete_cmd_prefix": "rm(",
     "library": "var_list.r",
     "varRefreshCmd": "cat(var_dic_list()) "
    }
   },
   "types_to_exclude": [
    "module",
    "function",
    "builtin_function_or_method",
    "instance",
    "_Feature"
   ],
   "window_display": false
  }
 },
 "nbformat": 4,
 "nbformat_minor": 2
}

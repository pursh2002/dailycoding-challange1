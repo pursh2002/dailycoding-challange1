{
 "cells": [
  {
   "cell_type": "code",
   "execution_count": 8,
   "metadata": {},
   "outputs": [
    {
     "name": "stdout",
     "output_type": "stream",
     "text": [
      "NumPy Array time : 1.01  Sec.\n",
      "Python Array time : 1.62  Sec.\n"
     ]
    }
   ],
   "source": [
    "#Import libraries needed\n",
    "import numpy\n",
    "import time\n",
    "from array import array\n",
    "\n",
    "#Funtion uses numpy array\n",
    "def numpy_array(n):\n",
    "    start_time = time.time()\n",
    "\n",
    "    #Creating empty numpy array\n",
    "    p = numpy.empty(n)\n",
    "\n",
    "    #Assigning value to each element\n",
    "    for i in range(n):\n",
    "        p[i] = i\n",
    "    end_time = time.time()\n",
    "\n",
    "    #Calculating time difference\n",
    "    return end_time - start_time\n",
    "\n",
    "#Function uses python array\n",
    "def python_array(n):\n",
    "    start_time = time.time()\n",
    "\n",
    "    #Creating python array\n",
    "    p = array('d')\n",
    "\n",
    "    #Assigning value to each element\n",
    "    for i in range(n):\n",
    "        p.append(i)\n",
    "    end_time = time.time()\n",
    "\n",
    "    #Calculating time difference\n",
    "    return end_time - start_time\n",
    "\n",
    "print('NumPy Array time :',round(numpy_array(10000000),2),' Sec.')\n",
    "print('Python Array time :',round(python_array(10000000),2), ' Sec.')"
   ]
  },
  {
   "cell_type": "code",
   "execution_count": 9,
   "metadata": {},
   "outputs": [
    {
     "name": "stdout",
     "output_type": "stream",
     "text": [
      "NumPy Array time : 0.01  Sec.\n",
      "Python List time : 0.33  Sec.\n"
     ]
    }
   ],
   "source": [
    "import numpy as np \n",
    "import time \n",
    "size_of_vec = 1000000 \n",
    "\n",
    "def python_list_v():\n",
    "    start_time = time.time()\n",
    "    X = range(size_of_vec)\n",
    "    Y = range(size_of_vec)\n",
    "    Z = [X[i] + Y[i] for i in range(len(X))]\n",
    "    return time.time() - start_time\n",
    "def numpy_array_v():\n",
    "    start_time = time.time()\n",
    "    X = np.arange(size_of_vec)\n",
    "    Y = np.arange(size_of_vec)\n",
    "    Z = X + Y \n",
    "    return time.time() - start_time\n",
    "print('NumPy Array time :',round(numpy_array_v(),2),' Sec.')\n",
    "print('Python List time :',round(python_list_v(),2), ' Sec.')"
   ]
  },
  {
   "cell_type": "code",
   "execution_count": 13,
   "metadata": {},
   "outputs": [
    {
     "name": "stdout",
     "output_type": "stream",
     "text": [
      "rank1 array [1 2 3]\n",
      "rank 2 array [[1 2 3]\n",
      " [4 5 6]]\n",
      "array of tupel [1 2 3]\n"
     ]
    }
   ],
   "source": [
    "# Creating an array\n",
    "arr = np.array([1,2,3])\n",
    "print(\"rank1 array\", arr)\n",
    "\n",
    "arr = np.array([[1,2,3],[4, 5, 6]])\n",
    "print(\"rank 2 array\", arr)\n",
    "\n",
    "arr = np.array((1,2,3))\n",
    "print(\"array of tupel\", arr)"
   ]
  },
  {
   "cell_type": "code",
   "execution_count": 14,
   "metadata": {},
   "outputs": [
    {
     "name": "stdout",
     "output_type": "stream",
     "text": [
      "Array with last 2 rows and alternate columns  [[  5   7]\n",
      " [  9 -11]]\n",
      "Elements at indices (0, 3), (1, 2), (2, 1):  [ 4  7 10]\n",
      "Elements greater than 2:   [ 3  4  5  7  9 10]\n"
     ]
    }
   ],
   "source": [
    "# Array indexing\n",
    "arr = np.array([[1,2,3,4], \n",
    "                [5,-6,7,-8], \n",
    "                [9,10,-11,-12]]) \n",
    "sliced_array = arr[1:,::2]\n",
    "print (\"Array with last 2 rows and alternate columns \", sliced_array) \n",
    "\n",
    "integer_indexing_array  = arr[[0,1,2],[3,2,1]]\n",
    "print (\"Elements at indices (0, 3), (1, 2), (2, 1): \", integer_indexing_array) \n",
    "\n",
    "# boolean array indexing\n",
    "condition = arr > 2\n",
    "boolean_indexing_array = arr[condition] \n",
    "print (\"Elements greater than 2:  \", boolean_indexing_array) \n"
   ]
  },
  {
   "cell_type": "code",
   "execution_count": 19,
   "metadata": {},
   "outputs": [
    {
     "name": "stdout",
     "output_type": "stream",
     "text": [
      "addition of two arrays [[ 6  8]\n",
      " [10 12]]\n",
      "addition of all array 10\n",
      "trace of array 5\n",
      "\n",
      "Square root of Array1 elements:  [[1.         1.41421356]\n",
      " [1.73205081 2.        ]]\n",
      "Transpose of Array:  [[1 3]\n",
      " [2 4]]\n"
     ]
    }
   ],
   "source": [
    "# Basic array operations\n",
    "#first array\n",
    "import numpy as np \n",
    "\n",
    "arr1 = np.array([[1,2],[3,4]])\n",
    "arr2 = np.array([[5,6],[7,8]])\n",
    "#addition\n",
    "sum_of_array = np.add(arr1, arr2)\n",
    "print(\"addition of two arrays\",sum_of_array)\n",
    "\n",
    "# Addition of all Array elements\n",
    "sum_array_elements = numpy.sum(arr1)\n",
    "print(\"addition of all array\",sum_array_elements)\n",
    "\n",
    "#Trace of Array\n",
    "trace_array = np.trace(arr1)\n",
    "print('trace of array',trace_array)\n",
    "\n",
    "# Square root of Array\n",
    "sqrt_arry = numpy.sqrt(arr1)\n",
    "print(\"\\nSquare root of Array1 elements: \",sqrt_arry)\n",
    " \n",
    "# Transpose of Array\n",
    "trans_arry = arr1.T\n",
    "print(\"Transpose of Array: \",trans_arry)"
   ]
  },
  {
   "cell_type": "code",
   "execution_count": 23,
   "metadata": {},
   "outputs": [
    {
     "name": "stdout",
     "output_type": "stream",
     "text": [
      "[ 7  8  9 10 11 12 13 14]\n",
      "[ 7  8  9 10 11 12 13 14]\n",
      "[ 7  8  9 10 11 12 13 14]\n"
     ]
    }
   ],
   "source": [
    "# How can we extract numbers within a range from a NumPy array?\n",
    "import numpy as np\n",
    "arr = numpy.arange(20)\n",
    "# Using where\n",
    "index = np.where((arr >= 7) & (arr<= 14))\n",
    "print(arr[index]) \n",
    "\n",
    "# using logical end\n",
    "index = np.where(np.logical_and(arr >= 7, arr<=14))\n",
    "print(arr[index])\n",
    " # using conditions on array \n",
    "    \n",
    "new_arr = arr[(arr >= 7) & (arr <= 14)] \n",
    "print(new_arr)"
   ]
  },
  {
   "cell_type": "code",
   "execution_count": 24,
   "metadata": {},
   "outputs": [
    {
     "name": "stdout",
     "output_type": "stream",
     "text": [
      "Original Array:   [0 1 2 3 4]\n",
      "Reversed Array:   [4 3 2 1 0]\n"
     ]
    }
   ],
   "source": [
    "#How can we reverse NumPy array elements?\n",
    "import numpy as np \n",
    "arr = np.arange(5)\n",
    "print('Original Array:  ', arr)\n",
    "rev_arr = arr[::-1]\n",
    "print('Reversed Array:  ',rev_arr)"
   ]
  },
  {
   "cell_type": "code",
   "execution_count": 25,
   "metadata": {},
   "outputs": [
    {
     "name": "stdout",
     "output_type": "stream",
     "text": [
      "Categorical Array:   ['Small' 'Large' 'Medium' 'Large' 'Medium' 'Small' 'Small']\n",
      "Numerical Array:  [1 3 2 3 2 1 1]\n"
     ]
    }
   ],
   "source": [
    "#mapping each category to a number\n",
    "import numpy as np \n",
    "category = ['Small','Large','Medium','Large','Medium','Small','Small']\n",
    "category_array = np.array(category)\n",
    "print('Categorical Array:  ',category_array) \n",
    "label_map = {'Small': 1, 'Medium': 2, 'Large': 3} \n",
    "numeric_array = numpy.array([label_map[x] for x in category_array])\n",
    "print('Numerical Array: ',numeric_array)\n",
    "\n"
   ]
  },
  {
   "cell_type": "code",
   "execution_count": 27,
   "metadata": {},
   "outputs": [
    {
     "name": "stdout",
     "output_type": "stream",
     "text": [
      "max value in row [ 4  7 10]\n",
      "max value in column [ 9 10  7  4]\n"
     ]
    }
   ],
   "source": [
    "#How can we find the maximum value in each row and column of a NumPy 2d array?\n",
    "import numpy as np\n",
    "arr = np.array([[1,2,3,4], \n",
    "                [5,-6,7,-8], \n",
    "                [9,10,-11,-12]])\n",
    "print(\"max value in row\", np.amax(arr,axis = 1))\n",
    "print(\"max value in column\", np.amax(arr,axis=0))"
   ]
  },
  {
   "cell_type": "code",
   "execution_count": null,
   "metadata": {},
   "outputs": [],
   "source": []
  }
 ],
 "metadata": {
  "kernelspec": {
   "display_name": "Python 3",
   "language": "python",
   "name": "python3"
  },
  "language_info": {
   "codemirror_mode": {
    "name": "ipython",
    "version": 3
   },
   "file_extension": ".py",
   "mimetype": "text/x-python",
   "name": "python",
   "nbconvert_exporter": "python",
   "pygments_lexer": "ipython3",
   "version": "3.7.6"
  },
  "toc": {
   "base_numbering": 1,
   "nav_menu": {},
   "number_sections": true,
   "sideBar": true,
   "skip_h1_title": false,
   "title_cell": "Table of Contents",
   "title_sidebar": "Contents",
   "toc_cell": false,
   "toc_position": {},
   "toc_section_display": true,
   "toc_window_display": false
  },
  "varInspector": {
   "cols": {
    "lenName": 16,
    "lenType": 16,
    "lenVar": 40
   },
   "kernels_config": {
    "python": {
     "delete_cmd_postfix": "",
     "delete_cmd_prefix": "del ",
     "library": "var_list.py",
     "varRefreshCmd": "print(var_dic_list())"
    },
    "r": {
     "delete_cmd_postfix": ") ",
     "delete_cmd_prefix": "rm(",
     "library": "var_list.r",
     "varRefreshCmd": "cat(var_dic_list()) "
    }
   },
   "types_to_exclude": [
    "module",
    "function",
    "builtin_function_or_method",
    "instance",
    "_Feature"
   ],
   "window_display": false
  }
 },
 "nbformat": 4,
 "nbformat_minor": 2
}

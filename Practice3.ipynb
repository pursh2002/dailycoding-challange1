{
 "cells": [
  {
   "cell_type": "code",
   "execution_count": 5,
   "metadata": {},
   "outputs": [
    {
     "name": "stdout",
     "output_type": "stream",
     "text": [
      "4 (7, 3, 0) {'x': 10, 'y': 64}\n"
     ]
    }
   ],
   "source": [
    "def all_aboard(a, *args, **kw): \n",
    "    print(a, args, kw)\n",
    " \n",
    "all_aboard(4, 7, 3, 0, x=10, y=64)"
   ]
  },
  {
   "cell_type": "code",
   "execution_count": 8,
   "metadata": {},
   "outputs": [
    {
     "data": {
      "text/plain": [
       "'Isarray'"
      ]
     },
     "execution_count": 8,
     "metadata": {},
     "output_type": "execute_result"
    }
   ],
   "source": [
    "# Write a Python program to get a new string from a given string where \"Is\" has been added to the front. If the given string already begins with \"Is\" then return the string unchanged.\n",
    "def new_string(str):\n",
    "    if len(str) >=2 and str[:2] == \"Is\":\n",
    "        return str \n",
    "    return \"Is\" + str\n",
    "new_string(\"Isempthy\")\n",
    "new_string(\"array\")"
   ]
  },
  {
   "cell_type": "code",
   "execution_count": 9,
   "metadata": {},
   "outputs": [
    {
     "data": {
      "text/plain": [
       "'IsArray'"
      ]
     },
     "execution_count": 9,
     "metadata": {},
     "output_type": "execute_result"
    }
   ],
   "source": [
    "def new_string(str):\n",
    "    if len(str) >=2 and str[:2] == \"Is\":\n",
    "        return str \n",
    "    return \"Is\" + str\n",
    "new_string(\"Isempty\")\n",
    "new_string(\"Array\")"
   ]
  },
  {
   "cell_type": "code",
   "execution_count": 13,
   "metadata": {},
   "outputs": [],
   "source": [
    "#Write a Python program to get a string which is n (non-negative integer) copies of a given string."
   ]
  },
  {
   "cell_type": "code",
   "execution_count": 15,
   "metadata": {},
   "outputs": [
    {
     "name": "stdout",
     "output_type": "stream",
     "text": [
      " abcabc\n",
      " .py.py.py\n"
     ]
    }
   ],
   "source": [
    "def larg_str(str,n):\n",
    "    result = \" \"\n",
    "    for i in range(n):\n",
    "        result = result + str\n",
    "    return result \n",
    "print(larg_str('abc',2))\n",
    "print(larg_str(\".py\",3))"
   ]
  },
  {
   "cell_type": "code",
   "execution_count": 16,
   "metadata": {},
   "outputs": [],
   "source": [
    "# Write a Python program to find whether a given number (accept from the user) is even or odd, print out an appropriate message to the user."
   ]
  },
  {
   "cell_type": "code",
   "execution_count": 17,
   "metadata": {},
   "outputs": [
    {
     "name": "stdout",
     "output_type": "stream",
     "text": [
      "Enter a number: 10\n",
      "This is an even number.\n"
     ]
    }
   ],
   "source": [
    "num = int(input(\"Enter a number: \"))\n",
    "mod = num % 2\n",
    "if mod > 0:\n",
    "    print(\"This is an odd number.\")\n",
    "else:\n",
    "    print(\"This is an even number.\")"
   ]
  },
  {
   "cell_type": "code",
   "execution_count": 22,
   "metadata": {},
   "outputs": [
    {
     "name": "stdout",
     "output_type": "stream",
     "text": [
      "this is odd number\n",
      "this is an even number\n",
      "this is odd number\n",
      "this is an even number\n",
      "this is odd number\n",
      "this is an even number\n",
      "this is odd number\n",
      "this is an even number\n",
      "this is odd number\n"
     ]
    }
   ],
   "source": [
    "for num in range(1,10):\n",
    "    mod = num % 2\n",
    "    if mod > 0:\n",
    "        print(\"this is odd number\")\n",
    "    else:\n",
    "        print(\"this is an even number\")"
   ]
  },
  {
   "cell_type": "code",
   "execution_count": 27,
   "metadata": {},
   "outputs": [
    {
     "name": "stdout",
     "output_type": "stream",
     "text": [
      "2\n",
      "3\n"
     ]
    }
   ],
   "source": [
    "#Write a Python program to count the number 4 in a given list.\n",
    "def list_count(nums):\n",
    "    count = 0\n",
    "    for num in nums:\n",
    "        if num == 4:\n",
    "            count = count + 1\n",
    "    return count \n",
    "print(list_count([1, 4, 6, 7, 4]))\n",
    "print(list_count([1, 4, 6, 4, 7, 4]))"
   ]
  },
  {
   "cell_type": "code",
   "execution_count": 40,
   "metadata": {},
   "outputs": [
    {
     "name": "stdout",
     "output_type": "stream",
     "text": [
      "2\n",
      "1\n"
     ]
    }
   ],
   "source": [
    "def list_count(nums):\n",
    "    count = 0\n",
    "    for num in nums:\n",
    "        if num == 4:\n",
    "            count = count + 1\n",
    "    return count \n",
    "print(list_count([1,4,5,7,4]))\n",
    "print(list_count([1,3,5,4]))"
   ]
  },
  {
   "cell_type": "code",
   "execution_count": 51,
   "metadata": {},
   "outputs": [
    {
     "name": "stdout",
     "output_type": "stream",
     "text": [
      "abab\n",
      "ppp\n"
     ]
    }
   ],
   "source": [
    "# Write a Python program to get the n (non-negative integer) copies of the first 2 characters of a given string. Return the n copies of the whole string if the length is less than 2.\n",
    "\n",
    "def sub_string(str,n):\n",
    "    flen = 2\n",
    "    if flen > len(str):\n",
    "        flen = len(str)\n",
    "    substr = str[:flen]\n",
    "    \n",
    "    result = \"\"\n",
    "    \n",
    "    for i in range(n):\n",
    "        result = result + substr\n",
    "    return result\n",
    "print(sub_string('abcdef', 2))\n",
    "print(sub_string('p', 3));\n"
   ]
  },
  {
   "cell_type": "code",
   "execution_count": 57,
   "metadata": {},
   "outputs": [
    {
     "name": "stdout",
     "output_type": "stream",
     "text": [
      "False\n"
     ]
    }
   ],
   "source": [
    "#Write a Python program to test whether a passed letter is a vowel or not.\n",
    "def vowel(char):\n",
    "    all_vo = 'aeiou'\n",
    "    return char in all_vo\n",
    "print(vowel('d'))"
   ]
  },
  {
   "cell_type": "code",
   "execution_count": 58,
   "metadata": {},
   "outputs": [
    {
     "name": "stdout",
     "output_type": "stream",
     "text": [
      "True\n",
      "False\n"
     ]
    }
   ],
   "source": [
    "#Python: Check whether a specified value is contained in a group of values\n",
    "def is_group_member(group_data, n):\n",
    "    for value in group_data:\n",
    "        if n == value:\n",
    "            return True\n",
    "    return False\n",
    "print(is_group_member([1, 5, 8, 3], 3))\n",
    "print(is_group_member([5, 8, 3], -1))"
   ]
  },
  {
   "cell_type": "code",
   "execution_count": null,
   "metadata": {},
   "outputs": [],
   "source": []
  }
 ],
 "metadata": {
  "kernelspec": {
   "display_name": "Python 3",
   "language": "python",
   "name": "python3"
  },
  "language_info": {
   "codemirror_mode": {
    "name": "ipython",
    "version": 3
   },
   "file_extension": ".py",
   "mimetype": "text/x-python",
   "name": "python",
   "nbconvert_exporter": "python",
   "pygments_lexer": "ipython3",
   "version": "3.7.6"
  },
  "toc": {
   "base_numbering": 1,
   "nav_menu": {},
   "number_sections": true,
   "sideBar": true,
   "skip_h1_title": false,
   "title_cell": "Table of Contents",
   "title_sidebar": "Contents",
   "toc_cell": false,
   "toc_position": {},
   "toc_section_display": true,
   "toc_window_display": false
  },
  "varInspector": {
   "cols": {
    "lenName": 16,
    "lenType": 16,
    "lenVar": 40
   },
   "kernels_config": {
    "python": {
     "delete_cmd_postfix": "",
     "delete_cmd_prefix": "del ",
     "library": "var_list.py",
     "varRefreshCmd": "print(var_dic_list())"
    },
    "r": {
     "delete_cmd_postfix": ") ",
     "delete_cmd_prefix": "rm(",
     "library": "var_list.r",
     "varRefreshCmd": "cat(var_dic_list()) "
    }
   },
   "types_to_exclude": [
    "module",
    "function",
    "builtin_function_or_method",
    "instance",
    "_Feature"
   ],
   "window_display": false
  }
 },
 "nbformat": 4,
 "nbformat_minor": 2
}

{
 "cells": [
  {
   "cell_type": "code",
   "execution_count": 22,
   "metadata": {},
   "outputs": [
    {
     "name": "stdout",
     "output_type": "stream",
     "text": [
      "assert not None\n",
      "7\n",
      "assert None\n",
      "assert not None\n"
     ]
    }
   ],
   "source": [
    "def check_sums(array, k):\n",
    "    potential_solutions = set()\n",
    "    #print(potential_solutions)\n",
    "    for num in array:\n",
    "        #print(num)\n",
    "        #print(array)\n",
    "        if num in potential_solutions:\n",
    "            print(num)\n",
    "            #return True\n",
    "        potential_solutions.add(k - num)\n",
    "        #print(potential_solutions)\n",
    "    \n",
    "    #return False\n",
    "\n",
    "\n",
    "print(\"assert not\", check_sums([], 17))\n",
    "print(\"assert\", check_sums([10, 15, 3, 7], 17))\n",
    "print(\"assert not\", check_sums([10, 15, 3, 4], 17))"
   ]
  },
  {
   "cell_type": "code",
   "execution_count": 23,
   "metadata": {},
   "outputs": [
    {
     "name": "stdout",
     "output_type": "stream",
     "text": [
      "K'th smallest element is 5\n"
     ]
    }
   ],
   "source": [
    "def kthSmallest(arr, n, k):\n",
    " \n",
    "    # Sort the given array \n",
    "    arr.sort()\n",
    " \n",
    "    # Return k'th element in the \n",
    "    # sorted array \n",
    "    return arr[k-1]\n",
    " \n",
    "# Driver code\n",
    "if __name__=='__main__':\n",
    "    arr = [12, 3, 5, 7, 19]\n",
    "    n = len(arr)\n",
    "    k = 2\n",
    "    print(\"K'th smallest element is\",\n",
    "          kthSmallest(arr, n, k))"
   ]
  },
  {
   "cell_type": "code",
   "execution_count": 41,
   "metadata": {},
   "outputs": [
    {
     "name": "stdout",
     "output_type": "stream",
     "text": [
      "K'th smallest element is 6\n"
     ]
    }
   ],
   "source": [
    "def k_smallth(arr,n,k):\n",
    "    arr.sort()\n",
    "    return arr[k-1]\n",
    "arr = [15, 5, 6, 9, 50]\n",
    "n = len(arr) \n",
    "k = 2\n",
    "print(\"K'th smallest element is\",k_smallth(arr, n, k))"
   ]
  },
  {
   "cell_type": "markdown",
   "metadata": {},
   "source": [
    "Reverse an array in groups of given size"
   ]
  },
  {
   "cell_type": "code",
   "execution_count": 24,
   "metadata": {},
   "outputs": [
    {
     "name": "stdout",
     "output_type": "stream",
     "text": [
      "3 2 1 6 5 4 8 7 "
     ]
    }
   ],
   "source": [
    "#Reverse an array in groups of given size\n",
    "\n",
    "# Python 3 program to reverse every  \n",
    "# sub-array formed by consecutive k \n",
    "# elements \n",
    "  \n",
    "# Function to reverse every sub-array \n",
    "# formed by consecutive k elements \n",
    "def reverse(arr, n, k): \n",
    "    i = 0\n",
    "      \n",
    "    while(i<n): \n",
    "      \n",
    "        left = i  \n",
    "  \n",
    "        # To handle case when k is not \n",
    "        # multiple of n \n",
    "        right = min(i + k - 1, n - 1)  \n",
    "  \n",
    "        # Reverse the sub-array [left, right] \n",
    "        while (left < right): \n",
    "              \n",
    "            arr[left], arr[right] = arr[right], arr[left] \n",
    "            left+= 1; \n",
    "            right-=1\n",
    "        i+= k \n",
    "      \n",
    "# Driver code \n",
    "arr = [1, 2, 3, 4, 5, 6, \n",
    "                   7, 8]  \n",
    "  \n",
    "k = 3\n",
    "n = len(arr)  \n",
    "reverse(arr, n, k) \n",
    "  \n",
    "for i in range(0, n): \n",
    "        print(arr[i], end =\" \") "
   ]
  },
  {
   "cell_type": "markdown",
   "metadata": {},
   "source": [
    "Fibonacci series between 0 to 50"
   ]
  },
  {
   "cell_type": "code",
   "execution_count": 25,
   "metadata": {},
   "outputs": [
    {
     "name": "stdout",
     "output_type": "stream",
     "text": [
      "1\n",
      "1\n",
      "2\n",
      "3\n",
      "5\n",
      "8\n",
      "13\n",
      "21\n",
      "34\n"
     ]
    }
   ],
   "source": [
    "x,y = 0,1 \n",
    "while y < 50:\n",
    "    print(y)\n",
    "    x,y = y,x+y "
   ]
  },
  {
   "cell_type": "code",
   "execution_count": 26,
   "metadata": {},
   "outputs": [
    {
     "name": "stdout",
     "output_type": "stream",
     "text": [
      "1\n",
      "1\n",
      "2\n",
      "3\n",
      "5\n",
      "8\n",
      "13\n",
      "21\n",
      "34\n"
     ]
    }
   ],
   "source": [
    "x,y = 0,1 \n",
    "while y < 50:\n",
    "    print(y)\n",
    "    x,y = y,x+y "
   ]
  },
  {
   "cell_type": "markdown",
   "metadata": {},
   "source": [
    "Write a Python program which takes two digits m (row) and n (column) as input and generates a two-dimensional array. The element value in the i-th row and j-th column of the array should be i*j."
   ]
  },
  {
   "cell_type": "code",
   "execution_count": 32,
   "metadata": {},
   "outputs": [
    {
     "name": "stdout",
     "output_type": "stream",
     "text": [
      "Input number of rows: 3\n",
      "Input number of columns: 5\n",
      "[[0, 0, 0, 0, 0], [0, 1, 2, 3, 4], [0, 2, 4, 6, 8]]\n"
     ]
    }
   ],
   "source": [
    "row_num = int(input(\"Input number of rows: \"))\n",
    "col_num = int(input(\"Input number of columns: \"))\n",
    "multi_list = [[0 for col in range(col_num)] for row in range(row_num)]\n",
    "\n",
    "for row in range(row_num):\n",
    "    for col in range(col_num):\n",
    "        multi_list[row][col]= row*col\n",
    "\n",
    "print(multi_list)\n"
   ]
  },
  {
   "cell_type": "code",
   "execution_count": 40,
   "metadata": {},
   "outputs": [
    {
     "name": "stdout",
     "output_type": "stream",
     "text": [
      "intput number of rows:3\n",
      "input num of color:3\n",
      "[[0, 0, 0], [0, 1, 2], [0, 2, 4]]\n"
     ]
    }
   ],
   "source": [
    "row_num = int(input(\"intput number of rows:\"))\n",
    "col_num = int(input(\"input num of color:\")) \n",
    "multi_list = [[0 for col in range(col_num)] for row in range(row_num)]\n",
    "for row in range(row_num):\n",
    "    for col in range(col_num):\n",
    "        multi_list[row][col] = row*col \n",
    "print(multi_list)"
   ]
  },
  {
   "cell_type": "markdown",
   "metadata": {},
   "source": [
    "Write a Python program that accepts a sequence of lines (blank line to terminate) as input and prints the lines as output (all characters in lower case)."
   ]
  },
  {
   "cell_type": "code",
   "execution_count": 49,
   "metadata": {},
   "outputs": [
    {
     "name": "stdout",
     "output_type": "stream",
     "text": [
      "this win \n",
      "THIS WIN \n"
     ]
    }
   ],
   "source": [
    "l = input()\n",
    "line = []\n",
    "while True :\n",
    "    \n",
    "    if l :\n",
    "        line.append(l.upper())\n",
    "        break\n",
    "    else:\n",
    "        break;\n",
    "for l in line:\n",
    "    print(l)\n",
    "\t"
   ]
  },
  {
   "cell_type": "code",
   "execution_count": 52,
   "metadata": {},
   "outputs": [
    {
     "name": "stdout",
     "output_type": "stream",
     "text": [
      "1111,1010,0101,0010,1100,0001\n",
      "1111,1010,0101\n"
     ]
    }
   ],
   "source": [
    "items = []\n",
    "num = [x for x in input().split(',')]\n",
    "for p in num:\n",
    "    x = int(p, 2)\n",
    "    if not x%5:\n",
    "        items.append(p)\n",
    "print(','.join(items))\n",
    "\n"
   ]
  },
  {
   "cell_type": "markdown",
   "metadata": {},
   "source": [
    "Write a Python program that accepts a string and calculate the number of digits and letters."
   ]
  },
  {
   "cell_type": "code",
   "execution_count": 60,
   "metadata": {},
   "outputs": [
    {
     "name": "stdout",
     "output_type": "stream",
     "text": [
      "Input a stringthisis10\n",
      "Letters 6\n",
      "Digits 2\n"
     ]
    }
   ],
   "source": [
    "s = input(\"Input a string\")\n",
    "d=l=0\n",
    "for c in s:\n",
    "    if c.isdigit():\n",
    "        d=d+1\n",
    "    elif c.isalpha():\n",
    "        l=l+1\n",
    "    else:\n",
    "        pass\n",
    "print(\"Letters\", l)\n",
    "print(\"Digits\", d)\n",
    "\n"
   ]
  },
  {
   "cell_type": "code",
   "execution_count": 70,
   "metadata": {},
   "outputs": [
    {
     "name": "stdout",
     "output_type": "stream",
     "text": [
      "Input your password12drf#asdAS\n",
      "Valid Password\n"
     ]
    }
   ],
   "source": [
    "import re\n",
    "p= input(\"Input your password\")\n",
    "x = True\n",
    "while x:  \n",
    "    if (len(p)<6 or len(p)>12):\n",
    "        break\n",
    "    elif not re.search(\"[a-z]\",p):\n",
    "        break\n",
    "    elif not re.search(\"[0-9]\",p):\n",
    "        break\n",
    "    elif not re.search(\"[A-Z]\",p):\n",
    "        break\n",
    "    elif not re.search(\"[$#@]\",p):\n",
    "        break\n",
    "    elif re.search(\"\\s\",p):\n",
    "        break\n",
    "    else:\n",
    "        print(\"Valid Password\")\n",
    "        x=False\n",
    "        break\n",
    "\n",
    "if x:\n",
    "    print(\"Not a Valid Password\")\n",
    "\n",
    "    \n"
   ]
  },
  {
   "cell_type": "markdown",
   "metadata": {},
   "source": [
    "Write a Python program to find numbers between 100 and 400 (both included) where each digit of a number is an even number. The numbers obtained should be printed in a comma-separated sequence."
   ]
  },
  {
   "cell_type": "code",
   "execution_count": 71,
   "metadata": {},
   "outputs": [
    {
     "name": "stdout",
     "output_type": "stream",
     "text": [
      "200,202,204,206,208,220,222,224,226,228,240,242,244,246,248,260,262,264,266,268,280,282,284,286,288,400\n"
     ]
    }
   ],
   "source": [
    "items = []\n",
    "for i in range(100, 401):\n",
    "    s = str(i)\n",
    "    if (int(s[0])%2==0) and (int(s[1])%2==0) and (int(s[2])%2==0):\n",
    "        items.append(s)\n",
    "print( \",\".join(items))\n"
   ]
  },
  {
   "cell_type": "markdown",
   "metadata": {},
   "source": [
    "Write a Python program to print alphabet pattern 'A'.\n"
   ]
  },
  {
   "cell_type": "code",
   "execution_count": null,
   "metadata": {},
   "outputs": [],
   "source": []
  },
  {
   "cell_type": "code",
   "execution_count": null,
   "metadata": {},
   "outputs": [],
   "source": []
  }
 ],
 "metadata": {
  "kernelspec": {
   "display_name": "Python 3",
   "language": "python",
   "name": "python3"
  },
  "language_info": {
   "codemirror_mode": {
    "name": "ipython",
    "version": 3
   },
   "file_extension": ".py",
   "mimetype": "text/x-python",
   "name": "python",
   "nbconvert_exporter": "python",
   "pygments_lexer": "ipython3",
   "version": "3.7.6"
  },
  "toc": {
   "base_numbering": 1,
   "nav_menu": {},
   "number_sections": true,
   "sideBar": true,
   "skip_h1_title": false,
   "title_cell": "Table of Contents",
   "title_sidebar": "Contents",
   "toc_cell": false,
   "toc_position": {},
   "toc_section_display": true,
   "toc_window_display": false
  },
  "varInspector": {
   "cols": {
    "lenName": 16,
    "lenType": 16,
    "lenVar": 40
   },
   "kernels_config": {
    "python": {
     "delete_cmd_postfix": "",
     "delete_cmd_prefix": "del ",
     "library": "var_list.py",
     "varRefreshCmd": "print(var_dic_list())"
    },
    "r": {
     "delete_cmd_postfix": ") ",
     "delete_cmd_prefix": "rm(",
     "library": "var_list.r",
     "varRefreshCmd": "cat(var_dic_list()) "
    }
   },
   "types_to_exclude": [
    "module",
    "function",
    "builtin_function_or_method",
    "instance",
    "_Feature"
   ],
   "window_display": false
  }
 },
 "nbformat": 4,
 "nbformat_minor": 2
}

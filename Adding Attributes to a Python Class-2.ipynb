{
 "cells": [
  {
   "cell_type": "code",
   "execution_count": 5,
   "metadata": {},
   "outputs": [
    {
     "name": "stdout",
     "output_type": "stream",
     "text": [
      "philo is 5 and mikey is 10\n"
     ]
    }
   ],
   "source": [
    "class dog:\n",
    "    species = \"mammal\"\n",
    "    \n",
    "    def __init__(self,name,age):\n",
    "        self.name = name\n",
    "        self.age = age\n",
    "        \n",
    "philo = dog('philo',5)\n",
    "mikey = dog('mikey',10)\n",
    "\n",
    "philo.age\n",
    "print(\"{} is {} and {} is {}\".format(philo.name,philo.age,mikey.name,mikey.age))"
   ]
  },
  {
   "cell_type": "code",
   "execution_count": 8,
   "metadata": {},
   "outputs": [
    {
     "name": "stdout",
     "output_type": "stream",
     "text": [
      "philo is a mammal\n"
     ]
    }
   ],
   "source": [
    "class dog:\n",
    "    species = \"mammal\"\n",
    "    \n",
    "    def __init__(self,name,age):\n",
    "        self.name = name\n",
    "        self.age = age\n",
    "        \n",
    "philo = dog('philo',5)\n",
    "mikey = dog('mikey',10)\n",
    "\n",
    "\n",
    "if philo.species == \"mammal\":\n",
    "    print(\"{} is a {}\".format(philo.name,philo.species))"
   ]
  },
  {
   "cell_type": "code",
   "execution_count": 12,
   "metadata": {},
   "outputs": [
    {
     "name": "stdout",
     "output_type": "stream",
     "text": [
      "philo is 5 and mikey is 7\n"
     ]
    }
   ],
   "source": [
    "class dog:\n",
    "    species = \"mammal\"\n",
    "    \n",
    "    def __init__(self,name,age):\n",
    "        self.name = name\n",
    "        self.age = age\n",
    "        \n",
    "philo = dog('philo',5)\n",
    "mikey = dog('mikey',10)\n",
    "\n",
    "mikey.age = 7 \n",
    "philo.species = 'mouse'\n",
    "print(\"{} is {} and {} is {}\".format(philo.name,philo.age,mikey.name,mikey.age))\n",
    "if philo.species == \"mammal\":\n",
    "    print(\"{} is a {}\".format(philo.name,philo.species))"
   ]
  },
  {
   "cell_type": "code",
   "execution_count": 16,
   "metadata": {},
   "outputs": [
    {
     "name": "stdout",
     "output_type": "stream",
     "text": [
      "mikey is 6 year old\n",
      "mikey say bark\n",
      "mikey is 7 year old\n"
     ]
    }
   ],
   "source": [
    "#method\n",
    "class dog:\n",
    "    species = \"mammal\"\n",
    "    \n",
    "    def __init__(self,name,age):\n",
    "        self.name = name\n",
    "        self.age = age\n",
    "        \n",
    "    def description(self):\n",
    "        return \"{} is {} year old\".format(self.name,self.age)\n",
    "    \n",
    "    def speak(self, sound):\n",
    "        return \"{} say {}\".format(self.name,sound)\n",
    "    \n",
    "    def birthday(self):\n",
    "        self.age += 1\n",
    "        \n",
    "mikey = dog(\"mikey\",6)\n",
    "\n",
    "print(mikey.description())\n",
    "\n",
    "print(mikey.speak(\"bark\"))\n",
    "\n",
    "mikey.birthday()\n",
    "\n",
    "print(mikey.description())"
   ]
  },
  {
   "cell_type": "code",
   "execution_count": null,
   "metadata": {},
   "outputs": [],
   "source": []
  }
 ],
 "metadata": {
  "kernelspec": {
   "display_name": "Python 3",
   "language": "python",
   "name": "python3"
  },
  "language_info": {
   "codemirror_mode": {
    "name": "ipython",
    "version": 3
   },
   "file_extension": ".py",
   "mimetype": "text/x-python",
   "name": "python",
   "nbconvert_exporter": "python",
   "pygments_lexer": "ipython3",
   "version": "3.7.6"
  },
  "toc": {
   "base_numbering": 1,
   "nav_menu": {},
   "number_sections": true,
   "sideBar": true,
   "skip_h1_title": false,
   "title_cell": "Table of Contents",
   "title_sidebar": "Contents",
   "toc_cell": false,
   "toc_position": {},
   "toc_section_display": true,
   "toc_window_display": false
  },
  "varInspector": {
   "cols": {
    "lenName": 16,
    "lenType": 16,
    "lenVar": 40
   },
   "kernels_config": {
    "python": {
     "delete_cmd_postfix": "",
     "delete_cmd_prefix": "del ",
     "library": "var_list.py",
     "varRefreshCmd": "print(var_dic_list())"
    },
    "r": {
     "delete_cmd_postfix": ") ",
     "delete_cmd_prefix": "rm(",
     "library": "var_list.r",
     "varRefreshCmd": "cat(var_dic_list()) "
    }
   },
   "types_to_exclude": [
    "module",
    "function",
    "builtin_function_or_method",
    "instance",
    "_Feature"
   ],
   "window_display": false
  }
 },
 "nbformat": 4,
 "nbformat_minor": 2
}
